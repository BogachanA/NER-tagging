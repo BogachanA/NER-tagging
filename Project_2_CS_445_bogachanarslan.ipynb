{
  "nbformat": 4,
  "nbformat_minor": 0,
  "metadata": {
    "colab": {
      "name": "Project 2 - CS 445 - bogachanarslan",
      "provenance": []
    },
    "kernelspec": {
      "name": "python3",
      "display_name": "Python 3"
    },
    "language_info": {
      "name": "python"
    },
    "gpuClass": "standard",
    "accelerator": "GPU"
  },
  "cells": [
    {
      "cell_type": "code",
      "source": [
        "!pip install -U 'scikit-learn<0.24'\n",
        "!pip install sklearn-crfsuite\n",
        "\n",
        "# YOU NEED TO RESTART THE RUNTIME!!!"
      ],
      "metadata": {
        "id": "JWvnWFHt_TqY",
        "colab": {
          "base_uri": "https://localhost:8080/",
          "height": 599
        },
        "outputId": "853ff762-1e14-4100-a105-3b9055cfef34"
      },
      "execution_count": null,
      "outputs": [
        {
          "output_type": "stream",
          "name": "stdout",
          "text": [
            "Looking in indexes: https://pypi.org/simple, https://us-python.pkg.dev/colab-wheels/public/simple/\n",
            "Collecting scikit-learn<0.24\n",
            "  Downloading scikit_learn-0.23.2-cp37-cp37m-manylinux1_x86_64.whl (6.8 MB)\n",
            "\u001b[K     |████████████████████████████████| 6.8 MB 9.7 MB/s \n",
            "\u001b[?25hRequirement already satisfied: threadpoolctl>=2.0.0 in /usr/local/lib/python3.7/dist-packages (from scikit-learn<0.24) (3.1.0)\n",
            "Requirement already satisfied: joblib>=0.11 in /usr/local/lib/python3.7/dist-packages (from scikit-learn<0.24) (1.1.0)\n",
            "Requirement already satisfied: numpy>=1.13.3 in /usr/local/lib/python3.7/dist-packages (from scikit-learn<0.24) (1.21.6)\n",
            "Requirement already satisfied: scipy>=0.19.1 in /usr/local/lib/python3.7/dist-packages (from scikit-learn<0.24) (1.4.1)\n",
            "Installing collected packages: scikit-learn\n",
            "  Attempting uninstall: scikit-learn\n",
            "    Found existing installation: scikit-learn 1.0.2\n",
            "    Uninstalling scikit-learn-1.0.2:\n",
            "      Successfully uninstalled scikit-learn-1.0.2\n",
            "\u001b[31mERROR: pip's dependency resolver does not currently take into account all the packages that are installed. This behaviour is the source of the following dependency conflicts.\n",
            "yellowbrick 1.4 requires scikit-learn>=1.0.0, but you have scikit-learn 0.23.2 which is incompatible.\n",
            "imbalanced-learn 0.8.1 requires scikit-learn>=0.24, but you have scikit-learn 0.23.2 which is incompatible.\u001b[0m\n",
            "Successfully installed scikit-learn-0.23.2\n"
          ]
        },
        {
          "output_type": "display_data",
          "data": {
            "application/vnd.colab-display-data+json": {
              "pip_warning": {
                "packages": [
                  "sklearn"
                ]
              }
            }
          },
          "metadata": {}
        },
        {
          "output_type": "stream",
          "name": "stdout",
          "text": [
            "Looking in indexes: https://pypi.org/simple, https://us-python.pkg.dev/colab-wheels/public/simple/\n",
            "Collecting sklearn-crfsuite\n",
            "  Downloading sklearn_crfsuite-0.3.6-py2.py3-none-any.whl (12 kB)\n",
            "Requirement already satisfied: six in /usr/local/lib/python3.7/dist-packages (from sklearn-crfsuite) (1.15.0)\n",
            "Requirement already satisfied: tabulate in /usr/local/lib/python3.7/dist-packages (from sklearn-crfsuite) (0.8.9)\n",
            "Collecting python-crfsuite>=0.8.3\n",
            "  Downloading python_crfsuite-0.9.8-cp37-cp37m-manylinux_2_17_x86_64.manylinux2014_x86_64.whl (965 kB)\n",
            "\u001b[K     |████████████████████████████████| 965 kB 7.8 MB/s \n",
            "\u001b[?25hRequirement already satisfied: tqdm>=2.0 in /usr/local/lib/python3.7/dist-packages (from sklearn-crfsuite) (4.64.0)\n",
            "Installing collected packages: python-crfsuite, sklearn-crfsuite\n",
            "Successfully installed python-crfsuite-0.9.8 sklearn-crfsuite-0.3.6\n"
          ]
        }
      ]
    },
    {
      "cell_type": "code",
      "execution_count": null,
      "metadata": {
        "id": "fZteNYk03GPL",
        "colab": {
          "base_uri": "https://localhost:8080/"
        },
        "outputId": "43c4889e-cc0e-45f5-a13b-05b1f381ac1e"
      },
      "outputs": [
        {
          "output_type": "stream",
          "name": "stdout",
          "text": [
            "Mounted at /content/drive\n"
          ]
        }
      ],
      "source": [
        "# Run this cell to mount your drive to this notebook in order to read the datasets\n",
        "from google.colab import drive\n",
        "drive.mount('/content/drive')"
      ]
    },
    {
      "cell_type": "code",
      "source": [
        "import os\n",
        "import re\n",
        "import json\n",
        "import pandas as pd\n",
        "import numpy as np\n",
        "\n",
        "import warnings\n",
        "warnings.filterwarnings(\"ignore\")"
      ],
      "metadata": {
        "id": "Du79PuQ7-MD8"
      },
      "execution_count": null,
      "outputs": []
    },
    {
      "cell_type": "markdown",
      "source": [
        "## Read Dataset"
      ],
      "metadata": {
        "id": "yOuZQf_I-PIq"
      }
    },
    {
      "cell_type": "code",
      "source": [
        "# Put the folder path where the datasets are located\n",
        "PATH = \"/content/drive/MyDrive/445Project2/\""
      ],
      "metadata": {
        "id": "YF7EABYQ-JNt"
      },
      "execution_count": null,
      "outputs": []
    },
    {
      "cell_type": "code",
      "source": [
        "# function to read data, return list of tuples each tuple represents a token contains word, pos tag, chunk tag, and ner tag\n",
        "def read_data(filename) -> list:\n",
        "  tuples = []\n",
        "  currSent = []\n",
        "  for l in open(filename,'r').readlines():\n",
        "    if l.strip() == \"\":\n",
        "      tuples.append(currSent)\n",
        "      currSent = []\n",
        "    else: \n",
        "      currSent.append(tuple(l.strip().split(\" \")))\n",
        "  if len(currSent) !=0:\n",
        "    tuples.append(currSent)\n",
        "  #tuples = [tuple(l.strip().split(\" \")) for l in open(filename,'r').readlines() if l.strip() != \"\" ]\n",
        "  return tuples"
      ],
      "metadata": {
        "id": "fmYh526h-QC1"
      },
      "execution_count": null,
      "outputs": []
    },
    {
      "cell_type": "code",
      "source": [
        "# read data with your custom function\n",
        "train_data = read_data(PATH + \"train.txt\")\n",
        "val_data = read_data(PATH + \"valid.txt\")\n",
        "test_data = read_data(PATH + \"test.txt\")"
      ],
      "metadata": {
        "id": "pgPCBhbj-dSJ"
      },
      "execution_count": null,
      "outputs": []
    },
    {
      "cell_type": "code",
      "source": [
        "print(len(train_data))\n",
        "print(len(val_data))\n",
        "print(len(test_data))"
      ],
      "metadata": {
        "id": "plUtQgW0lE-x",
        "outputId": "2c1b3339-34d4-4b48-b8b5-a9d0d1b0509a",
        "colab": {
          "base_uri": "https://localhost:8080/"
        }
      },
      "execution_count": null,
      "outputs": [
        {
          "output_type": "stream",
          "name": "stdout",
          "text": [
            "14987\n",
            "3466\n",
            "3684\n"
          ]
        }
      ]
    },
    {
      "cell_type": "markdown",
      "source": [
        "# Create Gazetteer"
      ],
      "metadata": {
        "id": "ECYsXDBl-7mx"
      }
    },
    {
      "cell_type": "code",
      "source": [
        "# load wikipedia pages\n",
        "W_PATH = PATH + \"wikipedia_pages/\"\n",
        "\n",
        "count = 0\n",
        "gazetteer = set()\n",
        "for filename in os.listdir(W_PATH):\n",
        "  f = open(W_PATH + filename, 'r')\n",
        "  j = json.load(f)\n",
        "  #print(\"Reading:\",j[\"title\"])\n",
        "  matches = re.findall('a href=\\\"[A-Z][^\\s]+\\\"&gt;(?P<link>[A-Z][\\w ]*)&lt;',j[\"text\"])\n",
        "  gazetteer.update(matches)\n",
        "  gazetteer.add(j[\"title\"])\n",
        "  count +=1\n",
        "  #print(count,end=\" \")\n",
        "  #if count > 4: break\n"
      ],
      "metadata": {
        "id": "SK6R3SzM-_6g"
      },
      "execution_count": null,
      "outputs": []
    },
    {
      "cell_type": "code",
      "source": [
        "# print the size of your gazetteer\n",
        "print(len(gazetteer))"
      ],
      "metadata": {
        "id": "JXeoJckq_BK5",
        "colab": {
          "base_uri": "https://localhost:8080/"
        },
        "outputId": "3ac14d75-ddba-489d-d40f-fb76375f234a"
      },
      "execution_count": null,
      "outputs": [
        {
          "output_type": "stream",
          "name": "stdout",
          "text": [
            "244670\n"
          ]
        }
      ]
    },
    {
      "cell_type": "markdown",
      "source": [
        "# Models"
      ],
      "metadata": {
        "id": "8hbhw-VC_Bni"
      }
    },
    {
      "cell_type": "markdown",
      "source": [
        "## Conditional Random Fields (CRF)"
      ],
      "metadata": {
        "id": "INZH7AlE_Fnw"
      }
    },
    {
      "cell_type": "markdown",
      "source": [
        "### Extract features for CRF"
      ],
      "metadata": {
        "id": "07ac67uI_Ity"
      }
    },
    {
      "cell_type": "code",
      "source": [
        "import nltk\n",
        "from nltk.stem import PorterStemmer\n",
        "\n",
        "nltk.download('stopwords')\n",
        "from nltk.corpus import stopwords\n",
        "\n",
        "import sklearn_crfsuite\n",
        "from sklearn.metrics import make_scorer\n",
        "from sklearn_crfsuite import scorers\n",
        "from sklearn_crfsuite import metrics\n",
        "from sklearn.model_selection import GridSearchCV"
      ],
      "metadata": {
        "id": "UKh8kvu6_Dze",
        "colab": {
          "base_uri": "https://localhost:8080/"
        },
        "outputId": "626a9855-9e47-4235-d30d-41f6ed653419"
      },
      "execution_count": null,
      "outputs": [
        {
          "output_type": "stream",
          "name": "stderr",
          "text": [
            "[nltk_data] Downloading package stopwords to /root/nltk_data...\n",
            "[nltk_data]   Package stopwords is already up-to-date!\n"
          ]
        }
      ]
    },
    {
      "cell_type": "code",
      "source": [
        "# create a function to extract features for each token\n",
        "\n",
        "def token2features(sentence: list, idx: int) -> dict:\n",
        "  word = sentence[idx][0]\n",
        "\n",
        "  features = {\n",
        "      'bias': 1.0,\n",
        "      'stem': stem(word),\n",
        "      'postag': sentence[idx][1],\n",
        "      'chunktag': sentence[idx][2],\n",
        "      'shortShape': shortShape(word),\n",
        "      'containsNum': containsNum(word),\n",
        "      'startUppercase': startUppercase(word),\n",
        "      'wiShape': wiShape(word),\n",
        "      'containsHyphen':containsHyphen(word),\n",
        "      'upperHyphenDigit': upperHyphenDigit(word),\n",
        "      'allUpper': allUpper(word),\n",
        "      'isStopWord':isStopWord(word),\n",
        "      'upper':upper(word),\n",
        "      'inGazetteer': inGazetteer(word),\n",
        "      'prefix': word[:3],\n",
        "      'suffix': word[-3:]\n",
        "  }\n",
        "  if idx > 0:\n",
        "    leftword = sentence[idx-1][0]\n",
        "    features.update({\n",
        "        'left':leftword,\n",
        "        'left-postag': sentence[idx-1][1],\n",
        "        'left-chunktag': sentence[idx-1][2],\n",
        "        'left-wiShape':wiShape(leftword),\n",
        "        'left-shortShape': shortShape(leftword),\n",
        "        'beginning': False\n",
        "    })\n",
        "  else:\n",
        "    features['beginning'] = True\n",
        "  \n",
        "  if idx == len(sentence)-1:\n",
        "    features['end'] = True\n",
        "  else:\n",
        "    rightword = sentence[idx+1][0]\n",
        "    features.update({\n",
        "        'right':rightword,\n",
        "        'right-postag': sentence[idx+1][1],\n",
        "        'right-chunktag': sentence[idx+1][2],\n",
        "        'right-wiShape':wiShape(rightword),\n",
        "        'right-shortShape': shortShape(rightword),\n",
        "        'end': False\n",
        "    })\n",
        "\n",
        "  return features\n"
      ],
      "metadata": {
        "id": "y_8lrN7Z_bHz"
      },
      "execution_count": null,
      "outputs": []
    },
    {
      "cell_type": "code",
      "source": [
        "# Feature functions\n",
        "\n",
        "ps=PorterStemmer()\n",
        "def stem(word):\n",
        "  return ps.stem(word)\n",
        "\n",
        "def startUppercase(word):\n",
        "  return 'A'< word[0] < 'Z'\n",
        "\n",
        "def wiShape(word):\n",
        "  regs = [\"[A-Z]\", \"[a-z]\", \"[0-9]\"]\n",
        "  subs = [\"X\",\"x\",\"d\"]\n",
        "\n",
        "  for i in range(len(regs)):\n",
        "    word = re.sub(regs[i],subs[i],word)\n",
        "  return word\n",
        "\n",
        "def shortShape(word):\n",
        "  regs = [\"[A-Z]+\", \"[a-z]+\", \"[0-9]+\"]\n",
        "  subs = [\"X\",\"x\",\"d\"]\n",
        "\n",
        "  for i in range(len(regs)):\n",
        "    word = re.sub(regs[i],subs[i],word)\n",
        "  return word\n",
        "\n",
        "def containsNum(word):\n",
        "  for i in range(len(word)):\n",
        "    if word[i].isdigit(): return True\n",
        "  return False\n",
        "\n",
        "def containsHyphen(word):\n",
        "  for i in range(len(word)):\n",
        "    if word[i]=='-': return True\n",
        "  return False\n",
        "\n",
        "def allUpper(word):\n",
        "  return word.isupper()\n",
        "\n",
        "def upperHyphenDigit(word):\n",
        "  return allUpper(word) and containsNum(word) and containsHyphen(word)\n",
        "\n",
        "def isStopWord(word):\n",
        "  return word in stopwords.words('english')\n",
        "\n",
        "def upper(word):\n",
        "  return word.upper()\n",
        "\n",
        "def inGazetteer(word):\n",
        "  global gazetteer\n",
        "  return word in gazetteer"
      ],
      "metadata": {
        "id": "YHDKFUF4Yc2v"
      },
      "execution_count": null,
      "outputs": []
    },
    {
      "cell_type": "code",
      "source": [
        "print(allUpper(\"ShdDDHD4D4\"))"
      ],
      "metadata": {
        "colab": {
          "base_uri": "https://localhost:8080/"
        },
        "id": "SbtMj0C-ZVhh",
        "outputId": "101263a6-c612-489b-eaf6-915d18ffcaff"
      },
      "execution_count": null,
      "outputs": [
        {
          "output_type": "stream",
          "name": "stdout",
          "text": [
            "False\n"
          ]
        }
      ]
    },
    {
      "cell_type": "code",
      "source": [
        "# define function to process each token given a sentence\n",
        "def sent2features(sentence: list) -> list:\n",
        "  return [token2features(sentence, i) for i in range(len(sentence))]\n",
        "\n",
        "# get named entity labels from the sentence\n",
        "def sent2labels(sentence: list) -> list:\n",
        "  return [s[3] for s in sentence]"
      ],
      "metadata": {
        "id": "v57POpXU_bK8"
      },
      "execution_count": null,
      "outputs": []
    },
    {
      "cell_type": "code",
      "source": [
        "# prepare inputs and labels\n",
        "train_sents = [sent2features(s) for s in train_data]\n",
        "val_sents = [sent2features(s) for s in val_data]\n",
        "test_sents = [sent2features(s) for s in test_data]\n",
        "\n",
        "train_labels = [sent2labels(s) for s in train_data]\n",
        "val_labels = [sent2labels(s) for s in val_data]\n",
        "test_labels = [sent2labels(s) for s in test_data]"
      ],
      "metadata": {
        "id": "5ta1NN3b_vkl"
      },
      "execution_count": null,
      "outputs": []
    },
    {
      "cell_type": "code",
      "source": [
        "# calculate f1-score and classification report for test using sklearn_crfsuite.metrics class\n",
        "train_sents[4][2]"
      ],
      "metadata": {
        "id": "KgfYVqnBA1lA",
        "colab": {
          "base_uri": "https://localhost:8080/"
        },
        "outputId": "96014e06-5642-473e-f3db-702998258d49"
      },
      "execution_count": null,
      "outputs": [
        {
          "output_type": "execute_result",
          "data": {
            "text/plain": [
              "{'allUpper': False,\n",
              " 'beginning': False,\n",
              " 'bias': 1.0,\n",
              " 'chunktag': 'I-NP',\n",
              " 'containsHyphen': False,\n",
              " 'containsNum': False,\n",
              " 'end': False,\n",
              " 'isStopWord': False,\n",
              " 'left': 'European',\n",
              " 'left-chunktag': 'I-NP',\n",
              " 'left-postag': 'NNP',\n",
              " 'left-shortShape': 'Xx',\n",
              " 'left-wiShape': 'Xxxxxxxx',\n",
              " 'postag': 'NNP',\n",
              " 'prefix': 'Com',\n",
              " 'right': 'said',\n",
              " 'right-chunktag': 'B-VP',\n",
              " 'right-postag': 'VBD',\n",
              " 'right-shortShape': 'x',\n",
              " 'right-wiShape': 'xxxx',\n",
              " 'shortShape': 'Xx',\n",
              " 'startUppercase': True,\n",
              " 'stem': 'commiss',\n",
              " 'suffix': 'ion',\n",
              " 'upper': 'COMMISSION',\n",
              " 'upperHyphenDigit': False,\n",
              " 'wiShape': 'Xxxxxxxxxx'}"
            ]
          },
          "metadata": {},
          "execution_count": 20
        }
      ]
    },
    {
      "cell_type": "code",
      "source": [
        "# start from the stem of the token and add features one by one and train a new model with each feature that you add\n",
        "\n",
        "keys = set(train_sents[0][0].keys())\n",
        "keys.update(train_sents[4][2].keys())\n",
        "keys = list(keys)"
      ],
      "metadata": {
        "id": "UqCdjg67A1on"
      },
      "execution_count": null,
      "outputs": []
    },
    {
      "cell_type": "code",
      "source": [
        "# CRF fit\n",
        "import copy\n",
        "\n",
        "crf = sklearn_crfsuite.CRF(algorithm='lbfgs',\n",
        "          c1=0.1,\n",
        "          c2=0.1,\n",
        "          max_iterations=100,\n",
        "          all_possible_transitions=False)\n",
        "\n",
        "tf_copy = copy.deepcopy(train_sents)\n",
        "for j in range(len(tf_copy)):\n",
        "  for k in range(len(tf_copy[j])):\n",
        "    tf_copy[j][k] = {}\n",
        "\n",
        "results = {'Features': [], 'F1 Score':[], 'Precision':[],'Recall':[]}\n",
        "\n",
        "for i in range(len(keys)):\n",
        "\n",
        "  for j in range(len(tf_copy)):\n",
        "    for k in range(len(tf_copy[j])):\n",
        "      if keys[i] in train_sents[j][k].keys():\n",
        "        tf_copy[j][k].update({keys[i]:train_sents[j][k][keys[i]]})\n",
        "\n",
        "  crf.fit(tf_copy, train_labels)\n",
        "\n",
        "  y_pred = crf.predict(val_sents)\n",
        "  f1 = metrics.flat_f1_score(val_labels, y_pred,\n",
        "                      average='weighted', labels=list(crf.classes_))\n",
        "  pre =  metrics.flat_precision_score(val_labels, y_pred,\n",
        "                      average='weighted', labels=list(crf.classes_))\n",
        "  re = metrics.flat_recall_score(val_labels, y_pred,\n",
        "                      average='weighted', labels=list(crf.classes_))\n",
        "  \n",
        "  results['Features'].append(keys[i])\n",
        "  results['F1 Score'].append(f1)\n",
        "  results['Precision'].append(pre)\n",
        "  results['Recall'].append(re)\n",
        "\n",
        "\n",
        "df = pd.DataFrame(results)\n",
        "df"
      ],
      "metadata": {
        "colab": {
          "base_uri": "https://localhost:8080/",
          "height": 917
        },
        "id": "N5SPV4i8hVri",
        "outputId": "1325b78a-e1bc-4d41-8a03-f9d47bbadf4f"
      },
      "execution_count": null,
      "outputs": [
        {
          "output_type": "execute_result",
          "data": {
            "text/plain": [
              "            Features  F1 Score  Precision    Recall\n",
              "0             postag  0.872546   0.876800  0.880278\n",
              "1     containsHyphen  0.872944   0.877237  0.881209\n",
              "2               bias  0.872765   0.876855  0.880860\n",
              "3     startUppercase  0.887337   0.891581  0.891640\n",
              "4        inGazetteer  0.887271   0.886526  0.893501\n",
              "5   right-shortShape  0.910537   0.911556  0.913102\n",
              "6           allUpper  0.910644   0.911401  0.913432\n",
              "7              right  0.942502   0.942844  0.943251\n",
              "8             prefix  0.965754   0.965637  0.966226\n",
              "9        containsNum  0.966018   0.965921  0.966478\n",
              "10    right-chunktag  0.966191   0.966048  0.966652\n",
              "11         beginning  0.965978   0.965809  0.966420\n",
              "12            suffix  0.972671   0.972472  0.973031\n",
              "13        shortShape  0.973307   0.973233  0.973496\n",
              "14     right-wiShape  0.973629   0.973574  0.973807\n",
              "15     left-chunktag  0.974560   0.974443  0.974776\n",
              "16   left-shortShape  0.975303   0.975195  0.975493\n",
              "17  upperHyphenDigit  0.975006   0.974873  0.975222\n",
              "18              left  0.977281   0.977189  0.977529\n",
              "19           wiShape  0.977678   0.977603  0.977898\n",
              "20      right-postag  0.977576   0.977509  0.977781\n",
              "21          chunktag  0.977464   0.977376  0.977684\n",
              "22        isStopWord  0.977462   0.977398  0.977684\n",
              "23               end  0.977476   0.977441  0.977684\n",
              "24      left-wiShape  0.977636   0.977565  0.977859\n",
              "25              stem  0.979061   0.979007  0.979255\n",
              "26       left-postag  0.979535   0.979473  0.979720\n",
              "27             upper  0.979754   0.979678  0.979972"
            ],
            "text/html": [
              "\n",
              "  <div id=\"df-ade278db-1c24-45fc-bfc2-d636fb8a0251\">\n",
              "    <div class=\"colab-df-container\">\n",
              "      <div>\n",
              "<style scoped>\n",
              "    .dataframe tbody tr th:only-of-type {\n",
              "        vertical-align: middle;\n",
              "    }\n",
              "\n",
              "    .dataframe tbody tr th {\n",
              "        vertical-align: top;\n",
              "    }\n",
              "\n",
              "    .dataframe thead th {\n",
              "        text-align: right;\n",
              "    }\n",
              "</style>\n",
              "<table border=\"1\" class=\"dataframe\">\n",
              "  <thead>\n",
              "    <tr style=\"text-align: right;\">\n",
              "      <th></th>\n",
              "      <th>Features</th>\n",
              "      <th>F1 Score</th>\n",
              "      <th>Precision</th>\n",
              "      <th>Recall</th>\n",
              "    </tr>\n",
              "  </thead>\n",
              "  <tbody>\n",
              "    <tr>\n",
              "      <th>0</th>\n",
              "      <td>postag</td>\n",
              "      <td>0.872546</td>\n",
              "      <td>0.876800</td>\n",
              "      <td>0.880278</td>\n",
              "    </tr>\n",
              "    <tr>\n",
              "      <th>1</th>\n",
              "      <td>containsHyphen</td>\n",
              "      <td>0.872944</td>\n",
              "      <td>0.877237</td>\n",
              "      <td>0.881209</td>\n",
              "    </tr>\n",
              "    <tr>\n",
              "      <th>2</th>\n",
              "      <td>bias</td>\n",
              "      <td>0.872765</td>\n",
              "      <td>0.876855</td>\n",
              "      <td>0.880860</td>\n",
              "    </tr>\n",
              "    <tr>\n",
              "      <th>3</th>\n",
              "      <td>startUppercase</td>\n",
              "      <td>0.887337</td>\n",
              "      <td>0.891581</td>\n",
              "      <td>0.891640</td>\n",
              "    </tr>\n",
              "    <tr>\n",
              "      <th>4</th>\n",
              "      <td>inGazetteer</td>\n",
              "      <td>0.887271</td>\n",
              "      <td>0.886526</td>\n",
              "      <td>0.893501</td>\n",
              "    </tr>\n",
              "    <tr>\n",
              "      <th>5</th>\n",
              "      <td>right-shortShape</td>\n",
              "      <td>0.910537</td>\n",
              "      <td>0.911556</td>\n",
              "      <td>0.913102</td>\n",
              "    </tr>\n",
              "    <tr>\n",
              "      <th>6</th>\n",
              "      <td>allUpper</td>\n",
              "      <td>0.910644</td>\n",
              "      <td>0.911401</td>\n",
              "      <td>0.913432</td>\n",
              "    </tr>\n",
              "    <tr>\n",
              "      <th>7</th>\n",
              "      <td>right</td>\n",
              "      <td>0.942502</td>\n",
              "      <td>0.942844</td>\n",
              "      <td>0.943251</td>\n",
              "    </tr>\n",
              "    <tr>\n",
              "      <th>8</th>\n",
              "      <td>prefix</td>\n",
              "      <td>0.965754</td>\n",
              "      <td>0.965637</td>\n",
              "      <td>0.966226</td>\n",
              "    </tr>\n",
              "    <tr>\n",
              "      <th>9</th>\n",
              "      <td>containsNum</td>\n",
              "      <td>0.966018</td>\n",
              "      <td>0.965921</td>\n",
              "      <td>0.966478</td>\n",
              "    </tr>\n",
              "    <tr>\n",
              "      <th>10</th>\n",
              "      <td>right-chunktag</td>\n",
              "      <td>0.966191</td>\n",
              "      <td>0.966048</td>\n",
              "      <td>0.966652</td>\n",
              "    </tr>\n",
              "    <tr>\n",
              "      <th>11</th>\n",
              "      <td>beginning</td>\n",
              "      <td>0.965978</td>\n",
              "      <td>0.965809</td>\n",
              "      <td>0.966420</td>\n",
              "    </tr>\n",
              "    <tr>\n",
              "      <th>12</th>\n",
              "      <td>suffix</td>\n",
              "      <td>0.972671</td>\n",
              "      <td>0.972472</td>\n",
              "      <td>0.973031</td>\n",
              "    </tr>\n",
              "    <tr>\n",
              "      <th>13</th>\n",
              "      <td>shortShape</td>\n",
              "      <td>0.973307</td>\n",
              "      <td>0.973233</td>\n",
              "      <td>0.973496</td>\n",
              "    </tr>\n",
              "    <tr>\n",
              "      <th>14</th>\n",
              "      <td>right-wiShape</td>\n",
              "      <td>0.973629</td>\n",
              "      <td>0.973574</td>\n",
              "      <td>0.973807</td>\n",
              "    </tr>\n",
              "    <tr>\n",
              "      <th>15</th>\n",
              "      <td>left-chunktag</td>\n",
              "      <td>0.974560</td>\n",
              "      <td>0.974443</td>\n",
              "      <td>0.974776</td>\n",
              "    </tr>\n",
              "    <tr>\n",
              "      <th>16</th>\n",
              "      <td>left-shortShape</td>\n",
              "      <td>0.975303</td>\n",
              "      <td>0.975195</td>\n",
              "      <td>0.975493</td>\n",
              "    </tr>\n",
              "    <tr>\n",
              "      <th>17</th>\n",
              "      <td>upperHyphenDigit</td>\n",
              "      <td>0.975006</td>\n",
              "      <td>0.974873</td>\n",
              "      <td>0.975222</td>\n",
              "    </tr>\n",
              "    <tr>\n",
              "      <th>18</th>\n",
              "      <td>left</td>\n",
              "      <td>0.977281</td>\n",
              "      <td>0.977189</td>\n",
              "      <td>0.977529</td>\n",
              "    </tr>\n",
              "    <tr>\n",
              "      <th>19</th>\n",
              "      <td>wiShape</td>\n",
              "      <td>0.977678</td>\n",
              "      <td>0.977603</td>\n",
              "      <td>0.977898</td>\n",
              "    </tr>\n",
              "    <tr>\n",
              "      <th>20</th>\n",
              "      <td>right-postag</td>\n",
              "      <td>0.977576</td>\n",
              "      <td>0.977509</td>\n",
              "      <td>0.977781</td>\n",
              "    </tr>\n",
              "    <tr>\n",
              "      <th>21</th>\n",
              "      <td>chunktag</td>\n",
              "      <td>0.977464</td>\n",
              "      <td>0.977376</td>\n",
              "      <td>0.977684</td>\n",
              "    </tr>\n",
              "    <tr>\n",
              "      <th>22</th>\n",
              "      <td>isStopWord</td>\n",
              "      <td>0.977462</td>\n",
              "      <td>0.977398</td>\n",
              "      <td>0.977684</td>\n",
              "    </tr>\n",
              "    <tr>\n",
              "      <th>23</th>\n",
              "      <td>end</td>\n",
              "      <td>0.977476</td>\n",
              "      <td>0.977441</td>\n",
              "      <td>0.977684</td>\n",
              "    </tr>\n",
              "    <tr>\n",
              "      <th>24</th>\n",
              "      <td>left-wiShape</td>\n",
              "      <td>0.977636</td>\n",
              "      <td>0.977565</td>\n",
              "      <td>0.977859</td>\n",
              "    </tr>\n",
              "    <tr>\n",
              "      <th>25</th>\n",
              "      <td>stem</td>\n",
              "      <td>0.979061</td>\n",
              "      <td>0.979007</td>\n",
              "      <td>0.979255</td>\n",
              "    </tr>\n",
              "    <tr>\n",
              "      <th>26</th>\n",
              "      <td>left-postag</td>\n",
              "      <td>0.979535</td>\n",
              "      <td>0.979473</td>\n",
              "      <td>0.979720</td>\n",
              "    </tr>\n",
              "    <tr>\n",
              "      <th>27</th>\n",
              "      <td>upper</td>\n",
              "      <td>0.979754</td>\n",
              "      <td>0.979678</td>\n",
              "      <td>0.979972</td>\n",
              "    </tr>\n",
              "  </tbody>\n",
              "</table>\n",
              "</div>\n",
              "      <button class=\"colab-df-convert\" onclick=\"convertToInteractive('df-ade278db-1c24-45fc-bfc2-d636fb8a0251')\"\n",
              "              title=\"Convert this dataframe to an interactive table.\"\n",
              "              style=\"display:none;\">\n",
              "        \n",
              "  <svg xmlns=\"http://www.w3.org/2000/svg\" height=\"24px\"viewBox=\"0 0 24 24\"\n",
              "       width=\"24px\">\n",
              "    <path d=\"M0 0h24v24H0V0z\" fill=\"none\"/>\n",
              "    <path d=\"M18.56 5.44l.94 2.06.94-2.06 2.06-.94-2.06-.94-.94-2.06-.94 2.06-2.06.94zm-11 1L8.5 8.5l.94-2.06 2.06-.94-2.06-.94L8.5 2.5l-.94 2.06-2.06.94zm10 10l.94 2.06.94-2.06 2.06-.94-2.06-.94-.94-2.06-.94 2.06-2.06.94z\"/><path d=\"M17.41 7.96l-1.37-1.37c-.4-.4-.92-.59-1.43-.59-.52 0-1.04.2-1.43.59L10.3 9.45l-7.72 7.72c-.78.78-.78 2.05 0 2.83L4 21.41c.39.39.9.59 1.41.59.51 0 1.02-.2 1.41-.59l7.78-7.78 2.81-2.81c.8-.78.8-2.07 0-2.86zM5.41 20L4 18.59l7.72-7.72 1.47 1.35L5.41 20z\"/>\n",
              "  </svg>\n",
              "      </button>\n",
              "      \n",
              "  <style>\n",
              "    .colab-df-container {\n",
              "      display:flex;\n",
              "      flex-wrap:wrap;\n",
              "      gap: 12px;\n",
              "    }\n",
              "\n",
              "    .colab-df-convert {\n",
              "      background-color: #E8F0FE;\n",
              "      border: none;\n",
              "      border-radius: 50%;\n",
              "      cursor: pointer;\n",
              "      display: none;\n",
              "      fill: #1967D2;\n",
              "      height: 32px;\n",
              "      padding: 0 0 0 0;\n",
              "      width: 32px;\n",
              "    }\n",
              "\n",
              "    .colab-df-convert:hover {\n",
              "      background-color: #E2EBFA;\n",
              "      box-shadow: 0px 1px 2px rgba(60, 64, 67, 0.3), 0px 1px 3px 1px rgba(60, 64, 67, 0.15);\n",
              "      fill: #174EA6;\n",
              "    }\n",
              "\n",
              "    [theme=dark] .colab-df-convert {\n",
              "      background-color: #3B4455;\n",
              "      fill: #D2E3FC;\n",
              "    }\n",
              "\n",
              "    [theme=dark] .colab-df-convert:hover {\n",
              "      background-color: #434B5C;\n",
              "      box-shadow: 0px 1px 3px 1px rgba(0, 0, 0, 0.15);\n",
              "      filter: drop-shadow(0px 1px 2px rgba(0, 0, 0, 0.3));\n",
              "      fill: #FFFFFF;\n",
              "    }\n",
              "  </style>\n",
              "\n",
              "      <script>\n",
              "        const buttonEl =\n",
              "          document.querySelector('#df-ade278db-1c24-45fc-bfc2-d636fb8a0251 button.colab-df-convert');\n",
              "        buttonEl.style.display =\n",
              "          google.colab.kernel.accessAllowed ? 'block' : 'none';\n",
              "\n",
              "        async function convertToInteractive(key) {\n",
              "          const element = document.querySelector('#df-ade278db-1c24-45fc-bfc2-d636fb8a0251');\n",
              "          const dataTable =\n",
              "            await google.colab.kernel.invokeFunction('convertToInteractive',\n",
              "                                                     [key], {});\n",
              "          if (!dataTable) return;\n",
              "\n",
              "          const docLinkHtml = 'Like what you see? Visit the ' +\n",
              "            '<a target=\"_blank\" href=https://colab.research.google.com/notebooks/data_table.ipynb>data table notebook</a>'\n",
              "            + ' to learn more about interactive tables.';\n",
              "          element.innerHTML = '';\n",
              "          dataTable['output_type'] = 'display_data';\n",
              "          await google.colab.output.renderOutput(dataTable, element);\n",
              "          const docLink = document.createElement('div');\n",
              "          docLink.innerHTML = docLinkHtml;\n",
              "          element.appendChild(docLink);\n",
              "        }\n",
              "      </script>\n",
              "    </div>\n",
              "  </div>\n",
              "  "
            ]
          },
          "metadata": {},
          "execution_count": 19
        }
      ]
    },
    {
      "cell_type": "code",
      "source": [
        "# display the classification report for the best model\n"
      ],
      "metadata": {
        "id": "TvZ-Qr14BzZh"
      },
      "execution_count": null,
      "outputs": []
    },
    {
      "cell_type": "markdown",
      "source": [
        "## Recurrent Neural Network (RNN)"
      ],
      "metadata": {
        "id": "K4DNBgU6B4Qs"
      }
    },
    {
      "cell_type": "code",
      "source": [
        "import tensorflow as tf\n",
        "import keras\n",
        "from keras.preprocessing.text import Tokenizer\n",
        "from keras.preprocessing.sequence import pad_sequences\n",
        "\n",
        "from keras.models import Model, Input, Sequential\n",
        "from keras.layers import Dense, Flatten, Embedding, Input, Dropout, LSTM, TimeDistributed, Bidirectional\n",
        "from tensorflow.keras.layers import add\n",
        "from keras.callbacks import ModelCheckpoint\n",
        "\n",
        "from gensim.models import Word2Vec\n",
        "import gensim.downloader as api"
      ],
      "metadata": {
        "id": "h6b7iz44B6kb"
      },
      "execution_count": null,
      "outputs": []
    },
    {
      "cell_type": "code",
      "source": [
        "!pip install seqeval\n",
        "from seqeval.metrics import f1_score, precision_score, recall_score, classification_report"
      ],
      "metadata": {
        "id": "cfVSNob9Ub_8",
        "colab": {
          "base_uri": "https://localhost:8080/"
        },
        "outputId": "dcaa6bcd-9c21-4e88-c197-6a6abcccd4df"
      },
      "execution_count": null,
      "outputs": [
        {
          "output_type": "stream",
          "name": "stdout",
          "text": [
            "Looking in indexes: https://pypi.org/simple, https://us-python.pkg.dev/colab-wheels/public/simple/\n",
            "Collecting seqeval\n",
            "  Downloading seqeval-1.2.2.tar.gz (43 kB)\n",
            "\u001b[K     |████████████████████████████████| 43 kB 1.9 MB/s \n",
            "\u001b[?25hRequirement already satisfied: numpy>=1.14.0 in /usr/local/lib/python3.7/dist-packages (from seqeval) (1.21.6)\n",
            "Requirement already satisfied: scikit-learn>=0.21.3 in /usr/local/lib/python3.7/dist-packages (from seqeval) (1.0.2)\n",
            "Requirement already satisfied: joblib>=0.11 in /usr/local/lib/python3.7/dist-packages (from scikit-learn>=0.21.3->seqeval) (1.1.0)\n",
            "Requirement already satisfied: threadpoolctl>=2.0.0 in /usr/local/lib/python3.7/dist-packages (from scikit-learn>=0.21.3->seqeval) (3.1.0)\n",
            "Requirement already satisfied: scipy>=1.1.0 in /usr/local/lib/python3.7/dist-packages (from scikit-learn>=0.21.3->seqeval) (1.4.1)\n",
            "Building wheels for collected packages: seqeval\n",
            "  Building wheel for seqeval (setup.py) ... \u001b[?25l\u001b[?25hdone\n",
            "  Created wheel for seqeval: filename=seqeval-1.2.2-py3-none-any.whl size=16180 sha256=cc2be653eb3556721042b0edec6a9e3ac19e3c7addabe966036416df23050514\n",
            "  Stored in directory: /root/.cache/pip/wheels/05/96/ee/7cac4e74f3b19e3158dce26a20a1c86b3533c43ec72a549fd7\n",
            "Successfully built seqeval\n",
            "Installing collected packages: seqeval\n",
            "Successfully installed seqeval-1.2.2\n"
          ]
        }
      ]
    },
    {
      "cell_type": "code",
      "source": [
        "# find unique labels and create dictionary to map each label to a unique integer value\n",
        "all_labels = set()\n",
        "for t in train_data:\n",
        "  #print(t)\n",
        "  for word in t:\n",
        "    all_labels.add(word[3])\n",
        "\n",
        "label_vals = {}\n",
        "for i, l in enumerate(all_labels):\n",
        "  label_vals[l] = i\n",
        "label_vals[\"Other\"] = len(label_vals)\n",
        "print(label_vals)"
      ],
      "metadata": {
        "id": "c46yqjBiB6sA",
        "colab": {
          "base_uri": "https://localhost:8080/"
        },
        "outputId": "d83fa413-1d92-4cf3-ac6b-d861a21db70e"
      },
      "execution_count": null,
      "outputs": [
        {
          "output_type": "stream",
          "name": "stdout",
          "text": [
            "{'O': 0, 'B-PER': 1, 'I-PER': 2, 'B-ORG': 3, 'B-LOC': 4, 'B-MISC': 5, 'I-ORG': 6, 'I-MISC': 7, 'I-LOC': 8, 'Other': 9}\n"
          ]
        }
      ]
    },
    {
      "cell_type": "code",
      "source": [
        "# preprare your dataset for RNN classifier (you need to add padding to labels as well)\n",
        "#Tokenize and pad words\n",
        "tokenizer = Tokenizer()\n",
        "\n",
        "train_words = [[j[0] for j in w] for w in train_data ]\n",
        "val_words = [[j[0] for j in w] for w in val_data ]\n",
        "print(train_words[:4])\n",
        "tokenizer.fit_on_texts(train_words)\n",
        "train_seq  = tokenizer.texts_to_sequences(train_words) \n",
        "val_seq = tokenizer.texts_to_sequences(val_words)\n",
        "\n",
        "#padding to prepare sequences of same length\n",
        "train_seq_pad  = pad_sequences(train_seq, maxlen=100,padding=\"post\")\n",
        "val_seq_pad = pad_sequences(val_seq, maxlen=100,padding=\"post\")\n",
        "\n",
        "word_vec_size = 100\n",
        "\n",
        "word2ind = tokenizer.word_index\n",
        "n_unique = len(word2ind)\n",
        "#print(train_seq_pad[:4])\n",
        "\n",
        "#padding the labels \n",
        "tokenizer = Tokenizer()\n",
        "\n",
        "train_labels = [[j[3] for j in w] for w in train_data ]\n",
        "val_labels = [[j[3] for j in w] for w in val_data ]\n",
        "#print(train_labels[:4])\n",
        "tokenizer.fit_on_texts(train_labels)\n",
        "train_seq_l  = tokenizer.texts_to_sequences(train_labels) \n",
        "val_seq_l = tokenizer.texts_to_sequences(val_labels)\n",
        "\n",
        "tag2ind = tokenizer.word_index\n",
        "tag2ind[\"Other\"] = len(tag2ind)\n",
        "print(tag2ind)\n",
        "print(train_seq_l[:4])\n",
        "#padding to prepare sequences of same length\n",
        "train_seq_pad_l = pad_sequences(train_seq_l, maxlen=100, value = tag2ind[\"Other\"],padding=\"post\")\n",
        "val_seq_pad_l = pad_sequences(val_seq_l, maxlen=100,value = tag2ind[\"Other\"],padding=\"post\")\n",
        "\n",
        "print(train_seq_pad_l[:4])\n"
      ],
      "metadata": {
        "id": "BPMw7vkw8ckn",
        "colab": {
          "base_uri": "https://localhost:8080/"
        },
        "outputId": "2b46271f-4d18-4e78-fc10-c624d55f5d1a"
      },
      "execution_count": null,
      "outputs": [
        {
          "output_type": "stream",
          "name": "stdout",
          "text": [
            "[['-DOCSTART-'], ['EU', 'rejects', 'German', 'call', 'to', 'boycott', 'British', 'lamb', '.'], ['Peter', 'Blackburn'], ['BRUSSELS', '1996-08-22']]\n",
            "{'o': 1, 'b-loc': 2, 'b-per': 3, 'b-org': 4, 'i-per': 5, 'i-org': 6, 'b-misc': 7, 'i-loc': 8, 'i-misc': 9, 'Other': 9}\n",
            "[[1], [4, 1, 7, 1, 1, 1, 7, 1, 1], [3, 5], [2, 1]]\n",
            "[[1 9 9 9 9 9 9 9 9 9 9 9 9 9 9 9 9 9 9 9 9 9 9 9 9 9 9 9 9 9 9 9 9 9 9 9\n",
            "  9 9 9 9 9 9 9 9 9 9 9 9 9 9 9 9 9 9 9 9 9 9 9 9 9 9 9 9 9 9 9 9 9 9 9 9\n",
            "  9 9 9 9 9 9 9 9 9 9 9 9 9 9 9 9 9 9 9 9 9 9 9 9 9 9 9 9]\n",
            " [4 1 7 1 1 1 7 1 1 9 9 9 9 9 9 9 9 9 9 9 9 9 9 9 9 9 9 9 9 9 9 9 9 9 9 9\n",
            "  9 9 9 9 9 9 9 9 9 9 9 9 9 9 9 9 9 9 9 9 9 9 9 9 9 9 9 9 9 9 9 9 9 9 9 9\n",
            "  9 9 9 9 9 9 9 9 9 9 9 9 9 9 9 9 9 9 9 9 9 9 9 9 9 9 9 9]\n",
            " [3 5 9 9 9 9 9 9 9 9 9 9 9 9 9 9 9 9 9 9 9 9 9 9 9 9 9 9 9 9 9 9 9 9 9 9\n",
            "  9 9 9 9 9 9 9 9 9 9 9 9 9 9 9 9 9 9 9 9 9 9 9 9 9 9 9 9 9 9 9 9 9 9 9 9\n",
            "  9 9 9 9 9 9 9 9 9 9 9 9 9 9 9 9 9 9 9 9 9 9 9 9 9 9 9 9]\n",
            " [2 1 9 9 9 9 9 9 9 9 9 9 9 9 9 9 9 9 9 9 9 9 9 9 9 9 9 9 9 9 9 9 9 9 9 9\n",
            "  9 9 9 9 9 9 9 9 9 9 9 9 9 9 9 9 9 9 9 9 9 9 9 9 9 9 9 9 9 9 9 9 9 9 9 9\n",
            "  9 9 9 9 9 9 9 9 9 9 9 9 9 9 9 9 9 9 9 9 9 9 9 9 9 9 9 9]]\n"
          ]
        }
      ]
    },
    {
      "cell_type": "code",
      "source": [
        "print(train_seq_pad_l.shape)"
      ],
      "metadata": {
        "colab": {
          "base_uri": "https://localhost:8080/"
        },
        "id": "aQJoLioxgJot",
        "outputId": "1a3936ca-d22d-4cd5-dec9-b22563e63d71"
      },
      "execution_count": null,
      "outputs": [
        {
          "output_type": "stream",
          "name": "stdout",
          "text": [
            "(14987, 100)\n"
          ]
        }
      ]
    },
    {
      "cell_type": "code",
      "source": [
        "# Randomly create your own word embeddings from scratch\n",
        "embedding_matrix = np.zeros((n_unique, word_vec_size))\n",
        "for word, i in word2ind.items():\n",
        "  if i < n_unique:\n",
        "    embedding_vector = np.random.rand(word_vec_size)*2 - 1\n",
        "    if embedding_vector is not None:\n",
        "      embedding_matrix[i] = embedding_vector\n",
        "#example \n",
        "print(embedding_matrix[3])\n",
        "\n",
        "# You can check https://radimrehurek.com/gensim/models/word2vec.html for training a word embeddings from scratch\n",
        "\n",
        "# You can check https://radimrehurek.com/gensim/auto_examples/howtos/run_downloader_api.html and https://github.com/RaRe-Technologies/gensim-data for loading pretrained word embeddings. \n"
      ],
      "metadata": {
        "id": "EVMM7jLV8ch7",
        "colab": {
          "base_uri": "https://localhost:8080/"
        },
        "outputId": "777f4052-cd56-450b-94f9-7452dc3cb394"
      },
      "execution_count": null,
      "outputs": [
        {
          "output_type": "stream",
          "name": "stdout",
          "text": [
            "[-9.75426105e-01  2.54423371e-01 -1.41648810e-01  4.86449649e-01\n",
            "  7.77587153e-02 -4.98370452e-01 -3.57929296e-01 -6.42982539e-01\n",
            " -6.24497610e-01 -5.62508052e-01  5.04915298e-01 -9.44814697e-01\n",
            "  4.00100495e-01  8.35028515e-01  3.77102820e-01  5.18118153e-01\n",
            " -2.85519517e-01  3.05508649e-01  5.98367895e-01  1.60999951e-01\n",
            " -3.02858364e-01  2.64808180e-01  2.31499062e-01  9.39954679e-01\n",
            " -9.12182723e-01 -8.48002698e-01 -9.57753531e-01  7.28504988e-01\n",
            " -8.08290129e-03 -1.93784489e-01 -5.82739659e-01  5.73652323e-01\n",
            " -6.77608804e-01  8.34352085e-01 -6.77871410e-01  6.45154003e-02\n",
            "  5.30250055e-01  2.82064048e-01  8.46565204e-01  7.33081636e-01\n",
            "  2.59414575e-03  2.82833198e-01 -1.94736596e-02 -6.16897768e-01\n",
            "  3.32452359e-01 -7.13008939e-01  8.70144988e-01  8.62588188e-01\n",
            " -1.91539695e-01  6.70978574e-02  9.86743243e-01  1.06012802e-01\n",
            " -2.16013536e-01  6.18820933e-01  4.41052241e-01  9.88538058e-01\n",
            " -9.88583408e-02 -6.99816100e-01 -2.60182789e-01  4.61115128e-01\n",
            "  1.15633884e-01  5.33081045e-01 -5.64383587e-01  5.16329288e-01\n",
            " -9.06125244e-01 -4.52292623e-01 -6.91090152e-01 -7.80817764e-01\n",
            "  4.90146289e-05 -1.93569167e-01 -1.81009787e-01  5.84797102e-01\n",
            " -1.72339225e-01  1.93930713e-01  5.36111177e-01 -4.35118229e-01\n",
            "  2.39022890e-01 -1.51898036e-02  2.01365197e-01  9.20983170e-01\n",
            " -4.97983804e-01 -9.88971709e-01  9.79343485e-01  5.46972372e-03\n",
            "  2.30044273e-02  9.66276401e-04  6.63335942e-02 -1.24623814e-01\n",
            " -3.81295073e-01 -6.44782279e-01  6.85672201e-01 -3.35067452e-01\n",
            " -4.03097269e-01  2.61806839e-02 -9.94738274e-01  7.85620356e-01\n",
            " -1.61995422e-01 -5.84739230e-01 -4.32055001e-01  3.80305369e-01]\n"
          ]
        }
      ]
    },
    {
      "cell_type": "code",
      "source": [
        "# Word2Vec \n",
        "model_w2v = Word2Vec(train_words, size = word_vec_size, window = 10, workers = 10, min_count = 2)\n",
        "vocs = list(model_w2v.wv.vocab)\n",
        "print(vocs)\n",
        "print(len(vocs))\n",
        "\n",
        "num_words = len(vocs)\n",
        "embedding_matrix_w2v = np.zeros((len(word2ind), word_vec_size))\n",
        "for word, i in word2ind.items():\n",
        "  if i < num_words:\n",
        "    if word in model_w2v:\n",
        "      embedding_vector = model_w2v[word]\n",
        "      embedding_matrix_w2v[i] = embedding_vector\n",
        "#example \n",
        "print(embedding_matrix_w2v[139])"
      ],
      "metadata": {
        "colab": {
          "base_uri": "https://localhost:8080/"
        },
        "id": "_rLLC-bkF_qG",
        "outputId": "a14c7af6-1bc3-4149-9d61-67d9cf1e5865"
      },
      "execution_count": null,
      "outputs": [
        {
          "output_type": "stream",
          "name": "stdout",
          "text": [
            "['-DOCSTART-', 'EU', 'German', 'call', 'to', 'boycott', 'British', 'lamb', '.', 'Peter', 'Blackburn', 'BRUSSELS', '1996-08-22', 'The', 'European', 'Commission', 'said', 'on', 'Thursday', 'it', 'disagreed', 'with', 'advice', 'consumers', 'until', 'scientists', 'determine', 'whether', 'mad', 'cow', 'disease', 'can', 'be', 'transmitted', 'sheep', 'Germany', \"'s\", 'representative', 'the', 'Union', 'veterinary', 'committee', 'Werner', 'Zwingmann', 'Wednesday', 'should', 'buy', 'sheepmeat', 'from', 'countries', 'other', 'than', 'Britain', 'scientific', 'was', '\"', 'We', 'do', \"n't\", 'support', 'any', 'such', 'recommendation', 'because', 'we', 'see', 'grounds', 'for', ',', 'chief', 'spokesman', 'van', 'der', 'told', 'a', 'news', 'briefing', 'He', 'further', 'study', 'required', 'and', 'if', 'found', 'that', 'action', 'needed', 'taken', 'by', 'proposal', 'last', 'month', 'Farm', 'Commissioner', 'Franz', 'Fischler', 'ban', 'brains', 'spleens', 'spinal', 'cords', 'human', 'animal', 'food', 'chains', 'highly', 'specific', 'move', 'protect', 'health', 'proposed', 'measures', 'after', 'reports', 'France', 'under', 'laboratory', 'conditions', 'could', 'contract', 'Bovine', 'Spongiform', 'Encephalopathy', '(', 'BSE', ')', '--', 'But', 'agreed', 'review', 'his', 'standing', 'officials', 'questioned', 'justified', 'as', 'there', 'only', 'slight', 'risk', 'Spanish', 'Minister', 'de', 'had', 'earlier', 'accused', 'at', 'an', 'farm', 'ministers', \"'\", 'meeting', 'of', 'causing', 'alarm', 'through', 'dangerous', 'Only', 'backed', 'committees', 'are', 'due', 're-examine', 'issue', 'early', 'next', 'make', 'recommendations', 'senior', 'Sheep', 'have', 'long', 'been', 'known', 'scrapie', 'brain-wasting', 'similar', 'which', 'is', 'believed', 'transferred', 'cattle', 'feed', 'containing', 'waste', 'farmers', 'denied', 'danger', 'their', 'but', 'expressed', 'concern', 'government', 'avoid', 'might', 'influence', 'across', 'Europe', 'What', 'extremely', 'how', 'going', 'take', 'lead', 'Welsh', 'National', 'Farmers', 'chairman', 'John', 'Lloyd', 'Jones', 'BBC', 'radio', 'Bonn', 'has', 'led', 'efforts', 'public', 'consumer', 'confidence', 'collapsed', 'in', 'March', 'report', 'suggested', 'humans', 'illness', 'eating', 'contaminated', 'beef', 'imported', '47,600', 'year', 'nearly', 'half', 'total', 'imports', 'It', 'brought', '4,275', 'tonnes', 'mutton', 'some', '10', 'percent', 'overall', 'Hendrix', 'song', 'draft', 'sells', 'almost', '$', '17,000', 'LONDON', 'A', 'rare', 'U.S.', 'guitar', 'sold', 'auction', 'late', 'favourite', 'Florida', 'restaurant', 'paid', 'pounds', 'Ai', 'no', 'telling', 'piece', 'London', 'hotel', 'stationery', '1966', 'At', 'end', 'January', '1967', 'concert', 'English', 'city', 'Nottingham', 'he', 'threw', 'sheet', 'paper', 'into', 'audience', 'where', 'fan', 'Buyers', 'also', 'snapped', 'up', '16', 'items', 'were', 'put', 'former', 'girlfriend', 'Kathy', 'who', 'lived', 'him', '1969', 'They', 'included', 'black', 'mother', 'box', 'used', 'store', 'drugs', 'anonymous', 'Australian', 'bought', 'died', '1970', 'aged', '27', 'China', 'says', 'Taiwan', 'atmosphere', 'talks', 'BEIJING', 'Taipei', 'spoiling', 'resumption', 'Strait', 'visit', 'Ukraine', 'Taiwanese', 'Vice', 'President', 'Lien', 'Chan', 'this', 'week', 'infuriated', 'Beijing', 'Speaking', 'hours', 'Chinese', 'state', 'media', 'time', 'right', 'engage', 'political', 'Foreign', 'Ministry', 'Shen', 'Reuters', ':', 'necessary', 'opening', 'disrupted', 'authorities', 'State', 'quoted', 'top', 'negotiator', 'Tang', 'Shubei', 'visiting', 'group', 'rivals', 'hold', 'Now', 'two', 'sides', '...', 'hostility', 'overseas', 'edition', 'People', 'Daily', 'saying', 'foreign', 'ministry', 'Television', 'interview', 'read', 'comments', 'gave', 'details', 'why', 'considered', 'renegade', 'province', 'opposed', 'all', 'gain', 'greater', 'international', 'recognition', 'rival', 'island', 'practical', 'steps', 'towards', 'goal', 'held', 'set', 'official', 'Xinhua', 'agency', 'executive', 'vice', 'Association', 'Relations', 'Straits', 'July', 'car', 'registrations', '14.2', 'pct', 'yr', '/', 'FRANKFURT', 'motor', 'vehicles', 'jumped', 'year-earlier', 'period', 'Federal', 'office', 'new', 'cars', 'registered', '1996', 'passenger', 'trucks', 'figures', 'represent', 'increase', '2.2', 'decline', '1995', 'registration', 'rose', 'growth', 'partly', 'increased', 'number', 'Germans', 'buying', 'abroad', 'while', 'manufacturers', 'domestic', 'demand', 'weak', 'federal', 'Almost', 'posted', 'gains', 'numbers', 'Volkswagen', 'AG', 'won', 'slightly', 'more', 'quarter', 'together', 'General', 'Motors', 'came', 'second', 'place', 'figure', 'Third', 'Ford', 'or', '11.7', 'Seat', 'Porsche', 'fewer', 'compared', 'fell', 'TO', 'PM', 'FOR', 'ATHENS', 'Greek', 'socialist', 'party', 'bureau', 'green', 'light', 'Prime', 'Costas', 'Simitis', 'snap', 'elections', 'its', 'general', 'secretary', 'Skandalidis', 'reporters', 'announcement', 'cabinet', 'later', 'Dimitris', 'Kontogiannis', 'Athens', 'Newsroom', '+301', '3311812-4', 'sets', 'C$', '100', 'million', 'six-year', 'bond', 'following', 'announced', 'manager', 'Toronto', 'Dominion', 'BORROWER', 'BAYERISCHE', 'VEREINSBANK', 'AMT', 'MLN', 'COUPON', 'MATURITY', 'TYPE', 'STRAIGHT', 'ISS', 'PRICE', 'PAY', 'DATE', 'FULL', 'FEES', 'REOFFER', 'SPREAD', 'BP', 'MOODY', 'LISTING', '=', 'S&P', 'DENOMS', 'K', '1-10-100', 'SALE', 'LIMITS', 'US', 'UK', 'NEG', 'PLG', 'NO', 'CRS', 'DEFLT', 'FORCE', 'MAJ', 'GOV', 'LAW', 'GERMAN', 'HOME', 'CTRY', 'TAX', 'PROVS', 'STANDARD', 'MGT', 'UND', 'SELL', 'CONC', 'PRAECIP', 'GOVT', 'BOND', '7.0', 'PCT', '2001', 'NOTES', 'IS', 'LEAD', 'MANAGER', '+44', '171', '542', '7658', '300', '1999', 'FRN', 'Lehman', 'Brothers', 'International', 'AB', 'SWEDISH', 'NATIONAL', '-', '12.5', 'LIBOR', 'LAST', 'AA+', 'S', 'SHORT', 'FIRST', '2', 'ENGLISH', '5', 'OFF', 'Port', 'update', 'Syria', 'Lloyds', 'Shipping', 'Intelligence', 'Service', 'Aug', 'waiting', '24', 'Israel', 'plays', 'down', 'fears', 'war', 'JERUSALEM', 'outgoing', 'peace', 'current', 'tensions', 'between', 'appeared', 'storm', 'teacup', 'Itamar', 'Rabinovich', 'ambassador', 'Washington', 'conducted', 'negotiations', 'Radio', 'looked', 'like', 'Damascus', 'wanted', 'talk', 'rather', 'fight', 'appears', 'me', 'Syrian', 'priority', 'still', 'negotiate', 'Syrians', 'confused', 'they', 'definitely', 'tense', 'assessment', 'here', 'winding', 'term', 'will', 'replaced', 'Israeli', 'envoy', 'Egypt', 'right-wing', 'Likud', 'politician', 'sent', 'message', 'via', 'committed', 'open', 'without', 'preconditions', 'slammed', 'creating', 'what', 'called', 'launching', 'campaign', 'against', 'television', 'reported', 'recently', 'test', 'fired', 'missile', 'arms', 'purchases', 'defensive', 'purposes', 'ready', 'enter', 'David', 'Levy', 'Tension', 'mounted', 'since', 'Benjamin', 'Netanyahu', 'took', 'June', 'retain', 'Golan', 'captured', 'Middle', 'East', 'deadlocked', 'over', '1991', 'despite', 'previous', 'concessions', 'Peace', 'February', 'voices', 'coming', 'out', 'bad', 'not', 'good', 'full', 'must', 'worrying', 'very', 'those', 'spread', 'become', 'prisoners', 'expect', 'face', 'answer', 'our', 'want', 'God', 'No', 'one', 'benefits', 'wars', 'Channel', 'Two', 'signal', 'source', 'spokesmen', 'confirm', 'messages', 'Cairo', 'United', 'States', 'Moscow', 'Polish', 'diplomat', 'denies', 'nurses', 'stranded', 'Libya', 'TUNIS', 'tabloid', 'refusing', 'exit', 'visas', 'trying', 'return', 'home', 'working', 'North', 'African', 'country', 'This', 'true', 'Up', 'today', 'knowledge', 'nurse', 'kept', 'her', 'received', 'complaint', 'embassy', 'charge', 'Tripoli', 'Awdankiewicz', 'telephone', 'Poland', 'labour', 'would', 'send', 'team', 'investigate', 'probe', 'prompted', 'complaining', 'about', 'work', 'salaries', 'estimated', '800', 'Iranian', 'opposition', 'leaders', 'meet', 'Baghdad', 'Hassan', 'BAGHDAD', 'An', 'exile', 'based', 'Iraq', 'vowed', 'extend', 'Iran', 'Kurdish', 'rebels', 'attacked', 'troops', 'deep', 'inside', 'Mujahideen', 'Khalq', 'statement', 'leader', 'Massoud', 'Rajavi', 'met', 'Secretary-General', 'Kurdistan', 'Democratic', 'Party', 'KDPI', 'voiced', 'rebel', 'Kurds', 'continue', 'stand', 'side', 'resistance', 'movement', 'signals', 'level', 'cooperation', 'heavily', 'bombarded', 'targets', 'northern', 'pursuit', 'guerrillas', 'Iraqi', 'areas', 'outside', 'control', 'bordering', 'Patriotic', 'PUK', 'KDP', 'main', 'factions', 'forces', 'ousted', 'Kuwait', 'Gulf', 'War', 'parties', 'broke', 'weekend', 'most', 'serious', 'fighting', 'ceasefire', 'shelling', 'positions', 'region', 'near', 'border', 'days', 'killed', 'wounded', 'attack', 'Both', 'Turkey', 'air', 'land', 'strikes', 'own', 'U.S.-led', 'force', 'southern', 'protects', 'possible', 'attacks', 'Saudi', 'riyal', 'rates', 'steady', 'quiet', 'summer', 'trade', 'MANAMA', 'spot', 'dollar', 'interbank', 'deposit', 'mainly', 'dealers', 'kingdom', 'There', 'changes', 'market', 'holidays', 'dealer', 'One-month', 'three', 'months', '1/2', 'six', '5/8', 'funds', 'approves', 'Arafat', 'flight', 'West', 'Bank', 'Palestinian', 'Yasser', 'permission', 'fly', 'territory', 'ending', 'brief', 'Israeli-PLO', 'crisis', 'adviser', 'problem', 'president', 'aircraft', 'pass', 'airspace', 'expected', 'travel', 'before', 'Monday', 'Abu', 'Rdainah', 'scheduled', 'prime', 'minister', 'Shimon', 'Peres', 'town', 'Ramallah', 'venue', 'changed', 'Gaza', 'clearance', 'helicopters', 'stop', 'keeping', 'subsequently', 'cancelled', 'PLO', 'civilian', 'affairs', 'Allenby', 'Bridge', 'crossing', 'Jordan', 'decided', 'flying', 'lifted', 'busy', 'schedule', 'free', 'Palestinians', 'barred', 'planned', 'helicopter', 'attempt', 'bar', 'defeated', 'May', 'undermine', 'authority', 'conduct', 'Afghan', 'UAE', 'Taleban', 'guards', 'DUBAI', 'Three', 'Arab', 'Russian', 'hostages', 'escaped', 'militia', 'Afghanistan', 'few', 'Dhabi', 'Our', 'touch', 'Their', 'issuing', 'them', 'documents', 'homeland', 'added', 'Islamic', 'overpowered', 'seven', 'Sharjah', 'Friday', 'board', 'captivity', 'Kandahar', 'hand', 'Red', 'Crescent', 'possibly', 'Tuesday', 'When', 'asked', 'back', 'capital', 'Kabul', 'That', 'headquarters', 'controlled', 'Burhanuddin', 'Rabbani', 'overthrow', 'men', '20s', 'currently', 'did', 'elaborate', 'Russians', 'firm', 'republic', 'hostage', 'fighter', 'forced', 'cargo', 'plane', 'August', 'shipment', 'ammunition', 'Albania', 'evidence', 'military', 'crew', 'nationality', 'Numerous', 'diplomatic', 'attempts', 'failed', 'armed', 'Kalashnikov', 'automatic', 'rifles', 'doing', 'regular', 'maintenance', '76', 'left', 'Sunday', 'Saddam', 'meets', 'Russia', 'Zhirinovsky', 'Hussein', 'Vladimir', 'maintain', 'friendship', 'newspapers', 'stressed', 'during', 'keenness', 'papers', 'Liberal', 'parliament', 'calling', 'immediate', 'lifting', 'embargo', 'imposed', '1990', 'press', 'help', 'U.N.', 'sanctions', 'blamed', 'delaying', 'establishment', 'ties', 'economic', 'resume', 'visited', 'twice', 'Last', 'October', 'invited', 'attend', 'referendum', 'presidency', 'extended', 'years', 'PRESS', 'DIGEST', '22', 'These', 'leading', 'stories', 'verified', 'these', 'does', 'vouch', 'accuracy', 'liberal', 'democratic', 'Turkish', 'part', 'fair', 'November', 'IRAQ', '12', 'rice', 'arrives', 'port', 'Lebanon', 'BEIRUT', 'Beirut', 'AN-NAHAR', 'Hariri', 'threats', 'serve', 'AS-SAFIR', 'Parliament', 'Speaker', 'Berri', 'preparing', 'Parliamentary', 'battle', '..', 'lists', 'prepared', 'AL-ANWAR', 'criticism', 'law', 'violation', 'incidents', 'occurred', 'Mount', 'AD-DIYAR', 'Financial', 'Pakistan', 'step', 'election', 'incomplete', 'list', \"NIDA'A\", 'AL-WATAN', 'Maronite', 'Patriarch', 'Sfeir', 'violations', 'CME', 'live', 'feeder', 'calls', 'range', 'mixed', 'CHICAGO', 'futures', 'ranged', 'cent', 'higher', 'lower', 'livestock', 'analysts', 'continued', 'strong', 'cash', 'markets', 'prompt', 'bullish', 'spreading', 'However', 'likely', 'prices', 'drift', 'evening', 'ahead', 'Cash', 'record', 'amount', 'feedlot', 'traded', 'debt', 'hit', 'Q1', 'results', 'Ala', 'Inc', 'buyback', 'mean', 'extraordinary', 'loss', '1.2', 'fiscal', '1997', 'first', 'company', 'began', '1', '30', 'par', 'value', 'outstanding', 'notes', 'Philip', 'financial', 'officer', 'child', 'care', 'offered', 'opportunity', 'reduce', 'weighted', 'average', 'interest', 'costs', 'improve', 'future', 'flows', 'earnings', 'RESEARCH', 'ALERT', 'starts', 'analyst', 'started', 'Southern', 'New', 'England', 'Corp', 'outperform', 'rating', '12-month', 'price', 'target', '45', 'estimate', 'per', 'share', 'immediately', 'available', 'closed', 'E.', 'Wall', 'Street', 'Data', 'Sciences', 'Q2', 'net', 'rises', 'Summary', 'In', 'Thousands', 'except', 'data', 'Six', 'Months', 'Ended', 'Quarter', 'Jul', '31', 'Income', 'Total', 'Revenue', 'Software', '2,383', 'Services', 'Operating', '599', 'Net', '565', '301', 'Earnings', 'Per', 'Share', '0.19', '0.20', 'Jan', 'Balance', 'Sheet', 'Working', 'Capital', '93', 'Shareholders', 'socialists', 'give', 'backing', 'Le', 'Monde', 'PARIS', 'afternoon', 'daily', 'dated', '23', 'FRONT', 'PAGE', 'Africans', 'seeking', 'renew', 'obtain', 'residence', 'rights', 'say', 'Alain', 'Juppe', 'proposals', 'strike', 'enters', 'day', 'Paris', 'church', 'rally', 'attracts', '8,000', 'nationalist', 'announces', 'truce', 'night', 'BUSINESS', 'PAGES', 'French', 'points', 'industry', 'competition', 'failure', 'keep', 'trends', 'Secretary', 'union', 'elements', 'social', 'unrest', 'weeks', '+33', '42', '21', '53', '81', 'repairs', 'lift', 'Heidrun', 'oil', 'output', 'Statoil', 'OSLO', 'plugged', 'water', 'injection', 'wells', 'off', 'reopened', 'operator', 'Den', 'AS', 'accounted', 'dip', '30,000', 'barrels', 'bpd', 'roughly', 'according', 'pumped', 'problems', 'Oslo', 'newsroom', '50', '41', 'Finnish', 'April', 'surplus', '3.8', 'billion', 'markka', 'NCB', 'HELSINKI', 'Finland', 'Customs', 'Board', 'exports', 'year-on-year', 'Trade', 'balance', '96', 'Jan-April', '95', 'Imports', 'Exports', 'import', 'revised', 'export', '3.2', 'projected', '14.5', '11.3', 'monthly', 'statistics', 'lagging', 'behind', 'customs', 'procedures', 'when', 'joined', 'start', 'Helsinki', '+358', '0', '680', '245', 'Dutch', 'raises', 'tap', 'sale', '99.95', 'AMSTERDAM', 'Finance', 'raised', 'sales', '5.75', 'September', '2002', 'being', 'GMT', '15.00', 'notice', '2.3', 'guilders', 'close', 'Amsterdam', '+31', '20', '504', '5000', 'tells', 'BONN', 'Agriculture', 'meat', 'animals', 'Until', 'cleared', 'done', 'quickly', 'preference', 'ZDF', 'I', 'concrete', 'too', 'many', 'holes', 'know', 'filled', 'ensure', 'protection', 'tops', 'dealing', 'erupted', 'acknowledged', 'use', 'suspect', 'tissue', 'experts', 'banning', 'members', 'given', 'question', 'perfectly', 'safe', 'eat', 'After', 'admitted', 'link', 'fatal', 'equivalent', 'worldwide', 'summit', 'takes', 'parallel', 'GOLF', 'SCORES', 'AT', 'WORLD', 'SERIES', 'OF', 'AKRON', 'Ohio', 'Scores', '2.1', 'NEC', 'World', 'Series', 'Golf', 'round', '7,149', 'yard', '70', 'Firestone', 'C.C', 'course', 'players', 'unless', 'stated', '66', 'Paul', 'Goydos', 'Billy', 'Mayfair', 'Hidemichi', 'Tanaka', 'Japan', '68', 'Steve', 'Stricker', '69', 'Justin', 'Leonard', 'Mark', 'Brooks', 'Tim', 'Herron', 'Duffy', 'Waldorf', 'Davis', 'Love', 'Anders', 'Forsbrand', 'Sweden', 'Nick', 'Faldo', 'Cook', 'Phil', 'Mickelson', 'Greg', 'Norman', 'Australia', '71', 'Ernie', 'Els', 'South', 'Africa', 'Scott', 'Hoch', '72', 'Clarence', 'Rose', 'Loren', 'Roberts', 'Fred', 'Funk', 'Sven', 'Struver', 'Alexander', 'Cejka', 'Hal', 'Sutton', 'Tom', '73', 'D.A.', 'Weibring', 'Brad', 'Bryant', 'Craig', 'Parry', 'Stewart', 'Ginn', 'Corey', 'Pavin', 'Stadler', \"O'Meara\", 'Couples', '74', 'Stankowski', 'Costantino', 'Rocca', 'Italy', '75', 'Jim', 'Furyk', 'Satoshi', 'Higashi', 'Willie', 'Wood', 'Shigeki', 'Maruyama', 'McCarron', '77', 'Wayne', 'Westner', 'Schneiter', '79', 'Watson', 'Seiki', 'Okuda', 'SOCCER', 'BISTRITA', 'BEAT', '2-1', 'F.C.', 'VALLETTA', 'Gloria', 'Bistrita', 'Romania', 'beat', 'halftime', '1-1', 'Valletta', 'Malta', 'Cup', 'winners', 'match', 'leg', 'preliminary', 'Scorers', 'Ilie', 'Lazar', '32nd', 'Eugen', 'Voica', '84th', 'La', 'Gilbert', 'Agius', '24th', 'Attendance', '4-2', 'aggregate', 'qualified', 'REUTER', 'HORSE', 'RACING', 'ENDS', 'WAIT', 'YORK', 'Sir', 'Prescott', 'landed', 'victory', '25', 'trainer', 'sprinter', 'Pivotal', '100-30', 'chance', 'Nunthorpe', 'Stakes', 'three-year-old', 'veteran', 'George', 'Duffield', 'short', 'head', 'verdict', 'deny', 'Eveningperformance', '16-1', 'trained', 'Henry', 'Candy', 'ridden', 'Chris', 'Rutter', 'Hever', '11-4', 'Prix', 'Abbaye', 'winner', 'finished', 'third', 'lengths', 'away', '7-4', 'Mind', 'Games', 'fourth', 'Royal', 'may', 'now', 'aimed', 'season', 'sprint', 'race', 'reluctant', 'go', 'result', 'never', 'so', 'thought', 'better', 'wait', 'bit', 'longer', 'sad', 'am', 'daughter', 'Like', 'Jack', 'Berry', 'gone', 'search', 'success', 'around', 'disappointed', 'feel', 'well', 'furlongs', 'metres', 'just', 'RESULTS', 'Result', 'run', 'five', 'km', '1.', '2.', '3.', 'Jason', 'Weaver', 'Eight', 'ran', '4th', 'Winner', 'owned', 'Park', 'Value', 'sterling', 'TENNIS', 'TOSHIBA', 'CLASSIC', 'CARLSBAD', 'California', '1996-08-21', 'Results', '450,000', 'Toshiba', 'Classic', 'tennis', 'tournament', 'prefix', 'denotes', 'seeding', 'Second', 'Arantxa', 'Sanchez', 'Vicario', 'Spain', 'Naoko', 'Kijimuta', '1-6', '6-4', '6-3', '4', 'Kimiko', 'Date', 'Yone', 'Kamio', '6-2', '7-5', 'Sandrine', 'Testud', '7', 'Sugiyama', '4-6', '8', 'Nathalie', 'Tauziat', 'Shi-Ting', 'Wang', 'HAMLET', 'CUP', 'COMMACK', 'York', 'Waldbaum', 'Hamlet', 'Michael', 'Chang', 'Sergi', 'Bruguera', 'Joyce', '3', 'Richey', 'Reneberg', '3-6', 'Martin', 'Damm', 'Czech', 'Republic', '6', 'Younes', 'El', 'Aynaoui', 'Morocco', '5-7', '3-0', 'retired', 'Karol', 'Kucera', 'Slovakia', 'Hicham', 'Arazi', '7-6', 'OVER', 'Kenny', 'Dalglish', 'spoke', 'leaving', 'club', 'premier', 'league', 'title', '1994-95', 'parted', 'mutual', 'consent', 'confessed', 'taking', 'division', 'local', 'newspaper', 'holiday', 'same', 'opinion', 'little', 'If', 'opened', 'my', 'mouth', 'stayed', 'way', 'let', 'get', 'job', 'conclusion', 'then', 'past', '15', 'director', 'football', 'CRICKET', 'COUNTY', 'CHAMPIONSHIP', 'Close', 'play', 'scores', 'four-day', 'County', 'Championship', 'cricket', 'matches', 'Weston-super-Mare', 'Durham', '326', 'D.', 'Cox', 'S.', 'Campbell', ';', 'G.', '7-73', 'Somerset', 'M.', 'Lathwell', '85', 'Colchester', 'Gloucestershire', '280', 'J.', 'Russell', '63', 'A.', 'Symonds', '52', 'Cowan', '5-68', 'Essex', 'Cardiff', 'Kent', 'Walker', '59', 'Fulton', 'v', 'Glamorgan', 'Leicester', 'Leicestershire', '343-8', 'P.', 'Simmons', '108', 'Nixon', '67', 'Hampshire', 'Northampton', 'Sussex', 'N.', 'Lenham', '145', 'V.', 'Drakes', 'Wells', '51', 'Northamptonshire', 'Trent', 'Nottinghamshire', '392-6', 'Archer', '143', 'Dowman', '107', 'Surrey', 'Worcester', 'Warwickshire', 'Giles', '57', 'W.', 'Khan', 'Worcestershire', 'Headingley', 'Yorkshire', 'C.', 'White', 'Moxon', 'Vaughan', 'Lancashire', 'ENGLAND', 'V', 'PAKISTAN', 'FINAL', 'TEST', 'SCOREBOARD', 'Scoreboard', 'final', 'Oval', 'innings', 'Atherton', 'b', 'Waqar', 'Younis', 'Mushtaq', 'Ahmed', '44', 'Hussain', 'c', 'Saeed', 'Anwar', 'Thorpe', 'lbw', 'Mohammad', 'Akram', '54', 'Crawley', '94', 'Knight', '17', 'Lewis', 'Wasim', 'I.', 'Salisbury', 'Extras', 'w-1', 'nb-8', 'wickets', '278', 'Fall', '1-64', '2-85', '3-116', '4-205', '5-248', '6-273', 'To', 'bat', 'R.', 'Croft', 'Cork', 'Mullally', 'Bowling', 'date', '12-1-41-1', '27-5-78-2', 'Aamir', 'Sohail', '6-1-17-0', 'Ijaz', 'Inzamam-ul-Haq', 'Salim', 'Malik', 'Asif', 'Mujtaba', 'Moin', 'Akam', 'BACK', 'IN', 'SCOTTISH', 'SQUAD', 'AFTER', 'MONTHS', 'GLASGOW', 'Everton', 'Duncan', 'Ferguson', 'scored', 'Manchester', 'picked', 'Scottish', 'squad', '20-month', 'Rangers', 'striker', 'Ally', 'McCoist', 'another', 'man', 'form', 'four', 'named', 'qualifier', 'Austria', 'Vienna', 'served', 'jail', 'opponent', 'Scotland', 'caps', 'December', '1994', 'Brown', \"'ve\", 'watched', 'bang', 'great', 'scoring', 'moment', 'Celtic', 'Jackie', 'McNamara', 'successful', 'under-21', 'earns', 'LUNCH', 'ON', 'DAY', 'THIRD', 'lunch', 'SIGNS', 'CONTRACT', 'WITH', 'MANCHESTER', 'UNITED', 'Ireland', 'midfielder', 'Roy', 'Keane', 'signed', 'four-year', 'F.A.', 'champions', 'deal', 'game', 'delighted', 'Alex', 'CANADIAN', 'OPEN', 'TORONTO', 'Canadian', 'Open', 'Daniel', 'Nestor', 'Canada', 'Thomas', 'Muster', 'Mikael', 'Tillstrom', 'Goran', 'Ivanisevic', 'Croatia', '6-7', '3-7', 'Ferreira', 'Jiri', 'Novak', 'Marcelo', 'Rios', 'Chile', 'Kenneth', 'Carlsen', 'Denmark', 'MaliVai', 'Corretja', 'Todd', 'Renzo', 'Furlan', '7-3', 'Philippoussis', 'Marc', 'Rosset', 'Switzerland', '8-6', '9', 'Cedric', 'Pioline', 'Gregory', '7-1', 'Patrick', 'Rafter', '11', 'Alberto', 'Berasategui', '6-1', 'Petr', 'Korda', 'Francisco', 'Clavet', 'Vacek', '13', 'Stoltenberg', '13-11', 'Woodbridge', 'Sebastien', \"O'Brien\", 'Byron', 'Black', 'Zimbabwe', '7-2', 'Bohdan', 'Ulihrach', 'Andrea', 'Gaudenzi', 'Henman', 'Woodruff', 'walkover', 'CAPE', 'TOWN', 'provincial', 'Boland', 'fast', 'bowler', 'Millns', 'replaces', 'all-rounder', 'professional', 'EUROPEAN', 'WINNERS', 'TIRANA', 'Winners', 'qualifying', 'soccer', 'Tirana', 'Chemlon', 'Humenne', '0-0', '50th', 'minute', '54th', '5,000', 'win', 'Chorzow', 'Ruch', 'Wales', '1-0', 'Bak', '1st', '55th', '47th', '63rd', '6,500', 'Larnaca', 'AEK', 'Cyprus', 'Armenia', '2-0', '28th', 'Klimis', 'Alexandrou', '41st', '60th', 'penalty', '82nd', '5-1', 'Siauliai', 'Lithuania', 'Sion', 'Vinnytsya', 'Nyva', 'Estonia', '3,000', 'Aggregate', 'score', '2-2', 'goals', 'rule', 'Bergen', 'Brann', 'Norway', 'Shelbourne', '10th', 'Ove', '5th', '5-2', 'Sofia', 'Bulgaria', 'Olimpija', 'Slovenia', 'Scorer', '58th', '25,000', '4-3', 'penalties', 'Vaduz', 'Liechtenstein', 'RAF', 'Riga', 'Latvia', '90th', 'Luxembourg', 'Varteks', 'Varazdin', '78th', '87th', 'Faroe', 'Islands', 'Dynamo', 'Batumi', 'Georgia', '0-2', 'Prague', 'Sparta', 'Northern', '4-0', '26th', '19th', 'Horst', '48th', '80th', '76th', 'Gabriel', '86th', 'Hearts', 'Star', 'Belgrade', 'Yugoslavia', 'Dave', '44th', '59th', 'Hapoel', 'Ironi', 'Constructorul', 'Chisinau', 'Moldova', 'Azerbaijan', 'Skopje', 'Macedonia', 'Kispest', 'Honved', 'Hungary', 'Add', 'Rishon', 'Tomas', 'Sergei', '42nd', 'Gennadi', '1,500', 'PUT', 'OUT', 'EURO', 'BUDAPEST', 'IFK', 'Gothenburg', 'drew', 'Ferencvaros', 'Champions', 'tie', 'played', '4-1', 'Horvath', '15th', 'Andreas', 'Andersson', '9,000', 'BRAZILIAN', 'RIO', 'DE', 'JANEIRO', 'midweek', 'Brazilian', 'championship', 'Bahia', 'Atletico', 'Paranaense', 'Corinthians', 'Guarani', 'Coritiba', 'Mineiro', 'Cruzeiro', 'Vitoria', 'Flamengo', 'Juventude', 'Goias', 'Sport', 'Recife', 'Gremio', 'Bragantino', 'Palmeiras', 'Vasco', 'da', 'Gama', 'Portuguesa', 'Parana', 'FUTURE', 'SYDNEY', 'captain', 'Newcombe', 'signalled', 'resignation', 'loses', 'Wimbledon', 'champion', 'coach', 'Tony', 'Roche', 'determined', 'events', 'lose', 'look', 'giving', 'someone', 'else', 'Sydney', 'world', 'Under', 'leadership', 'relegated', 'elite', 'slipped', 'Since', 'Fraser', 'doubles', 'partner', 'wins', 'losses', 'selected', 'semifinalist', 'Olympic', 'Woodforde', 'conceded', 'Croatian', 'absolute', 'best', 'described', 'toughest', 'faced', '1986', 'beaten', 'finalists', 'ago', 'guidance', 'BADMINTON', 'MALAYSIAN', 'KUALA', 'LUMPUR', 'Malaysian', 'badminton', 'Men', 'singles', '9/16', 'Luo', 'Yigang', 'Korea', '15-3', '15-7', 'Wong', 'Malaysia', 'Abdul', 'Ismail', '15-2', '17-14', 'Kantharoopan', '3/4', 'Jeroen', 'Van', 'Netherlands', '15-11', 'Wijaya', 'Indra', 'Indonesia', 'Chen', '15-6', 'Hu', 'Zhilan', 'Hermawan', 'Susanto', '15-8', '15-12', 'Women', '2nd', '11-3', '11-6', 'Sun', 'Marina', '11-8', '11-2', '11-1', 'Liu', '6-11', '11-7', 'Li', 'Zealand', 'Christine', 'Zhang', 'Ning', \"'S\", 'DRAW', 'NEW', 'Revised', 'draw', 'championships', 'beginning', 'U.S', 'Tennis', 'Centre', 'Pete', 'Sampras', 'vs.', 'Adrian', 'Voinea', 'Magnus', 'Larsson', 'Volkov', 'vs', 'Qualifier', 'Andrei', 'Olhovskiy', 'Roberto', 'Carretero', 'Jordi', 'Burillo', '------------------------', 'Jonas', 'Bjorkman', 'Christian', 'Rikl', 'Sjeng', 'Schalken', 'Schaller', 'Grant', 'Stafford', 'Guy', 'Forget', 'Fernando', 'Meligeni', 'Brazil', 'Yevgeny', 'Kafelnikov', 'Draper', 'Galo', 'Blanco', 'Johansson', 'Medvedev', 'Jean-Philippe', 'Fleurian', 'Kroslak', '14', 'Costa', 'Shuzo', 'Matsuoka', 'Doug', 'Flach', 'Mats', 'Wilander', 'Haarhuis', 'Tebbutt', 'Jonathan', 'Stark', 'Bernd', 'Karbacher', 'Stefan', 'Edberg', 'Richard', 'Krajicek', 'Andre', 'Agassi', 'Colombia', 'Marcos', 'Ondruska', 'Felix', 'Mantilla', 'Carlos', 'Moya', 'Humphries', 'Siemerink', 'Carl-Uwe', 'Steeb', 'Wheaton', 'Kevin', 'Kim', 'Nicolas', 'Lapentti', 'Ecuador', 'Karim', 'Alami', 'Enqvist', 'Stephane', 'Simian', 'Guillaume', 'Raoux', 'Filip', 'Dewulf', 'Belgium', 'Knowles', 'Bahamas', 'Filippini', 'Uruguay', 'Kris', 'Goossens', 'Stich', 'Chuck', 'Adams', 'Javier', 'Frana', 'Argentina', 'Courier', 'Grabb', 'Sandon', 'Stolle', 'Stefano', 'Pescosolido', 'Arnaud', 'Boetsch', 'Pereira', 'Venezuela', 'Gustafsson', 'Jeff', 'Tarango', 'Radulescu', 'Jared', 'Palmer', 'Hernan', 'Gumy', 'Nicklas', 'Kulti', 'Jakob', 'Hlasek', 'Cecil', 'Mamiit', 'Vince', 'Prinosil', 'Carbonell', 'BASEBALL', 'ORIOLES', 'JOHNSON', 'BALTIMORE', 'Baltimore', 'Orioles', 'Davey', 'Johnson', 'miss', 'Seattle', 'Mariners', 'hospital', 'irregular', 'heartbeat', 'hospitalized', 'treated', 'observed', 'Dr.', 'William', 'adding', 'released', 'Andy', 'Etchebarren', 'manage', 'absence', 'Angels', 'skipper', 'Columbia', 'Hospital', 'blood', 'clot', 'calf', 'eight', 'seasons', 'replacing', 'Cincinnati', 'Reds', 'League', 'guided', 'Mets', 'games', 'pull', 'within', 'slumping', 'Yankees', 'American', 'Division', 'MAJOR', 'LEAGUE', 'STANDINGS', 'WEDNESDAY', 'GAMES', 'Major', 'Baseball', 'standings', 'tabulate', 'lost', 'winning', 'percentage', 'AMERICAN', 'EASTERN', 'DIVISION', 'W', 'L', 'GB', '58', '.536', 'BOSTON', '64', '.496', '.457', 'DETROIT', '82', '28', 'CENTRAL', 'CLEVELAND', '.598', '.539', 'MINNESOTA', '.500', 'MILWAUKEE', '60', '.469', 'KANSAS', 'CITY', '18', 'WESTERN', 'TEXAS', '.575', 'SEATTLE', '61', '.512', 'OAKLAND', '62', '.481', 'CALIFORNIA', 'THURSDAY', 'AUGUST', 'SCHEDULE', 'ATLANTA', '46', 'MONTREAL', '.461', 'FLORIDA', 'PHILADELPHIA', 'HOUSTON', '.535', 'ST', 'LOUIS', '.532', '.504', 'CINCINNATI', 'PITTSBURGH', 'SAN', 'DIEGO', '.543', 'LOS', 'ANGELES', 'COLORADO', '65', 'FRANCISCO', '.435', 'CAPS', 'Chicago', 'Milwaukee', 'Oakland', 'Texas', 'Pittsburgh', 'St', 'Louis', 'Philadelphia', 'Montreal', 'PAST', 'Rusty', 'Greer', 'two-run', 'homer', 'inning', 'rallied', '10-8', 'Cleveland', 'Indians', 'rubber', 'three-game', 'series', 'With', 'pitch', 'Julian', 'Tavarez', 'right-field', 'fence', 'tried', 'swing', 'big', 'crowd', 'intense', 'shot', 'Ivan', 'Rodriguez', 'double', 'catcher', 'Johnny', 'Bench', 'Terry', 'Kennedy', '40', 'nine', 'meetings', 'Western', 'Jacobs', 'Field', 'joining', 'teams', 'A.L.', 'Central', 'extra', 'ninth', 'single', 'Ed', 'blew', 'save', 'got', 'allowing', 'hits', 'walks', 'strikeouts', '2/3', 'scoreless', 'Dean', '30th', 'Cal', 'Ripken', 'fifth-inning', 'solo', 'Bobby', 'Bonilla', 'three-run', 'seventh', 'power', 'surging', 'runs', 'fifth', '5-5', 'bottom', '21st', 'starter', 'Sterling', 'blast', 'Randy', 'Young', 'allowed', 'relief', 'appearances', 'disabled', 'RBI', 'cut', 'straight', 'homers', 'dropped', 'row', 'became', 'shortstop', 'major-league', 'history', '34', '22nd', 'Dickson', 'scattered', '1/3', 'debut', 'Chili', 'belted', 'each', 'plate', 'Derek', 'settled', '27th', 'pitcher', 'tying', 'Jimmy', 'Key', 'interim', 'Boston', 'Mike', 'Stanley', 'bases-loaded', 'eighth-inning', 'Sox', 'Athletics', 'owns', 'career', 'batting', 'bases', 'loaded', 'Mo', 'Vaughn', 'went', 'walk', 'stole', 'collected', 'homered', 'drove', 'Detroit', 'capped', 'four-run', 'eighth', 'Tigers', 'reeling', 'consecutive', 'dropping', 'Kansas', 'City', 'Juan', 'Guzman', 'tossed', 'six-hitter', 'ERA', 'Blue', 'Jays', 'Royals', 'span', 'earned', 'lowered', 'Minnesota', 'Jaha', 'five-run', 'Brewers', '10-7', 'Twins', 'Jose', 'Valentin', 'DOUBLE', 'PSV', 'WIN', 'Cocu', 'Eindhoven', 'Nijmegen', 'kick', 'minutes', 'Arthur', 'Numan', 'Luc', 'Nilis', 'scorer', 'Ajax', 'defence', 'NAC', 'Breda', 'DUTCH', 'SUMMARY', '11th', '67th', 'Halftime', '1-2', 'RESULT', 'SWISS', 'GENEVA', 'Galatasaray', 'Knup', '26', 'internationals', 'recalled', 'overlooked', 'Artur', 'Jorge', 'finals', 'Rolf', 'clearly', 'progress', 'beyond', 'phase', 'Euro', 'Squad', 'Goalkeepers', 'Marco', 'Cagliari', 'Pascal', 'Grasshoppers', 'Defenders', 'Hamburg', 'Ramon', 'Vega', 'Raphael', 'Midfielders', 'Alexandre', 'Antonio', 'Stuttgart', 'Christophe', 'Lausanne', 'Servette', 'Inter', 'Milan', 'Strikers', 'Borussia', 'Dortmund', 'ATHLETICS', 'IT', 'RECORD', '40,000', 'THE', 'Brussels', 'grand', 'prix', 'athletes', 'performances', 'glass', 'beer', 'Belgian', 'pay', 'drinks', 'goes', 'organisers', 'expensive', 'rounds', 'ever', 'already', 'records', 'broken', 'women', '1,000', 'ROUND', 'STUTTGART', 'Leading', 'golf', 'Broadhurst', 'Raymond', 'Ian', 'Woosnam', 'Bernhard', 'Langer', 'Ronan', 'Rafferty', 'Lanner', 'Riley', 'Eamonn', 'Darcy', 'Claydon', 'Roe', 'Retief', 'Goosen', 'Carl', 'Suneson', 'Stephen', 'Lawrie', 'Pyman', 'Max', 'Miles', 'Cevaer', 'Des', 'Smyth', 'Carter', 'Lee', 'Westwood', 'Miguel', 'Angel', 'Bjorn', 'Roca', 'Derrick', 'Hawksworth', 'Padraig', 'Harrington', 'Gogele', 'McGinley', 'Gary', 'Orr', 'Canizares', 'Jonzon', 'Eales', 'Williams', 'Andrew', 'Coltart', 'Lomas', 'Robert', 'Karlsson', 'Marcus', 'Pedro', 'Linhart', 'Jamie', 'Price', 'UEFA', 'THREE', 'PLAY', 'rewarded', 'additional', '1997-98', 'headed', 'Fair', 'Play', 'rankings', '8.62', '8.61', '8.57', 'formula', 'account', 'factors', 'including', 'red', 'yellow', 'coaching', 'spectators', 'behaviour', 'clubs', 'national', 'allocated', 'places', '4.', '5.', '6.', '7.', '8.', 'Belarus', '9.', 'Iceland', '10.', '8.30', '13.', '8.29', '15.', '16.', '8.22', '18.', '19.', '20.', '21.', '8.15', '23.', '8.12', 'Portugal', '26.', '8.09', '8.05', '33.', '8.02', '37.', 'Greece', '7.89', '7.40', 'POLICE', 'AUSTRALIANS', 'MATCH', 'COLOMBO', 'Armed', 'police', 'commandos', 'patrolled', 'ground', 'tour', 'Sri', 'Lanka', 'youth', 'limited', 'overs', 'includes', 'India', 'promised', 'presence', 'sniffer', 'dogs', 'plainclothes', 'policemen', 'trouble-free', 'making', 'boycotting', 'fixture', 'ethnic', 'violence', 'warm-up', '251', 'Ricky', 'Ponting', '119', 'balls', 'sixes', 'fours', 'retiring', 'replied', 'Marsh', 'made', 'sweat', 'ONE', 'ROMANIAN', 'DIES', 'CRASH', 'SOFIA', 'One', 'Romanian', 'others', 'injured', 'bus', 'collided', 'Bulgarian', 'buses', \"o'clock\", 'morning', 'road', 'towns', 'woman', 'Maria', '35', 'accident', 'investigated', '359-2-84561', 'OFFICIAL', 'JOURNAL', 'CONTENTS', 'OJ', '211', '*', 'Note', 'contents', 'displayed', 'reverse', 'order', 'printed', 'Journal', 'Corrigendum', 'Regulation', 'EC', 'invitation', 'tender', 'refunds', 'white', 'sugar', '187', 'certain', 'payments', 'system', 'producers', 'arable', '91', 'establishing', 'standard', 'values', 'determining', 'entry', 'vegetables', 'END', 'DOCUMENT', 'Home', 'Health', 'appeal', 'payment', 'denial', 'District', 'Court', 'Minneapolis', 'decision', 'Administration', 'HCFA', 'reimbursement', 'Medicaid', 'reversed', 'previously', 'favorable', 'regarding', 'related', 'community', 'liaison', 'personnel', 'continues', 'believe', 'majority', 'terms', 'Medicare', 'program', 'administrator', 'optimistic', 'ultimate', 'resolution', 'Gildea', 'recorded', 'reserve', 'equal', 'revenue', 'ruled', 'favor', 'expenses', 'disputed', 'court', 'dispute', 'pleased', 'significant', 'toward', 'disputes', 'Newsdesk', '312-408-8787', 'Oppenheimer', 'Oct.', 'div', 'LP', 'distribution', 'rate', 'quarterly', 'improved', 'ended', 'declared', 'partnership', 'unit', 'Best', 'sees', 'Va', 'Products', 'Co', 'Chairman', 'Chief', 'second-quarter', 'retailer', 'annual', 'even', 'bankruptcy', 'emerged', '3-1/2', 'always', 'particularly', 'you', 'something', 'stores', 'fall', 'closing', 'plan', 'operates', '169', 'states', 'For', '29', '0.23', 'exposure', 'bowel', '1996-08-23', 'measles', 'pregnant', 'babies', 'Crohn', 'disorder', 'researchers', 'Swedish', 'born', 'mothers', 'caught', 'developed', 'cases', 'Dr', 'Wakefield', 'Free', 'School', 'colleagues', 'delivered', 'University', '1940', '1949', 'Four', 'children', 'wrote', 'medical', 'journal', 'inflammation', 'sometimes', 'require', 'surgery', 'causes', 'pain', 'weight', 'involved', 'especially', 'severe', 'viruses', 'often', 'cause', 'birth', 'Most', 'notably', 'high', 'baby', 'All', 'key', 'CBI', 'industrial', 'Following', 'survey', 'manufacturing', 'Confederation', 'Industry', 'AUG', 'JULY', 'JUNE', 'MAY', 'book', 'stocks', 'goods', '+17', 'expectations', '+22', '+6', '+4', 'replying', 'above', 'normal', 'below', 'companies', 'representing', 'industries', 'accounting', 'employees', 'tonnage', 'brokers', 'vessels', 'built', '1989', 'dwt', 'buyers', 'Maru', '1982', 'Some', 'subject', 'inspection', 'Garlic', 'pills', 'cholesterol', 'finds', 'studies', 'show', 'doctors', 'Oxford', 'people', 'benefit', 'garlic', 'tablets', '115', 'levels', '900', 'dried', 'placebo', 'differences', 'groups', 'receiving', 'College', 'Physicians', 'Those', 'diet', 'findings', 'Several', 'pressure', 'either', 'trials', 'special', 'six-month', 'trial', 'funded', 'Heart', 'GmbH', 'makes', 'brand', 'address', 'whole', 'affect', 'gives', 'aid', 'Caribbean', '39', 'development', 'Montserrat', 'much', 'population', 'living', 'south', 'fled', 'volcano', 'times', '4,500', 'Plymouth', 'evacuated', 'north', 'schools', 'provide', 'track', 'programme', 'designated', 'area', 'Overseas', 'Development', '8.5', 'dependent', 'territories', 'active', 'recent', 'census', 'shown', 'remain', 'she', 'Bill', 'Berkrot', 'Grand', 'Slam', 'seed', 'Steffi', 'Graf', 'aiming', 'able', 'ease', 'major', 'begins', 'opens', 'crown', 'top-ranked', 'Yayuk', 'Basuki', 'ceremony', 'revealed', 'both', 'holders', 'third-round', 'rising', 'avenged', 'defeat', '19-year-old', 'While', 'stunning', 'upset', 'sailing', 'semifinal', 'showdown', 'star', 'tested', 'probably', 'Natasha', 'Zvereva', 'repeat', 'landing', 'sixth', 'avoided', 'possibility', 'quarter-finals', 'lock', 'ranked', 'Monica', 'Seles', 'Anne', 'Miller', 'victim', 'Austrian', 'seeded', 'luck', 'faces', 'playing', 'fifth-seeded', 'Perhaps', 'yet', 'unfortunate', 'first-round', 'pits', 'popular', 'Swede', 'two-time', 'one-match', 'affair', 'exception', 'looks', 'comfortable', 'Frenchman', 'ailing', 'nursing', 'rib', 'injury', 'path', 'runner-up', 'Anke', 'Huber', 'Conchita', 'Martinez', 'eighth-seeded', 'Lindsay', 'Davenport', 'looking', 'opponents', 'Amanda', 'Coetzer', 'young', 'Martina', 'Hingis', '16th', 'probable', 'quarter-final', 'clash', 'Jana', 'Novotna', 'Ruxandra', 'Dragomir', '61-2', '9373-1800', 'RTRS', 'rallies', 'worked', 'second-round', 'along', 'seeds', 'unseeded', 'Other', 'advancing', 'Eighth', 'eliminated', 'hour', '55', 'saved', 'point', 'third-set', 'break', 'compatriot', '13th', 'marathon', 'knew', 'ranks', 'service', 'breaks', 'strokes', 'chipping', 'serving', 'really', 'timing', 'baseline', 'chances', 'every', 'come', 'Playing', 'maybe', 'difference', '2-5', 'deficit', 'erratically', 'surprise', 'famous', '32', '24-year-old', 'quick', 'arrived', 'And', 'feeling', 'soon', \"'m\", 'fought', 'serves', 'hoped', 'tight', 'Then', 'forehand', 'helped', 'Soccer', 'Korean', 'pro-soccer', 'SEOUL', 'Anyang', 'Chonnam', 'Puchon', 'Suwon', 'Standings', 'drawn', 'D', 'G', 'F', 'P', 'Chonan', 'Pohang', 'Pusan', 'Ulsan', 'Chonbuk', 'Senegal', 'cholera', 'outbreak', 'kills', 'DAKAR', 'central', 'Doctor', 'staff', 'symptoms', 'appear', 'deaths', '160', 'miles', 'southeast', 'Senegalese', 'Nigerian', 'Liberia', 'ECOMOG', 'MONROVIA', 'Sam', 'Victor', 'Malu', 'commander', 'latest', 'civil', 'officers', 'handover', 'dozen', 'accords', 'difficult', 'challenging', 'painful', 'harassed', 'assure', 'sight', 'Nations', 'observers', 'travelling', 'western', 'monitor', 'delayed', 'shooting', 'highway', 'Anthony', 'finally', 'faction', 'Faction', 'Abuja', 'Saturday', 'breaking', 'disarmament', '60,000', 'combatants', '10,000', 'Economic', 'Community', 'Guinea', 'prayer', 'CONAKRY', 'broadcast', 'repeatedly', 'dead', 'precise', 'reason', 'clear', 'Lansana', 'Conte', 'vice-president', 'Organisation', 'Conference', 'prepare', 'reading', 'sessions', 'prayers', 'farming', 'army', 'survived', 'revolt', 'topple', 'ordered', 'crackdown', 'corruption', 'seized', '1984', 'death', 'Toure', '1993', 'answers', 'bottle', 'JOHANNESBURG', 'boy', 'writing', 'girl', 'whose', 'washed', 'Nelson', 'Mandela', 'old', 'prison', 'Carlo', 'son', 'beach', 'Island', 'Cape', 'Town', 'winter', 'letter', 'ordinary', 'post', 'Murray', 'age', 'reply', 'whoever', 'journey', 'Atlantic', 'Ocean', 'dog', 'belonging', 'elderly', 'couple', 'grandson', 'front', 'garden', 'grandparents', 'house', 'Johannesburg', 'His', 'bloody', 'body', 'parents', 'pick', 'unclear', 'fierce', 'enough', 'scare', 'becoming', 'increasingly', 'INDICATORS', 'updated', 'CPI', 'm', '7.8', 'Current', 'Jan-May', 'NBH', '934', 'MIT', 'Jan-June', 'bln', 'Gross', '27,246.5', '14,390.7', '10.6', 'Budget', '102', '122', 'T-bill', 'yields', '%', 'Government', '1998', 'J', 'Duff', '&', 'Phelps', 'Thomson', 'Moody', 'Investors', 'Credit', 'Rating', 'Agency', 'flow', 'Budapest', '36', '2410', 'die', 'MOSCOW', 'least', 'servicemen', 'separatist', 'Chechen', 'Grozny', 'Interfax', 'command', 'Chechnya', '200', 'interior', 'mission', 'clashed', 'independently', 'confirmed', 'peacemaker', 'Lebed', 'chief-of-staff', 'Aslan', 'Maskhadov', 'agreement', 'cease', 'noon', '0800', '1500', 'raged', '1600', 'schoolgirl', 'textbooks', 'letters', 'threatening', 'explained', 'money', '13-year-old', 'zlotys', 'residents', 'Sierakowice', 'lives', 'nearby', 'railway', 'station', 'school', 'books', 'clothes', 'case', 'poor', 'family', 'trouble', 'underage', 'offenders', 'CNB-120', 'index', 'pts', '869.3', 'PRAGUE', 'broad', 'measure', 'equities', 'ten', 'indices', 'banking', '14.4', '42-2-2423-0003', 'sign', 'NOVYE', 'ATAGI', 'Boris', 'Yeltsin', 'security', 'renewed', 'document', 'negotiated', 'village', 'officially', 'disclosed', 'Itar-Tass', 'provided', 'aide', 'Russian-Chechen', 'Talks', 'detailed', 'Press', 'rebel-held', 'progressing', 'mood', 'completed', 'signature', 'showed', 'smiling', 'nominee', 'Tatyana', 'returned', 'Kremlin', 'two-day', 'northwestern', 'Bosnia', 'SARAJEVO', 'Sarajevo', 'Bosnian', 'federation', 'launches', 'common', 'taxes', 'kuna', 'Deutsche', 'mark', 'currency', 'introduced', 'Refugees', 'Mirhunisa', 'Komarica', 'survivors', 'massacre', 'Srebrenica', 'Serbian', 'mines', 'According', '2,400', 'male', 'mine', '1,900', 'Slovenian', 'briefly', 'Ljubljana', 'cancel', 'overnight', 'raids', 'planes', 'artillery', 'although', 'sporadic', 'heard', 'speaking', 'arrival', 'flew', 'firing', 'anything', 'clinched', 'separatists', 'halt', 'threatened', 'bombing', 'assault', 'passengers', 'rescued', 'Colombian', 'coast', 'BOGOTA', 'Coast', 'Guard', 'boat', 'Pacific', 'missing', 'tiny', 'southwest', 'trip', 'fuel', 'Navy', 'boatman', 'sea', 'towed', 'Argentine', 'raw', 'steel', '14.8', 'BUENOS', 'AIRES', '1.9', 'Steel', 'Center', 'Primary', 'iron', '0.1', 'production', '0.8', 'Production', 'cold', '4.2', 'Buenos', 'Aires', 'Peru', 'kill', 'jungle', 'northeastern', 'terrorist', 'sources', 'Maoist', 'Shining', 'Path', 'small', 'northeast', 'Lima', 'villagers', 'propaganda', 'speeches', 'centre', 'passing', 'slogans', 'By', 'severely', 'weakened', '1992', 'capture', 'stepping', 'activities', 'guerrilla', 'conflicts', 'cost', 'damage', 'infrastructure', '1980', 'Former', 'Surinam', 'Brunswijk', 'custody', 'charged', 'attempted', 'murder', 'turned', 'himself', 'Pinas', 'visitor', 'brawl', 'mining', '56', '90', 'east', 'showing', 'cuts', 'bruises', 'feared', 'shoot', 'advances', 'wife', 'charges', 'merely', 'less', 'uprising', 'regime', 'conflict', '500', 'caused', 'thousands', 'flee', 'neighbouring', '1980s', 'eventually', 'Despite', 'numerous', 'businessman', 'logging', 'interests', 'manages', 'saw', 'leads', 'Thai', 'heroin', 'BANGKOK', 'Hong', 'Kong', 'arrested', 'kg', 'complaints', 'noisy', 'Cheung', 'Man', 'searched', 'bags', 'hidden', 'wooden', 'planks', 'hired', 'hide', 'Police', 'several', 'door', 'street', 'baht', 'Officials', 'hunting', 'collaborators', 'detained', 'pending', 'formal', 'Downer', 'follows', 'nations', 'consulate', 'sovereignty', 'colony', 'mid-1997', 'strained', 'sell', 'issues', 'affecting', 'include', 'plans', 'pact', 'Canberra', 'Tibet', 'exiled', 'spiritual', 'conservative', 'bookseller', 'Information', 'undertaking', 'distribute', 'written', 'critics', 'self-rule', 'deals', 'anyone', 'legal', 'Amman', 'Daoud', 'owner', 'copies', 'Edward', 'Said', 'prominent', 'scholar', 'citizen', 'origin', 'outspoken', 'critic', 'accord', 'On', 'confiscated', 'Israel-PLO', 'Taha', 'insisted', 'Authority', 'strategy', 'freedom', 'whatsoever', 'resulted', 'mistakes', 'explain', 'journalists', 'writers', 'banned', 'shop', 'sure', 'selling', 'think', '?', 'Strip', 'Jewish', 'handed', 'parts', 'blames', 'Istanbul', 'tower', 'CAIRO', 'carrier', 'EgyptAir', 'airport', 'Boeing', 'runway', 'fire', 'taxi', 'onto', 'line', 'Mohamed', 'conference', 'instead', 'yards', 'steep', 'aviation', 'noted', 'pilot', 'Its', 'wet', 'medium', 'wrong', 'private', 'wants', 'nothing', 'Sudanese', 'rulers', 'Egyptian', 'shelter', 'militants', 'Hosni', 'Mubarak', 'speech', 'Moslem', 'Addis', 'Ababa', 'Security', 'Council', 'flights', 'Khartoum', 'incident', 'effect', 'Sudan', 'fails', 'extradite', 'cannot', 'Ethiopia', 'whatever', 'academics', 'Front', 'bitter', 'terrorists', 'far', 'relations', 'shares', 'shed', 'profit-taking', 'amid', 'totalled', 'volume', '7.2', 'trillion', 'lira', 'actually', 'reaction', 'rise', 'tomorrow', 'Interbank', 'Brokers', 'profit', 'approached', '65,000', 'attracted', '67,000', 'session', 'gained', 'Shares', 'utility', '0.47', '0.55', 'Of', '218', 'gainers', 'stable', 'SA', 'Miss', 'Universe', 'silence', 'Alicia', 'Machado', 'Mexico', 'questions', 'claims', 'crash', '19', 'Los', 'Angeles', 'slipping', 'Las', 'attended', 'USA', 'pageant', 'ultimatum', 'Inc.', 'drop', 'losing', 'weighed', '112', 'addiction', 'crazy', 'Organisers', 'blocked', 'access', 'heavier', 'reviews', 'appearance', 'stage', 'She', 'stay', 'sponsors', 'returning', 'Sept', 'high-profile', 'alleged', 'eased', 'fat', 'putting', 'fine', 'wished', 'happened', 'associated', 'routine', 'exercise', 'ability', 'type', 'Kevorkian', 'suicide', 'bringing', '40-year-old', 'suffering', 'multiple', 'sclerosis', 'emergency', 'room', 'Patricia', 'Smith', 'midday', 'paralysed', '37th', 'attending', 'starting', 'doctor', 'lawyer', 'husband', 'father', 'James', 'patients', 'location', 'rapidly', 'Louise', 'Judith', 'Massachusetts', 'suffered', 'chronic', 'life', 'Fairview', '1.82', 'Baa1', 'Announcement', 'As', 'Issuer', 'Sale', 'Amount', 'Expected', 'Municipal', 'Desk', '212-859-1650', 'neo-Nazi', 'jailed', 'sentenced', 'Lauck', 'extremist', 'base', 'Lincoln', 'tirade', 'abuse', 'conviction', 'racial', 'struggle', '43-year-old', 'shouted', 'escorted', 'client', 'offence', 'hailed', 'neo-Nazism', 'network', 'material', 'flowing', '1970s', 'machine', 'judge', 'Bertram', 'cannon', 'praising', 'Hitler', 'greatest', 'Nazi', 'slaughter', 'millions', 'Jews', 'myth', 'bars', 'complex', 'prosecutor', 'offences', 'demanded', 'five-year', 'satisfied', 'sentence', 'distributing', 'illegal', 'argued', 'laws', 'meant', 'produce', 'magazines', 'videos', 'flags', 'Interior', 'welcomed', 'biggest', 'vicious', 'racist', 'Social', 'Democrats', 'dressed', 'blue', 'suit', 'sporting', 'spent', 'virtually', 'incomprehensible', 'Neither', 'Socialists', 'nor', 'communists', 'kidnap', 'reference', 'extradition', 'truth', 'attorney', 'Sieg', 'judges', 'actions', 'carried', 'obsessed', 'devoted', 'Socialist', 'Workers', 'NSDAP-AO', 'name', 'During', 'three-month', 'dealt', 'Battle', 'magazine', 'statements', 'rejected', 'argument', 'request', 'convicted', 'organisations', 'arrest', 'UN', 'occur', 'NATIONS', 'arrangements', 'implement', 'oil-for-food', 'quite', 'secretary-general', 'Yasushi', 'Akashi', 'monitors', 'carry', 'Department', 'Humanitarian', 'deputy', 'speculated', 'Suspected', 'killers', 'bishop', 'Algeria', 'TV', 'Algerian', 'suspected', 'killing', 'state-run', 'sought', 'slain', 'assassination', 'Roman', 'Catholic', 'Pierre', 'Claverie', 'bomb', 'Herve', 'Algiers', '50,000', 'Algerians', '110', 'foreigners', 'pitting', 'radical', 'Islamists', 'commanding', 'flown', 'January-July', 'table', 'shows', 'volumes', 'airports', 'exclude', 'trucked', 'association', 'Berlin', '5.9', '3.1', '202', '16.8', 'Bremen', '11.4', '4.4', 'Frankfurt', '1.5', '3.5', 'Cologne', '11.8', 'Munich', '382', '17.8', 'TOTAL', 'Air', 'Cargo', 'Tel+44', '161', '7706', 'Fax+44', '5017', 'Paribas', 'Aegon', 'research', 'Not', 'forecast', 'performance', 'EPS', 'E', 'Dividend', '2.75', 'Fax', '5040', 'Clinton', 'Ballybunion', 'fans', 'DUBLIN', 'resort', 'Irish', 'So', 'America', 'Dick', 'Spring', 'convention', 'bring', 'placards', 'waved', 'addressed', 'packed', 'Dublin', 'backs', 'requested', 'us', 'Frank', 'process', 'observe', 'Erdmann', 'Wolfgang', 'Ischinger', 'assured', 'valid', 'Primakov', 'pledge', 'seek', 'solution', 'Cooperation', 'OSCE', 'quoting', 'Klaus', 'Kinkel', 'personal', 'urge', 'breakaway', 'threat', 'unauthorised', 'initiative', 'intention', 'positive', 'responsible', 'DELHI', 'global', 'nuclear', 'treaty', 'Delhi', 'intended', 'Gujral', 'block', 'Geneva', 'entering', 'signing', 'kind', 'weapons', '1974', 'Experts', 'Comprehensive', 'Test', 'Ban', 'Treaty', 'CTBT', 'bilateral', 'text', 'position', 'clause', 'providing', 'Asked', 'forwarded', 'Assembly', 'bridge', 'cross', 'reiterated', 'objections', 'negotiation', 'Disarmament', 'fact', 'weapon', 'concerns', 'impossible', 'oblige', 'option', 'carrying', 'tests', 'lone', 'accept', 'DHAKA', 'Bangladeshi', 'Dhaka', 'Bangladesh', 'goverment', 'importance', 'Siraj', 'Mia', 'Under-Secretary', 'Commonwealth', 'Affairs', 'Liam', 'Fox', 'arriving', 'injuries', 'relatives', 'complained', 'murdered', 'wrist', 'act', 'seriously', 'reasons', 'important', 'relationship', 'leave', 'Nepal', 'governments', 'House', 'matter', 'investigation', 'outcome', 'nationals', 'Investigation', 'immigration', 'connection', 'business', 'suburb', 'disrupt', 'Kashmir', 'polls', 'planning', 'troubled', 'Jammu', 'seems', 'Gupta', '1987', 'direct', 'valley', 'Islamabad', 'create', 'among', 'growing', 'independence', '1947', 'hopes', 'restore', '20,000', 'Over', 'militant', 'engineering', 'banks', 'edged', 'sharply', 'institutional', 'investors', 'Stock', 'Exchange', '0.7', 'turnover', 'taka', 'remained', 'unchanged', 'Eastern', 'recovered', 'edge', 'ratio', 'Reserve', 'bank', 'governor', 'Rangarajan', 'CRR', 'maintained', 'reduced', 'yes', 'addressing', 'having', 'supply', 'regulate', 'increasing', 'stood', 'commitment', 'response', 'BOMBAY', 'gross', 'product', 'GDP', 'sustainable', 'real', '16-17', 'reduction', 'Bombay', '+91-22-265', '9000', 'Mother', 'Teresa', 'CALCUTTA', 'Saint', 'Nobel', 'Prize', '1979', 'hope', 'dignity', 'unwanted', 'simple', 'love', 'honours', 'nun', 'Albanian', 'maintains', 'joy', 'neglected', 'need', 'sympathy', 'pity', 'compassion', 'missionary', 'intensive', 'Indian', 'heart', 'turns', '86', 'conscious', 'condition', 'task', 'alone', 'Calcutta', 'grew', 'hearts', 'unworthy', 'showering', '80', 'highest', 'award', 'Her', 'fitted', 'Vatican', 'Missionaries', 'Charity', 'More', 'delegates', 'elect', 'successor', 'agree', 'bacterial', 'pneumonia', 'Rome', 'receive', 'malaria', 'lung', 'fractured', 'collar', 'bone', 'arthritis', 'failing', 'stopped', 'desperate', 'Serbia', 'religious', 'Loretto', 'hoping', 'Order', 'Abbey', 'begin', 'convent', 'approved', 'training', 'missionaries', 'Jesus', 'simply', 'dying', 'rest', 'Nirmal', 'Hriday', 'chain', '150', 'homes', 'destitute', '18,000', 'founded', 'Catholics', 'forecasts', 'boost', 'Bernard', 'Media', 'Rupert', 'Murdoch', 'News', 'Ltd', '1995/96', 'profits', 'film', 'Independence', 'Day', '1996/97', 'From', 'perspective', 'begun', 'promise', 'motion', 'picture', 'announcing', 'solid', 'orders', 'advertising', 'Broadcasting', 'budgeted', 'shareholders', 'pre-abnormals', 'A$', 'US$', 'cents', 'Analysts', 'disappointing', 'outlook', 'First', 'Drummond', 'offset', 'publishing', 'Asian', 'operations', 'Higher', 'newsprint', 'hard', 'operating', 'cover', 'Times', 'revenues', 'arm', 'Harper-Collins', 'healthy', 'operation', 'Book', 'Agreement', 'hurt', 'San', 'minimum', 'setting', 'expired', 'pulled', \"'re\", 'internal', 'declined', '2.00', 'p.m.', '0400', 'soft', '0.79', '373-1800', 'savings', 'RBA', 'CANBERRA', 'budget', 'useful', 'contribution', 'realised', 'raising', 'consolidation', 'restrict', 'Coalition', 'underlying', 'pledged', '1998/99', 'effects', 'activity', 'generally', 'long-term', 'saving', 'promote', 'investment', 'BNZ', 'NZ', 'fixed', 'lending', 'WELLINGTON', 'cutting', '10.5', '11.25', 'responding', 'Wellington', '4734', '746', 'Power', 'ODV', 'NZ$', 'reflected', 'consistent', 'approach', 'followed', 'equipment', 'disclosure', 'requirements', 'hunt', 'breaker', 'Thailand', 'launched', 'Bangkok', 'awaiting', 'drug', 'possession', 'Westlake', 'Victoria', 'escape', 'Klongprem', 'massive', 'confident', 'Vivit', 'trafficking', 'cell', 'window', 'climbed', 'wall', 'bed', 'department', 'probing', 'inmates', 'prevent', '266', 'Australians', 'Tokyo', 'Soir', 'parent', 'TOKYO', 'Year', 'billions', 'yen', 'specified', 'LATEST', 'ACTUAL', 'Parent', 'FORECAST', 'YEAR-AGO', 'Sales', '400', '250', '84', '11.61', '3.92', 'Ord', '10.00', 'NOTE', 'manufacturer', 's', 'wear', 'Ka', 'Wah', 'HK$', '43', 'mln', 'HONG', 'KONG', 'floating', 'privately', 'placed', 'Markets', 'facility', 'pays', 'coupon', 'basis', 'Rate', '852', 'bans', 'nitrofuran', 'chicken', 'applications', 'believes', 'cancer', 'breeders', 'respect', 'safety', 'Chua', 'two-year', 'maximum', '2000', 'STOCKS', 'watch', 'JAKARTA', 'Indonesian', '**', 'Jakarta', 'involving', 'Megawati', 'Sukarnoputri', 'Around', 'stationed', 'demonstrators', 'Dow', 'streak', 'tobacco', 'beating', 'MARKETS', '0.48', 'rupiah', '43.50', 'trading', 'Super', 'offer', 'PT', 'wholly-owned', 'subsidiary', 'Der', 'obtaining', 'fresh', 'loans', 'management', 'reshuffle', 'equity', 'build', 'property', 'projects', 'worth', 'Surabaya', 'stock', 'movements', 'exchanges', 'change', 'highs', 'lows', 'dates', 'Also', 'Japanese', 'pound', 'gold', 'closes', 'CLOSE', '5,778.00', '3,907.5', 'Jun', 'Mar', '2,583.49', 'Apr', 'Feb', 'GOLD', 'Dollar', '....', 'Gold', 'ounce', 'AND', 'Nikkei', 'Dec', 'CAC-40', 'marks', 'KIEV', 'inter-ethnic', 'post-Soviet', 'achievement', 'declaration', 'effectively', 'blow', 'Soviet', 'empire', 'centuries', 'largest', 'Kuchma', 'televised', 'Unlike', 'situations', 'peaceful', 'initially', 'accompanied', 'collapse', 'signs', 'Inflation', 'economy', 'grow', 'Palace', 'turning', 'reforms', 'doubt', 'Monetary', 'Fund', 'proud', 'hryvna', 'replace', 'karbovanets', 'rouble', 'trades', '33', 'introduce', 'postpone', 'promptly', 'NATO', 'policy', 'wrangle', 'unofficial', 'top-level', 'delegation', 'protest', 'Kiev', 'seeing', 'itself', 'eastern', 'strategic', 'aim', 'though', 'circles', 'push', 'membership', 'associate', 'grouping', 'closer', 'anniversary', 'promising', 'factor', 'united', 'disappears', 'earliest', 'complete', 'example', 'disappeared', 'Gazeta', 'Shqiptare', 'Mass', 'Buzuku', 'dating', 'discovered', 'published', 'language', 'Albanians', 'lamented', 'library', 'grateful', 'barter', 'keen', 'adopt', 'concerned', 'disguised', 'Volkova', 'Committee', 'exported', 'unimported', 'Barter', '4.9', 'issued', 'decree', 'regulation', 'situation', 'traders', 'obliged', '180', 'tackling', 'feature', 'decrees', 'preferred', 'transfer', 'systems', 'various', 'sorts', 'incompetent', 'experienced', 'ones', 'Dmitry', '+7095', '941', '8520', 'Viacom', 'Mission', 'sequel', 'Paramount', 'Cruise', 'Impossible', 'release', 'Variety', 'version', 'spy', '175', 'plot', 'Academy', 'Goldman', 'write', 'script', 'Brian', 'De', 'Butch', 'criticised', 'singled', 'entertaining', 'movie', 'batsman', 'delay', 'resuming', 'quest', 'century', 'Heavy', 'rain', 'improvement', 'weather', 'umpires', 'announce', 'event', 'unbeaten', 'spotted', 'damp', 'square', '1230', 'brighter', 'bowled', '1800', 'MOTOR', 'BELGIAN', 'GRAND', 'PRIX', 'PRACTICE', 'TIMES', 'SPA-FRANCORCHAMPS', 'practice', 'Gerhard', 'Berger', 'Benetton', 'seconds', 'Coulthard', 'McLaren', 'Jacques', 'Villeneuve', 'Mika', 'Hakkinen', 'Heinz-Harald', 'Frentzen', 'Jean', 'Alesi', 'Damon', 'Hill', 'Schumacher', 'Brundle', 'Rubens', 'Barrichello', '11.', 'Herbert', 'Sauber', '12.', 'Olivier', 'Panis', 'Ligier', '[', 'CORRECTED', ']', 'Quarter-finals', 'Gabriela', 'Sabatini', 'Asa', 'Carlsson', 'Katarina', 'Studenikova', 'Karina', 'Habsudova', 'Corrects', 'Portsmouth', 'Queens', 'Tranmere', 'Grimsby', 'Stirling', 'Albion', '298-6', 'Harden', 'Gooch', '105', 'Robinson', '255-3', 'Hooper', '389', '4-36', 'K.', 'Curran', '310', '83', 'T.', 'Munton', 'Illingworth', '4-54', 'Lampitt', '4-90', '529-8', '181', 'Blakey', '109', '162-4', 'Fairbrother', 'POLLOCK', 'WARWICKSHIRE', 'Shaun', 'Pollock', 'ankle', 'county', 'returns', 'swap', 'premature', 'departure', '106', '116', 'wicket', '1-106', 'Score', '4-95', 'Middlesbrough', 'Italian', 'Ravanelli', 'shirt', 'seen', 'Every', 'forward', 'celebrate', 'fun', 'chest', 'foot', 'Chelsea', 'Forest', 'Robson', 'ADVANCE', 'reached', 'victories', 'sixth-seeded', 'advanced', 'three-hour', 'eliminating', 'Americans', 'overcame', '2-6', '12th-ranked', 'getting', 'handle', 'pretty', 'easily', 'things', 'missed', 'Before', 'felt', 'midnight', 'person', 'aggressive', 'wind', 'affected', '26-year-old', 'ATP', 'Tour', 'Haven', 'hitting', 'ball', 'mental', 'competing', 'lot', 'shots', 'Still', 'joked', 'Today', 'mostly', 'RUGBY', 'UNION', 'SECOND', 'Mulder', 'Pretoria', 'fitness', 'check', 'bruised', 'Markgraaff', 'means', 'Snyman', 'cap', 'alongside', 'colleague', 'speculation', 'wing', 'shortly', 'denote', 'seedings', 'Ong', 'Ewe', 'Hock', '15-10', '15-5', '5-4', '15-9', 'Rubin', 'Championships', 'tendinitis', 'sidelined', 'misfortune', 'lucky', 'player', 'moved', 'withdrawal', 'Mary', 'McGrath', '.450', '.578', '.516', '.477', '.465', 'FRIDAY', '47', '.406', '.531', '.528', '.425', 'HITS', 'SLAM', 'Moyer', 'Sorrento', 'slam', 'routed', '10-3', '10-2', 'tagged', 'pair', 'Devereaux', 'Brady', 'Anderson', 'walked', 'none', 'struck', 'Charlton', 'batters', 'Ken', 'Jr', 'Edgar', 'back-to-back', 'Rocky', 'Coppinger', 'Jay', 'Buhner', '7-0', 'advantage', 'Right', 'fielder', 'wild-card', 'heading', 'pitches', 'Troy', \"O'Leary\", 'foul', 'pole', 'Roger', 'Clemens', 'shutout', 'pinch-hitter', 'Matt', 'majors', 'pitched', 'Acre', '0-1', 'apiece', 'highlighted', 'six-run', 'battered', 'outscored', 'Finley', 'four-game', 'doubled', 'go-ahead', 'claimed', 'handing', 'halted', 'Thompson', '12-8', 'en', 'route', 'contests', '14-7', 'yielded', 'covering', 'Erik', 'Hanson', 'outdueled', 'Fernandez', 'Jacob', 'blanked', '11-15', 'SEASON', 'LISBON', 'Sporting', 'Luis', 'Predrosa', 'Lisbon', 'cruised', '3-1', 'SC', 'Espinho', 'drilled', 'Although', '35th', 'restored', '38th', 'Mustapha', '57th', 'reigning', 'Porto', 'Benfica', 'PORTUGUESE', 'Portuguese', 'TAKE', 'Pauli', 'candidates', 'relegation', 'produced', 'second-half', 'Bundesliga', 'Schalke', 'raced', 'Trulsen', 'two-goal', 'cushion', 'afterwards', 'Springer', '64th', 'thanks', 'Hansa', 'Rostock', 'Karsten', 'Baeron', 'BREAKS', 'METRES', 'Salah', 'Hissou', 'clocked', '38.08', 'SUMMARIES', 'Summaries', 'Thon', '34th', 'FRENCH', 'Nancy', 'Germain', '15,000', 'MASTERKOVA', 'DAYS', 'Warner', 'Svetlana', 'Masterkova', 'smashed', 'mile', 'Zurich', '28.98', 'ate', 'swift', 'lap', '2:29.34', 'Mozambique', 'Mutola', 'stadium', 'pushed', 'finishing', '2:29.66', 'bonus', 'historic', 'capacity', 'dominated', 'races', 'Atlanta', 'three-year', 'slashed', 'plus', '100,000', 'surface', 'softer', 'enjoyed', 'gear', 'pointing', 'clock', 'delight', 'crossed', 'WOMEN', 'tabulated', '2:28.98', 'adjusted', '128', '129', '130', '131', '132', 'Diego', 'Borrego', '133', 'Ames', 'Trinidad', 'Tobago', 'Chapman', 'Cea', 'Barry', 'Lane', 'OLYMPIC', 'SPRINT', 'CHAMPIONS', 'Dennis', 'Mitchell', 'upstaged', 'trio', 'present', 'storming', 'bright', 'outfit', '10.03', 'Donovan', 'Bailey', 'Linford', 'Christie', '1988', 'sport', 'burst', 'celebration', '10.09', '10.10', 'bronze', 'medallist', 'Ato', 'Boldon', '10.12', '10.14', 'hurdles', 'Allen', 'defied', 'brilliant', '12.92', 'Colin', 'Jackson', 'fastest', 'Kingdom', 'seemed', 'finish', 'faster', 'speed', '13.24', 'stepped', 'Ludmila', 'Engquist', 'crashed', 'hurdle', '12.60', 'silver', 'Brigita', 'Bukovec', '12.95', 'Jamaican', 'Michelle', 'Freeman', '12.77', 'Cuban', 'Aliuska', 'Lopez', 'jackpot', 'clinch', 'Golden', 'Seven', 'penultimate', 'prize', 'Adkins', 'alive', '47.93', 'Gail', 'Devers', '10.84', '0.10', 'Merlene', 'Ottey', 'medal', 'settle', '11.04', 'Gwen', 'Torrence', '11.00', 'costly', 'athletics', 'discus', 'Natalya', '61.36', 'Olga', 'Irina', 'Jamaica', 'Cuba', 'Dionne', 'Julie', '13.36', 'Emilio', 'Valle', 'Pieters', 'Johan', 'Sally', 'Kenya', 'Julia', 'Pauline', 'Davidson', 'Ezinwa', 'Nigeria', '10.15', 'Jon', 'Samuel', 'Zambia', 'Jean-Paul', 'Laurent', 'Ottoz', 'Onyali', 'Privalova', '11.28', 'Natalia', 'Voronova', 'Juliet', 'Cuthbert', 'Crowley', 'Sarah', 'Joseph', 'Kosgei', 'Mills', 'Kamoga', 'Uganda', 'Samson', 'Richardson', 'Frankie', 'Fredericks', 'Namibia', '20.42', 'Garcia', '20.45', 'Eric', 'Jacqueline', 'Chandra', 'Sturrup', 'Galina', 'Cathy', 'Falilat', 'Ogunkoya', '50.14', 'Fatima', 'Malone', 'Ann', 'Bob', 'Juergen', 'triple', 'jump', 'Edwards', 'Wellman', 'Harrison', 'Markov', '16.66', 'Francis', 'Isaac', 'Tanui', 'Mayock', '2.03', 'Kazakhstan', 'Yelena', '1.88', '1.85', 'Koech', 'Burundi', 'Rwanda', 'Anton', 'CALLS', 'UP', 'SIX', 'PORTO', 'PLAYERS', 'QUALIFIER', '18-man', 'Midfielder', 'Paulo', 'Juventus', 'member', 'Oliveira', 'coaches', 'Rui', 'Santos', 'Helder', 'Barros', 'Cruz', 'Ricardo', 'Pinto', 'Forwards', 'Domingos', 'Joao', 'KEEPS', 'Vogts', 'entire', 'friendly', 'Zabrze', 'Instead', 'nominated', 'veterans', 'Jens', 'Todt', 'however', 'Matthias', 'Sammer', 'Steffen', 'Freund', 'defender', 'Rene', 'Schneider', 'formally', \"'ll\", 'themselves', 'Oliver', 'Koepke', 'Markus', 'Helmer', 'Reuter', 'Mario', 'Dieter', 'Haessler', 'Moeller', 'Bierhoff', 'Bobic', 'Klinsmann', 'DRAWS', 'OLYMPIAKOS', 'PAO', 'draws', 'cup', 'Legia', 'Warsaw', 'x', 'indicates', 'CLUB', 'Brugge', 'Casino', 'Graz', 'Ekeren', 'Molenbeek', 'Vladikavkaz', 'SRI', 'LANKA', 'AUSTRALIA', 'Lankans', 'guilty', 'tampering', 'off-spinner', 'Muralitharan', 'throwing', 'controversial', 'three-test', 'Arjuna', 'Ranatunga', 'eve', 'warmup', 'XI', 'Battersby', 'excellent', 'Colombo', 'Lankan', 'heavy', 'Healy', 'ANGOLA', 'LUANDA', 'Angolan', 'JORNAL', 'proposing', 'Angola', 'Unita', 'generals', 'joint', 'formation', 'Unity', 'Reconciliation', 'circulation', 'peoples', 'guaranteed', 'administration', 'installed', 'occupy', 'delays', 'occupation', 'substituted', 'so-called', 'Dos', 'proposes', 'definitive', 'timetable', 'tasks', 'obligations', 'sending', 'supervise', 'execution', 'S.AFRICAN', 'estimates', 'MON', 'Gencor', 'YR', 'DIV', 'Primedia', 'N', 'Distillers', 'TUE', 'Iscor', '38.0', 'McCarthy', 'WED', 'Imphold', 'THU', 'M&R', 'JD', 'Group', '33.0', '+27', 'Petroleums', 'falls', 'Shr', '0.04', '0.08', 'shr', 'Revs', '0.12', '0.15', '0.86', '000s', 'Bureau', '416', '941-8100', 'OTTAWA', 'restrictions', 'Axworthy', 'circumstances', 'discuss', 'fever', 'handful', 'Toronto-based', 'TVX', 'Kinross', '0.25', 'Scorpion', 'Minerals', 'junior', 'exploration', 'properties', '0.50', '120,000', 'changing', 'hands', 'eyebrows', 'aware', 'developments', 'formed', 'Unitog', 'upgraded', 'Research', 'near-term', 'newsdesk', 'Buffett', 'Property', 'stake', 'WASHINGTON', 'Trust', '8.0', 'Securities', 'estate', 'trust', 'ranging', 'holding', 'purchased', 'well-known', 'investor', 'Berkshire', 'holds', 'investments', 'large', 'reach', 'MIAMI', 'allow', 'AMR', 'Airlines', 'operate', 'round-trip', 'Bogota', 'Transportation', 'Miami', 'shift', 'weekly', 'add', 'status', 'Aviation', 'Safety', 'services', 'airlines', '2-1/2', 'resolved', 'arose', 'propose', 'Clean', 'fixtures', 'enquiries', 'FIXTURES', 'MIDEAST', 'GULF', 'RED', 'SEA', 'Mideast', 'TBN', 'IOC', 'ASIA', 'PACIFIC', 'MED', 'BLACK', 'Pembroke', 'W145', '31/8', 'Caribs', 'options', 'Samsung', '03/09', 'CNR', 'Sea', 'Singapore', '185,000', 'LG', 'Caltex', '229-1', 'sacked', 'Akron', 'ways', 'long-time', 'mentor', 'blank', 'tournaments', 'worst', 'circuit', 'My', 'application', 'Maybe', 'Sometimes', 'your', 'perform', 'field', 'Taibe', 'fields', 'Pole', 'Arabs', '28,000', 'crowds', 'thing', 'promoted', 'Betar', 'Jerusalem', 'supporter', 'Karem', 'Haj', 'Yihye', 'coached', 'closely', 'Death', 'marred', 'goalless', 'treatment', 'stone', 'driving', 'hearing', 'Sameh', 'resident', 'communities', 'discrimination', 'empty', 'load', 'Tel', 'Aviv', 'dirt', 'tracks', 'elsewhere', 'Rahman', 'mayor', 'hopefully', 'meantime', 'coastal', 'Israelis', 'Phelan', 'Liechenstein', 'Football', 'Liverpool', 'replacements', 'Lynch', 'pitted', 'hopefuls', 'C', 'Rapid', 'Old', 'Trafford', '1990s', 'consistently', 'crashing', 'Barcelona', 'triumph', '1968', 'ill-fated', '1985', 'robbery', 'suspects', 'LAGOS', 'stealing', '800,000', 'Rwandan', 'expulsion', 'imminent', 'NAIROBI', '1.1', 'Hutu', 'refugees', 'Zaire', 'lobby', 'Rally', 'Democracy', 'Hutus', 'appealed', 'deter', 'termed', 'inhuman', 'blown', 'ZAGREB', 'Serb', 'orthodox', 'damaged', 'HINA', 'Karin', 'Zadar', 'destroyed', 'casualties', 'find', 'perpetrators', 'hinterland', 'Serbs', 'Yugoslav', 'Krajina', 'minority', '200,000', 'reserves', 'assets', 'tighten', 'crime', 'WARSAW', 'intelligence', 'organised', 'Helmut', 'Kohl', 'sealed', 'links', 'Ryszard', 'smuggling', 'materials', 'Chechens', 'fighters', 'soldiers', 'effective', 'gunfire', 'withdraw', 'mountains', 'relatively', 'wearing', 'Soon', 'swept', 'roads', 'soldier', 'Goncharova', 'dark', 'hair', 'poking', 'camouflage', 'patrols', 'try', 'WEATHER', 'Conditions', 'CIS', 'closures', 'Independent', 'Weather', 'Granic', 'BELGRADE', 'poised', 'landmark', 'normalisation', 'Balkans', 'aboard', 'jet', 'counterparts', '1000', 'endorsed', 'Tanjug', 'assessed', 'crucial', 'resolving', 'ensuring', 'print', 'recognised', 'borders', 'diplomats', 'ends', 'secession', 'powers', 'regard', 'lasting', 'Bucaram', 'lunches', 'presidential', 'palace', 'different', 'blacks', 'protocol', 'sectors', 'elected', 'populist', 'platform', 'cultures', 'nation', 'indigenous', 'hovercrafts', 'Amazon', 'BRASILIA', 'waters', 'bid', 'difficulties', 'transportation', 'vast', 'capable', 'tons', 'ferrying', 'huge', 'river', 'high-speed', 'HK', 'Tsang', 'Donald', 'Muhammad', 'Ali', 'Bolger', 'Deputy', 'Don', 'Birch', 'expels', 'bread', 'riots', 'AMMAN', 'passed', 'peacefully', 'demonstrations', 'Adel', 'Ibrahim', 'attache', 'duties', 'incompatible', 'norms', 'spying', 'notified', 'comment', 'assistant', 'expelled', 'tension', 'King', 'Jordanian', 'secure', 'pro-Baghdad', 'Karak', 'flared', 'hundred', 'mosque', 'loose', 'Islamist', 'houses', 'streets', 'traditional', 'communist', 'Baath', '1950s', 'guarded', 'famed', 'crowded', 'smaller', 'clashes', 'riot', 'involvement', 'policies', 'hardship', 'blame', 'protests', 'Kurd', 'ANKARA', 'Anatolian', 'PKK', 'Sirnak', 'Hakkari', '12-year-old', 'autonomy', 'southeastern', 'planted', 'exploded', 'Leaders', 'U.S.-mediated', 'Glyn', 'Davies', 'contacts', 'Barzani', 'Jalal', 'Talabani', 'implementation', 'Assistant', 'Near', 'Pelletreau', 'solidify', 'pursue', 'reconciliation', 'wounding', 'capturing', 'opposing', 'unite', 'mountainous', 'teen', 'slumber', 'neighbour', 'apparently', 'intent', 'sexual', 'invaded', 'a.m.', 'EDT', 'teenaged', 'girls', 'Virginia', 'entered', 'sexually', 'Detective', 'Curtis', 'II', 'detective', 'teenagers', 'reportedly', 'downstairs', 'watching', 'allegedly', 'teenager', 'sleeping', 'upstairs', 'confronted', 'stabbed', 'once', 'identified', 'Glickman', 'USDA', 'monitoring', 'aflatoxin', 'Dan', 'corn', 'purchase', 'wheat', 'Republican', 'Gov', 'Weld', 'Senate', 'seat', 'Franny', 'incumbent', 'Sen', 'vote', 'facing', 'Cambridge', 'friend', 'Tracy', 'Roosevelt', 'politics', 'Franklin', 'friends', 'Susan', 'Lufthansa', '1.7', 'freight-tonne', 'kilometres', '1,600', 'transport', 'Dm', '820', 'Staff', 'Fuel', '125', 'Rice', 'Showers', 'inch', 'mm', 'locally', 'coverage', 'showers', 'Highs', '82-96F', '28-36C', '0.75', 'isolated', 'Lows', 'Little', 'Temperatures', 'Corporation', 'curb', 'Tamil', 'soil', 'directed', 'prevailing', 'framework', 'coordinator', 'terrorism', '13-year', 'finance', 'Liberation', 'Eelam', 'king', 'leaves', 'week-long', 'KATHMANDU', 'Birendra', 'throne', '1972', 'constitutional', 'monarch', 'Jiang', 'Zemin', 'Premier', 'Himalayan', 'traditionally', 'giant', 'neighbours', 'distance', 'Queen', 'Tibetan', 'servant', 'Nepali', 'bound', 'employer', 'Munakarmi', 'informed', 'plight', 'concealed', 'Kathmandu', 'employed', 'steal', 'Post', 'OPTIONS', 'vols', 'volatility', 'stabilise', 'falling', 'Volatility', 'Euromark', 'trader', '20.00', 'sell-off', 'floors', 'low', 'size', '3.00', '3.30', 'perhaps', 'vol', 'Long', 'You', 'specialist', 'Coughlan', '10-year', 'Bunds', 'makers', 'high-yielding', 'upside', 'potential', 'particular', 'enhance', 'yield', 'Bonds', 'Sachs', 'warrants', 'Continental', 'American-style', 'controls', 'STRIKE', '25.00', 'DEM', 'PREMIUM', 'ISSUE', 'GEARING', 'X', 'EXERCISE', 'PERIOD', 'PAYDATE', '30.AUG.96', 'DDF', 'FFT', 'MIN', 'EXER', 'LOT', 'SPOT', 'REFERENCE', 'Legal', 'challenge', 'Diana', 'photographer', 'branded', 'stalker', 'Princess', 'approaching', 'criminal', 'Stenning', 'contest', 'injunction', 'obtained', 'affidavit', 'Birnberg', 'everything', 'ice', 'driver', 'motorcycle', 'rider', 'convictions', 'compensation', '282', 'divorce', 'Prince', 'Charles', 'princess', 'remove', 'camera', 'photographers', 'Mr.', 'shook', 'tentative', 'asking', 'accompany', 'spring', 'frequent', 'cross-border', 'drives', 'writer', 'Nacar', 'wider', 'effort', 'Necmettin', 'Erbakan', 'uses', 'SOLIDERE', 'Market', 'BSM', 'distributed', 'district', 'rebuilding', 'B', '106.5', 'Turnover', 'Ciments', 'listed', 'Index', 'covers', '0.02', 'editorial', '961', 'Zenith', 'lands', 'plant', 'consortium', 'Disney', 'digital', 'set-top', 'boxes', 'entertainment', 'struggled', 'Luehrs', 'somebody', 'gets', 'era', 'soared', '5.50', 'Americast', 'develop', 'generation', 'addition', 'partners', 'Corp.', 'GTE', 'SBC', 'Communications', 'Telecommunications', 'join', 'tubes', 'screen', 'buys', 'competitors', 'financing', 'jobs', 'roll', 'manufacture', 'profitable', 'subscribers', 'technology', 'retail', 'electronics', 'devices', 'plagued', 'reporting', 'full-year', '97', 'happy', 'Natural', 'Law', 'hundreds', 'yogic', 'nature', 'comes', 'minor', 'candidate', 'TM', 'Nov.', 'running', 'mass', 'stress', 'automatically', 'decrease', 'Many', 'involves', 'repeated', 'word', 'followers', 'demonstration', 'sitting', 'Huge', 'Windows', 'fail', 'Wolk', 'introduction', 'Microsoft', 'computer', 'fallen', 'software', 'Even', 'unprecedented', 'launch', 'lines', 'customers', 'tens', 'dollars', 'promoting', 'Empire', 'building', 'scheme', 'Enderle', 'hardware', 'expecting', 'somewhat', 'Winkler', 'impact', 'posting', 'lawsuit', 'tied', 'developers', 'suffer', 'jammed', 'resulting', 'space', 'seasonal', 'products', 'Stephens', 'Office', 'upgrade', '8.67', 'dominant', 'older', 'computers', 'handling', 'technical', 'frustrated', 'install', 'corporate', 'adopted', 'NT', '4.0', 'proportion', 'users', 'thinking', 'sweeping', 'slow', 'migration', 'intercepted', 'migrants', 'illegally', 'reiterates', 'Guantanamo', 'enforcement', 'hijackings', 'everyone', 'centred', 'Bay', 'hijacking', 'hijackers', 'hijacked', 'commercial', 'apply', 'welfare', 'image', 'Wisconsin', 'submit', 'administrative', 'Tommy', 'submitted', 'Human', 'grant', 'reform', 'dubbed', 'waivers', 'acquire', 'requirement', 'participation', 'collections', 'directly', 'limits', 'Karen', 'Vietnamese', 'train', 'Alaska', 'boxcar', 'locked', 'Whittier', 'Phan', 'barge', 'Jewell', 'Jail', 'accidental', 'searching', 'fishing', 'sleep', 'lumber', 'fed', 'breakfast', 'agents', 'Arkansas', 'fires', 'Ark', 'predominantly', 'churches', 'burned', 'kms', 'Rock', 'located', 'investigating', 'idea', 'arson', 'established', 'scene', 'Zion', 'Missionary', 'Baptist', 'Church', 'St.', 'Matthews', 'frame', 'Turner', 'surrounded', 'cotton', 'soybean', 'rural', 'surprised', 'Matthew', 'Others', 'connected', 'shared', 'suspicion', 'motive', 'spite', 'Jerome', 'spared', 'wave', 'Oak', 'initiated', 'EVEREN', 'Mines', '0.40', 'income', 'models', 'discount', 'averages', 'short-term', 'objective', 'SunGard', 'CheckFree', 'Calif.', 'Systems', 'Business', '212', '859-1610', 'Alpha', 'Lockhart', 'Technologies', 'designer', 'sophisticated', 'thermal', 'PTT', 'telecoms', 'Koninklijke', 'Nederland', 'NV', 'marginally', 'scant', 'largely', 'view', 'overwhelmingly', 'ING', 'Steven', 'continuing', 'sound', 'guilder', 'weaker', 'bourse', 'Henderson', 'Boskalis', 'prospects', 'first-half', 'Costis', 'ordering', 'dissolution', 'poll', 'citing', 'convergence', 'Elections', 'originally', 'Libyan', 'Mohammed', 'pool', 'wounds', 'Grech', 'investigations', 'Bahn', 'H1', 'pre-tax', '188', '3.3', 'Full', 'state-owned', 'earmarked', 'eventual', 'traffic', '6.4', '5,400', '4.6', 'freight', '5.1', 'workforce', '3.7', 'compares', '+49', '756525', 'whales', 'lions', 'tag', 'photograph', 'elusive', 'Harvey', 'Jennifer', 'Moss', 'Laboratories', 'natural', 'whale', 'Any', 'knows', 'ca', 'Beaver', 'Sake', 'undergone', 'amusement', 'transmitter', 'filming', 'video', 'article', 'spell', 'exactly', 'taught', 'stick', 'plastic', 'model', 'using', 'Howard', 'upper', 'environment', 'function', 'Senior', 'warned', 'hampered', 'contained', 'sharp', 'spending', '5.6', 'partially', 'Greens', 'Labor', 'Toyota', 'workers', 'MELBOURNE', '2,000', 'striking', 'voted', 'Melbourne', 'assembly', 'two-week', 'stoppage', 'Niugini', 'surge', 'miner', 'Mining', 'surged', '38', '3.75', 'confirmation', 'Mountain', 'considering', 'acquiring', 'broker', 'copper', 'project', 'students', 'throw', 'irreplaceable', 'rocks', 'Students', 'collect', 'gathered', 'forever', 'professor', 'staged', 'violent', 'university', 'campus', 'unwinding', 'belief', 'strengthen', 'intervention', 'convinced', 'supporting', 'Orii', '96/97', '371', 'nil', '447', '48.61', 'automation', '286', '48', '350', 'Shanghai', 'bonded', 'warehouses', 'fate', 'belongs', 'Yingkou', 'stockpile', 'stored', 'Just', 'metal', 'Export', 'CNIEC', 'indication', 'administered', 'Planning', 'Traders', 'tax', 'otherwise', 'spend', 'moving', 'Once', 'unsure', 'exact', 'Trading', 'purpose', 'backwardation', 'LME', 'occurs', 'lent', '85,000', 'behalf', 'Asia', '2,700', 'tonne', 'somewhere', 'storage', 'Word', 'secret', 'BME', 'owners', 'fundamental', 'rumours', 'Sumitomo', 'helping', 'unload', '1.8', 'decade', 'arrangement', 'arrivals', 'commodities', 'desire', 'Companion', 'Marble', 'posts', 'H.K.', 'Exceptional', 'Company', 'Holdings', 'Books', 'payable', 'spinoff', 'construction', 'Building', '2843', '6368', 'Softbank', 'procure', 'exchange', 'acquisition', 'Kingston', 'transactions', 'maker', 'memory', 'boards', 'SHANGHAI', 'yuan', 'comparative', 'Promodes', 'decide', 'Les', 'unlisted', 'Metro', 'discussions', 'superstores', 'generated', '4.7', 'outline', '4221', '5452', 'highlights', 'IRISH', 'mortgage', 'stalemate', 'claim', 'owed', 'fund', 'Taylor', 'Corps', 'widened', 'council', 'zinc', 'refused', 'variable', 'Members', 'yesterday', 'defiance', 'hanging', 'Top', 'Merrill', 'plastics', 'suitable', 'JV', '1996-08-24', 'truck', 'Motor', 'Jiangling', 'vehicle', 'engine', 'shareholder', 'Semifinals', 'RALLYING', 'JYVASKYLA', 'Juha', 'Kankkunen', 'impressive', '37', 'stages', 'Lakes', 'prospect', 'Gronholm', 'Tommi', 'Makinen', 'Mitsubishi', 'McRae', 'fined', '250,000', 'sports', 'rolled', 'Subaru', '6.5', 'unhurt', 'boss', 'Richards', 'pace', '!', '37-year-old', 'Spaniard', 'Sainz', 'Bruno', 'transmission', 'POSITIONS', 'kph', 'Ferrari', 'Eddie', 'Irvine', 'Salo', 'Tyrrell', '14.', 'Diniz', 'Jos', 'Verstappen', 'Arrows', '17.', 'Ukyo', 'Katayama', 'Lamy', 'Minardi', 'Did', 'qualify', 'Giovanni', 'RALLY', 'unnamed', 'Danish', 'Richardt', 'ploughed', 'host', 'suspended', 'resumed', 'Quarterfinals', 'suspension', 'interrupted', '+1', '+2', '+3', '+5', '+7', '+11', 'SUPER', 'rugby', 'Bradford', 'Wigan', '78', 'Workington', '902', 'Helens', '884', '441', '767', '409', 'Warrington', '555', '499', '462', 'Sheffield', 'Halifax', 'Castleford', '548', 'Oldham', 'Leeds', '681', '398', '795', '325', '1021', 'ESSEX', 'TITLE', 'Neil', 'Ilott', 'deliveries', 'slumped', 'Derbyshire', 'favour', 'thrust', 'removed', 'Dominic', 'visitors', 'Graham', 'declaring', 'Captain', 'Prichard', '88', 'prevented', 'uphill', 'Notts', 'Alistair', 'Gordon', 'Parsons', '353', 'successive', 'arch-rivals', 'follow', '206', '323', 'Darren', 'Gough', '210', '176', 'b-4', 'lb-3', '339', '2-239', '3-334', '4-334', 'Final', 'Match', 'abandoned', '532-8', '111', 'Irani', 'Alleyne', '4-80', '361', '117', '446-9', 'B.', '128-4', '205-9', 'Spiring', 'Watkinson', '4-53', 'Speak', 'Hibernian', 'Dunfermline', 'Kilmarnock', 'Raith', 'Motherwell', 'Dundee', 'Aberdeen', 'Airdrieonians', 'Fife', 'Clydebank', 'Greenock', 'Morton', 'Partick', 'Mirren', 'Johnstone', 'Berwick', 'Stenhousemuir', 'Brechin', 'Ayr', 'Hamilton', 'Clyde', 'Dumbarton', 'Stranraer', 'Livingston', 'Alloa', 'Arbroath', 'Cowdenbeath', 'Forfar', 'Inverness', 'Ross', 'Played', 'Newcastle', 'Alan', 'Dejan', 'equalised', 'header', 'Ferdinand', 'Elsewhere', 'Sunderland', 'Tottenham', 'Gianluca', 'Coventry', 'Arsenal', 'scoreline', 'Aston', 'Villa', 'Derby', 'Ham', 'Southampton', 'Bolton', 'Norwich', 'Bromwich', 'Crystal', 'Ipswich', 'Reading', 'Southend', 'Birmingham', 'Stoke', 'Swindon', 'Vale', 'Wolverhampton', 'Barnsley', 'Huddersfield', 'Brentford', 'Luton', 'Bristol', 'Blackpool', 'kickoff', 'Burnley', 'Walsall', 'Chesterfield', 'Bury', 'Peterborough', 'Crewe', 'Preston', 'Rovers', 'Rotherham', 'Shrewsbury', 'Stockport', 'Watford', 'Millwall', 'Wrexham', 'Wycombe', 'Gillingham', 'Bournemouth', 'Barnet', 'Brighton', 'Carlisle', 'Hull', 'Chester', 'Darlington', 'Swansea', 'Exeter', 'Scarborough', 'Hartlepool', 'Fulham', 'Hereford', 'Doncaster', 'Leyton', 'Orient', 'Mansfield', 'Rochdale', 'Scunthorpe', 'Torquay', '318-2', '0-6', 'ZEALAND', 'SOUTH', 'AFRICA', 'PRETORIA', '33-26', 'Blacks', 'unbeatable', 'Each', 'tries', 'Springboks', 'enemies', 'Wilson', 'Ruben', 'Kruger', 'Joost', 'Westhuizen', 'gap', 'fly-half', 'Joel', 'conversion', 'replacement', 'Zinzan', 'Brooke', 'Tries', 'Penalties', 'Stranksy', 'Conversion', 'Simon', 'Culhane', 'YUGOSLAV', 'Cukaricki', 'Hajduk', 'Becej', 'Borac', 'Mladost', 'Zemun', 'Rad', 'Buducnost', 'Partizan', 'Vojvodina', 'Proleter', 'Sutjeska', 'Sloboda', 'Loznica', 'Obilic', 'OFK', 'Kikinda', 'Radnicki', 'Spartak', 'Beograd', 'BJ', 'Rudar', 'POLISH', 'Amica', 'Wronki', 'Hutnik', 'Krakow', 'Sokol', 'Tychy', 'Lech', 'Poznan', 'Rakow', 'Czestochowa', 'Stomil', 'Olsztyn', 'Wisla', 'Gornik', 'Slask', 'Wroclaw', 'Odra', 'Wodzislaw', 'GKS', 'Katowice', 'Polonia', 'Zaglebie', 'Lubin', 'LKS', 'Lodz', 'Belchatow', 'BASKETBALL', 'PHILIPPINE', 'PRO-LEAGUE', 'MANILA', 'semi-final', 'Philippine', 'Basketball', 'Milk', 'half-time', 'Ginebra', 'Shell', 'KOREAN', 'PRO-BASEBALL', 'pro-baseball', 'Hyundai', 'Haitai', 'Hanwha', 'OB', 'Lotte', 'Ssangbangwool', '.471', '.455', '.359', '.473', '.574', 'SATURDAY', '24TH', '.411', '.527', '.430', '.538', '1ST', 'GM', 'AJAX', 'Heerenveen', 'dismal', 'pre-season', 'interval', 'Wouden', 'Veldman', 'goalkeeper', 'Edwin', 'Sar', 'defenders', 'strikers', 'Dahl', 'Tomasson', 'rushed', 'contenders', 'Groningen', 'Standard', 'Liege', 'Anderlecht', 'Lokeren', 'Cercle', 'Mouscron', 'Antwerp', 'Lommel', 'Ghent', 'Aalst', 'Lierse', 'Charleroi', 'Sint', 'Truiden', 'LEADING', 'SCORERS', 'goalscorers', 'Drobnjak', 'Bastia', 'Xavier', 'Gravelaine', 'Marseille', 'Miladin', 'Becanovic', 'Lille', 'Enzo', 'Scifo', 'Monaco', 'Smicer', 'Lens', 'Christopher', 'Wreh', 'Guingamp', 'Nantes', '52nd', '16,000', 'Nice', 'Debbah', '39th', '6,000', '79th', 'pen', 'Rennes', 'Bordeaux', 'Auxerre', 'Metz', '65th', '69th', 'Strasbourg', 'Havre', 'Caen', '70th', 'Lyon', 'Caveglia', '89th', '7,000', 'Montpellier', 'Cannes', '8th', 'Saint-Germain', 'Graafschap', 'Doetinchem', 'RKC', 'Waalwijk', 'Willem', 'Tilburg', 'Fortuna', 'Sittard', 'Rotterdam', 'Twente', 'Enschede', 'Vitesse', 'Arnhem', 'Utrecht', 'Feyenoord', 'Roda', 'JC', 'Kerkrade', 'Volendam', 'AZ', 'Alkmaar', 'MATCHES', 'Bochum', '66th', 'Arminia', 'Bielefeld', 'Moenchengladbach', 'Karlsruhe', '33rd', '45th', 'Keller', 'Werder', '1860', '73rd', 'Heinrich', 'Bayer', 'Leverkusen', 'Duesseldorf', 'Freiburg', '9th', 'VfB', 'VfL', 'Bayern', 'MSV', 'Duisburg', 'AUSTRIA', 'VIENNA', 'FC', 'Linz', 'GAK', 'Admira', 'Wacker', 'Sturm', 'Linzer', 'ASK', 'Tirol', 'Innsbruck', 'SV', 'Salzburg', 'Wien', 'Ried', 'one-day', 'Waugh', 'Tendulkar', 'ordeal', 'worker', 'cocked', 'Penrose', 'Action', 'Against', 'physical', 'Frederic', 'ransom', '300,000', 'charity', 'regularly', 'tanks', 'provides', 'civilians', 'depending', 'ill', 'whom', 'spokeswoman', 'fulfilled', 'wish', 'role', 'sick', 'marriage', 'heir', 'praying', 'Doctors', 'respirator', '339-4', 'Nijmeh', 'Nasr', 'TRIPOLI', 'Arabia', 'wilderness', 'About', 'climb', 'raft', 'bike', 'endurance', 'Eco-Challenge', 'racing', 'physically', 'ride', 'mountain', 'Vancouver', 'peaks', 'two-thirds', 'participants', 'first-place', 'Team', 'bones', 'exhaustion', 'quell', 'drinking', 'Malawi', 'ex-president', 'Banda', 'walking', 'decades', '1983', 'servants', 'HARARE', 'crippled', 'essential', 'Public', 'dismissed', 'PSA', 'Labour', 'Florence', 'firms', 'demands', 'wage', 'Cross', 'tourists', 'Opposition', 'unions', 'denounced', 'Civil', 'earn', 'inflation', 'camps', 'Gatera', 'Tutsi-dominated', 'Kigali', 'Zairean', 'Tutsi', 'genocide', 'Tutsis', 'refuse', 'fear', 'Kivu', 'counterpart', 'Gisenyi', 'skull', 'tribal', 'middle-aged', 'forensic', 'scientist', 'examined', 'supposed', 'Hintsa', 'Xhosa', 'Nicholas', 'Gcaleka', 'ancestors', 'colonial', 'trophy', 'forest', 'hurricane', 'royal', 'hole', 'bullet', 'reasonable', 'arrests', 'sewing', 'smugglers', 'smuggle', 'Eritrea', 'Kassala', 'alliance', 'Authorities', 'laying', 'accuses', 'Eritrean', 'accusing', 'Alliance', 'umbrella', 'congress', 'dictatorship', 'Balkan', 'approve', 'turn', 'electoral', 'class', 'reformed', 'heirs', 'scrap', 'ideas', 'Karl', 'stance', 'triggered', 'commentators', 'consensus', 'unlikely', 'Nicaraguan', 'MANAGUA', 'Nicaragua', 'Violeta', 'Chamorro', 'column', 'examination', 'suffers', 'osteoporosis', 'weakens', 'wo', 'split', 'tool', 'one-week', 'vigilance', 'intentions', 'widespread', 'activists', 'Gyaicain', 'tourism', 'communications', 'TEHRAN', 'hanged', 'Shiraz', 'Resalat', '419', 'lbs', 'opium', 'Revolutionary', 'pedestrian', 'site', 'executed', 'grammes', 'lb', 'transit', 'Tunisian', 'Tunisia', 'rent', 'Khalfallah', 'Movement', 'MDS', 'enable', 'represented', 'owing', 'sentences', 'Moada', 'secrets', 'judicial', 'proceedings', 'founding', 'politically', '1978', 'withdrew', 'Ben', 'NICOSIA', 'IRNA', 'shelled', 'camp', 'west', 'independent', 'brokered', 'persuaded', 'skies', 'violating', 'allegations', 'Boutros', 'Boutros-Ghali', 'cannons', 'tents', 'rifle', 'grenades', 'chamber', 'Ankara', 'Offers', 'Editorial', 'dirty', 'Laurence', 'intends', 'gathering', 'designed', 'highlight', 'Dole', 'carefully', 'bills', 'Congress', 'registry', 'sex', 'desk', 'criminals', 'underway', 'pages', 'offers', 'FBI', 'again', 'heads', 'stretch', 'drive', 'Such', 'happen', 'bill', 'easier', 'remarkable', 'offering', 'demanding', 'responsibility', 'stronger', 'sense', 'families', 'theme', 'Kentucky', 'Michigan', 'Indiana', 'fellow', 'attention', 'focus', 'programmes', 'concentrating', 'McCurry', 'acceptance', 'Hurricane', 'Edouard', 'winds', 'mph', 'indicate', 'islands', '44.2', 'ETA', 'Basque', 'Homeland', 'Freedom', 'Defence', 'Ruehe', 'NATO-led', 'mandate', 'expires', 'completely', 'publication', 'impression', 'massacres', 'comics', 'Bossi', 'ancient', 'Etruscan', 'Orvieto', 'Cimicchi', 'actor', 'declare', 'Etruria', 'march', 'proceed', 'Corsica', 'proclamation', 'balloon', 'rhetoric', 'talking', 'wasteful', 'farmer', 'mutilated', 'bodies', 'ANSA', 'Stevanin', '35-year-old', 'Verona', 'unable', 'recall', 'remembering', 'prostitute', 'murdering', 'villa', 'canal', 'Maso', 'investigators', 'digging', 'passer-by', 'asks', 'paedophile', 'Jeremy', 'Lovell', 'scandal', 'kidnapping', 'pornography', 'throughout', 'rapist', 'Dutroux', 'managed', 'starvation', 'freed', 'compartment', 'abduction', 'imprisonment', 'Michel', 'Bourlet', 'basement', 'eight-year-old', 'Lejeune', 'Melissa', 'Russo', 'kidnapped', 'starved', 'Marchal', 'Eefje', 'Lambrecks', 'unknown', 'prostitution', 'Bratislava', 'Five', 'accomplice', 'Dutchman', 'disappearance', 'accomplices', 'degree', 'incompetence', 'indifference', 'Among', 'gendarmerie', 'surveillance', 'cells', 'information', 'theft', 'accepted', 'hear', 'Justice', 'inquiry', 'indications', 'unemployed', 'visible', 'toll', 'home-made', 'explosive', 'device', '25-year-old', 'boys', 'five-year-old', 'explosion', 'watchdog', 'Rights', 'Observatory', '1,400', 'seize', 'cannabis', 'chilli', 'sauce', '7.5', 'commissioner', 'container', 'Freeport', 'haul', 'flames', 'motorway', 'injuring', 'Spaniards', 'MADRID', 'supported', 'Studies', 'achieving', 'neither', 'worsened', 'Popular', 'margin', 'error', 'Lahore', 'chaos', 'ISLAMABAD', 'Pakistani', 'inches', 'Punjab', 'rivers', 'rail', 'Newspapers', 'witnesses', 'drowned', 'Army', 'evacuate', 'low-lying', 'alert', 'Internet', 'Startup', 'Java', '1996-08-25', 'engineers', 'Microsystems', 'JavaSoft', 'venture', 'Bessemer', 'Partners', 'founder', 'acting', 'VeriSign', 'doors', 'initial', 'combines', 'experience', 'Apple', 'engineer', 'manner', 'Valley', 'Kleiner', 'Perkins', 'developing', 'technologies', 'licensed', 'Machines', 'Prasad', 'aims', 'networks', 'individual', 'marketing', 'Individual', 'WINS', 'FOURTH', 'birdied', 'Along', '277', 'three-stroke', 'PGA', 'brings', 'style', 'easy', 'feet', '12th', 'birdie', '17th', 'bogeyed', 'sudden', 'defending', 'contention', '14th', '274', '281', '283', '290', '295', 'Finals', 'Luke', 'Jensen', '6-0', 'LAKES', 'JYVASKLYA', 'Lancer', 'Celica', 'Jarmo', 'Kytolehto', 'Escort', '2:23', 'Eriksson', 'Impreza', 'MOTOCROSS', '500cc', 'motocross', 'Smets', 'Husqvarna', 'Doorn', 'Honda', 'Martens', 'KTM', 'Danny', 'Theybers', 'Shayne', 'Claus', 'Overall', '236', '219', '178', '125cc', 'Tortelli', 'Kawasaki', 'Moore', 'Yamaha', 'Seguy', 'Camerlengo', 'Belometti', 'Vialle', 'Collin', 'Dugmore', '432', '317', '293', '192', 'Michele', '152', 'placings', 'Ray', 'Belim', 'FI', 'GTR', 'laps', 'Olofsson', 'Luciano', 'della', 'Noce', 'Ennea', 'F40', '170', 'Bscher', 'F1', 'Fabien', 'Muller', '167', 'Owen-Jones', 'Raphanel', 'Gounon', 'Belmondo', 'Eichmann', 'GT2', '911', '164', 'Konrad', 'H.', '162', 'Fastest', '156', '98', 'SHEFFIELD', 'INTERNATIONAL', 'MEETING', 'Hansen', 'javelin', '60.66', 'Silke', 'Renk', 'Inez', 'Margaret', 'vault', '5.60', 'Pat', 'Pukstys', '82.20', 'Marcel', '2.30', 'Vincent', 'Malakwen', 'Osmond', '15.125', '208.442', 'SCHUMACHER', 'drivers', '149', 'Radstrom', 'MOTORCYCLING', 'SUPERBIKE', 'SUGO', 'superbike', 'Takeda', 'Noriyuki', 'Haga', 'Wataru', 'Yoshikawa', 'Corser', 'Ducati', 'Kocinski', 'Aaron', 'Slight', 'Fujiwara', 'Fogarty', 'Ryo', 'Takeishi', '147.159', 'Takuma', 'Aoki', '38:18.759', '38:19.313', '38:32.149', '38:32.719', '38:33.595', '38:34.682', '38:34.999', '38:35.297', '38:42.015', '147.786', '269', '254', 'Pier', 'Francesco', 'Crafar', 'Gobert', 'Hodgson', 'disqualification', 'Suzuki', '238', 'NINE', 'names', 'overtake', 'flag', 'consolation', 'challenged', 'strongly', 'brother', 'regained', 'unlucky', 'riders', 'alter', '611', '667', '576', '730', '473', '745', 'CAREER', 'concluded', '154', 'spare', 'Byas', 'reaching', 'collecting', 'Glenn', 'Hoddle', 'uncapped', 'Hinchcliffe', 'Anderton', 'groin', '74-0', '521-8', 'PREMIER', 'Cruyff', '51st', 'st', '521', '2-1-4-0', '473-6', 'forget', 'fielding', 'disciplinary', 'batted', '87', 'solitary', 'attempting', 'prove', 'mate', 'Alec', 'forcing', 'ONE-DAY', 'Maynard', 'Ronnie', 'Adam', 'Headley', 'Togo', 'Congo', 'Salou', 'Bachirou', '53rd', 'AFRICAN', 'Jacek', 'Widzew', 'Marcin', 'Mieciel', 'Dariusz', 'Krzysztof', 'Emmanuel', 'BUCHAREST', 'A.S.', 'Bacau', 'Ceahlaul', 'Piatra', 'Neamt', 'Otelul', 'Galati', 'Arges', 'Dacia', 'Pitesti', 'Farul', 'Constanta', 'Chindia', 'Tirgoviste', 'Sportul', 'Studentesc', 'Universitatea', 'Craiova', 'Petrolul', 'Ploiesti', 'Politehnica', 'Timisoara', 'Brasov', 'Bucharest', 'Jiul', 'Petrosani', 'Dinamo', 'Cluj', 'Steaua', 'Alaniya', 'Zhemchuzhina', 'Sochi', 'Baltika', 'Kaliningrad', 'Zenit', 'Petersburg', 'Chernomorets', 'Novorossiisk', 'Rostselmash', 'Rostov', 'Lokomotiv', 'Torpedo', 'Rotor', 'Volgograd', 'CSKA', 'Kamaz', 'Naberezhnye', 'Chelny', 'Lada', 'Togliatti', 'Kamyshin', 'Krylya', 'Sovetov', 'Samara', 'Nizhny', 'Novgorod', 'Uralmash', 'Yekaterinburg', 'precedence', '49', 'AUSTRALIAN', 'Rules', 'Adelaide', '14.12', 'Collingwood', '153', '151', '11.12', 'Richmond', '28.19', 'Fitzroy', 'Carlton', '13.18', 'Footscray', '9.12', 'Essendon', '14.16', '12.10', 'Kilda', 'Hawthorn', 'Brisbane', '10.11', 'Fremantle', 'Geelong', '16.13', '2123', '1631', '130.2', '2067', '1687', '122.5', '2151', '1673', '128.6', '2385', '1873', '127.3', '2009', '1844', '108.9', '2288', '117.9', '2130', '109.4', '2173', '1803', '120.5', '1791', '1820', '98.4', '1909', '1958', '97.5', '2103', '2091', '100.6', '2158', '2183', '98.9', '1642', '2361', '69.5', '1912', '87.5', '1578', '2060', '76.6', '1381', '2778', '49.7', 'Bulldogs', 'Queensland', 'Illawarra', 'Penrith', 'Manly', 'Suburbs', 'Parramatta', 'Auckland', '501', '569', '257', '560', '487', 'Cronulla', '359', '258', '502', '374', '421', '344', '366', '426', '406', '309', '435', '388', '391', '356', '395', '297', '448', '593', '351', '483', '304', '586', '460', '15-1', '10-15', '17-16', 'Chong', '.547', '.537', '.534', '.467', 'SUNDAY', '.357', '.569', '.470', '25TH', '.462', '.542', '.515', 'Rafael', 'Palmeiro', 'two-out', 'Alomar', 'trailed', 'reliever', 'Abbott', 'Bragg', '9-5', 'contact', 'Wickman', 'acquired', 'Marty', '6-5', 'Wally', 'Whitehurst', \"O'Neill\", 'sixth-inning', 'defeating', 'Cardinals', 'Padres', 'Rosado', '5-3', '21-year-old', 'left-hander', 'BRAVES', 'CUBS', 'McGriff', 'Braves', 'Cubs', 'hang', 'middle', 'Colorado', 'Rockies', 'Pirates', '9-3', 'Vinny', 'Castilla', 'Kurt', 'Marlins', 'tired', 'Candiotti', 'Piazza', 'Dodgers', '8-9', 'Phillies', 'Expos', 'shut', 'Giants', 'Houston', 'Orlando', 'Astros', 'virtual', 'NL', 'Shane', 'five-hitter', 'kicked', 'Setubal', 'equaliser', 'string', 'opportunities', 'Conde', 'Braga', 'lack', 'first-class', 'apparent', 'knee', 'referee', 'Vicente', 'FIORENTINA', 'MILAN', 'Batistuta', 'Fiorentina', 'perfect', 'birthday', 'Supercup', 'serie', 'marked', 'Savicevic', 'checking', 'Boca', 'Juniors', 'Oscar', 'Tabarez', 'rammed', '83rd', 'reward', 'Davids', 'substitute', 'ITALIAN', 'SUPERCUP', 'Norwegian', 'Tromso', 'Kongsvinger', 'Valerenga', 'Skeid', 'Stabaek', 'Stromsgodset', 'Molde', 'Bodo', 'Glimt', 'Viking', 'Start', 'Rosenborg', 'Lillestrom', 'Duisberg', 'Swiss', 'Aarau', 'Boys', 'Grasshopper', 'Lucerne', 'Lugano', 'Basle', 'Neuchatel', 'Gallen', 'MONEY', 'TOUR', 'Montgomerie', 'CYCLING', 'ZURICH', 'cycling', 'Ferrigato', 'Bartoli', 'Museeuw', 'Lance', 'Armstrong', 'Alessandro', 'Baldato', 'Sciandri', 'narrow', 'velodrome', 'faded', 'Briton', '199', '203', 'Baker', 'PULL', 'FROM', 'Gorre', 'Faber', 'Ronald', 'corner', 'Romano', 'Petrovic', 'dismissal', 'Gaston', 'Taument', 'newly', 'Pablo', 'Genk', 'Club', 'Harelbeke', 'Mechelen', '7th', '20th', 'Arum', 'Arnold', '11,500', '74th', 'CAPTAIN', 'Blind', 'Endt', 'INDIA', 'opener', 'Sidhu', 'quitting', 'Control', 'Cricket', 'Azharuddin', 'Sachin', 'four-nation', 'Singer', '1996-08-26', 'premiership', 'relive', 'Sean', 'Fitzpatrick', 'moments', 'moves', 'Marshall', 'Bunce', 'exhausted', 'nowhere', 'choice', 'riding', 'winger', 'supporters', 'goodwill', 'thanked', 'nice', 'understand', 'tremendous', 'Rugby', 'apartheid', 'commission', 'subpoenas', 'whites', 'Archbishop', 'Desmond', 'Tutu', 'Truth', 'paint', 'F.W.', 'Klerk', 'Currin', 'crimes', 'testify', 'separate', 'amnesty', 'tell', 'abuses', 'testimony', 'hit-squad', 'Dirk', 'Coetzee', 'Boraine', 'voluntarily', 'hardline', 'P.W.', 'Botha', 'advising', 'regarded', 'achieve', 'cited', 'interviews', 'submissions', 'apartheid-era', 'Political', 'doubted', 'implemented', '1948', 'burden', 'doubts', 'yourself', 'historical', 'anger', 'express', 'moral', 'downwards', 'Serb-held', 'farce', 'partition', 'post-war', 'Doboj', 'rallying', 'banners', 'displaced', 'Moslems', 'angered', 'provision', 'multi-ethnic', 'Dayton', 'upon', 'thousand', 'How', 'reintegration', 'refugee', 'thrown', 'warning', 'Ejup', 'loud', 'knot', 'Croat', 'Serb-controlled', 'emotional', 'casino', 'blaze', 'communism', 'engaged', 'pullout', 'Shkirko', 'disarmed', 'armoured', 'lorries', 'element', 'Mexican', 'MEXICO', 'leftist', 'EPR', 'operated', 'assertions', 'gunmen', 'Jornada', 'Guerrero', 'Commander', 'manual', 'detailing', 'tactics', 'Basic', 'basic', 'commanders', 'granted', 'protesters', 'combat', 'Ten', 'gunned', 'northwest', 'dragged', 'Antioquia', 'killings', 'municipality', 'Anza', 'Medellin', 'linking', 'Forces', 'impunity', 'Burma', 'Burmese', 'splinter', 'ambushed', 'patrol', 'DKBA', 'Col', 'Suvit', 'allied', 'Rangoon', 'reinforcements', 'KNU', 'villages', 'reject', 'explanation', 'supplies', 'F-14', 'catches', 'Gurion', 'Airport', 'jars', 'reveal', 'mummies', 'pots', 'mummification', 'Saleh', 'Museum', 'contain', 'intestines', 'tomb', 'Dahshour', 'finding', 'substances', 'conservation', 'analysis', 'liquids', 'gang', 'robbers', 'Ahmad', 'democracy', 'tamper', 'stability', 'Bahrain', 'AL', 'Abdul-Karim', 'al-Kabariti', 'ceiling', 'Sultan', 'releases', 'expresses', 'AD', 'Kabariti', 'speaker', 'legislative', 'Weizman', 'consult', 'Ezer', 'consulted', 'speak', 'Earlier', 'Yedioth', 'Ahronoth', 'Shumer', 'cool', 'bombers', 'opposes', 'education', 'POST', 'establish', 'Cabinet', 'puts', 'Voting', 'Lebanese', 'parliamentary', 'voters', 'choose', 'thin', 'trickle', 'ballots', 'polling', 'stations', 'architect', 'frequently', 'Corporate', 'employee', 'skilled', 'contribute', 'consulting', 'Towers', 'Perrin', 'accountant', 'salary', 'Sandra', \"O'Neal\", 'principal', 'abilities', 'skills', 'sensitive', 'customer', 'needs', 'productivity', 'organisation', 'corporations', 'surveyed', 'restructuring', 'Next', 'agenda', 'structure', 'concept', 'competitive', 'emphasis', 'raise', 'ask', 'increases', 'incentives', 'Companies', 'culture', 'rated', 'decisions', 'Investigators', 'inquiries', 'Georges', 'Zicot', 'insurance', 'fraud', 'searches', 'sites', 'thefts', 'Gerard', 'stolen', 'insurer', 'Thierry', 'Weinstein', 'eight-year-olds', 'abducted', 'disagreement', 'Another', 'funding', 'Riviera', 'widely', '+331', 'MUZAFFARABAD', 'Pakistan-ruled', 'Azad', 'instantly', 'Muzaffarabad', 'Garhi', 'Habibullah', 'reopening', 'Salang', 'embattled', 'Supreme', 'powerful', 'Rashid', 'Dostum', 'postponement', 'precautions', 'Gulbuddin', 'Hekmatyar', 'rejoined', 'persuade', 'Hasina', 'effigy', 'Sheikh', 'Bogra', 'ruling', 'Awami', 'alight', 'alleging', 'pro-government', 'batons', 'bombs', 'Nationalist', 'BNP', 'denounce', 'Local', 'policeman', 'section', 'urged', 'legislators', 'Islam', 'Hundreds', 'raided', 'student', 'stormed', 'halls', 'gunpoint', 'Begum', 'Khaleda', 'Zia', 'identities', 'Nearly', 'FEATURE', 'drought', 'regions', 'fill', 'enthusiasm', 'diesel', 'Odnosum', 'breakdown', 'machinery', 'Ukrainian', 'grain', 'harvest', 'sector', 'transition', 'rich', 'reputation', 'brutal', 'dictator', 'quality', 'Borsuk', 'Mironivka', 'Wheat', 'Institute', 'temperature', 'Celsius', 'electricity', 'unpaid', 'dry', 'rainfall', 'extreme', 'agricultural', 'Collective', 'farms', 'fertiliser', 'herbicides', 'repair', 'worse', 'priced', '260', 'sowing', '5.2', 'hectare', '2.5', 'acres', '3.9', 'borrowing', 'passes', 'buggy', 'collective', 'tidy', '220', 'badly', 'harvested', 'autumn', 'grows', 'Further', 'resources', 'subsidies', 'hectares', '124', 'willing', 'hurry', 'negative', 'setbacks', 'Melanie', 'attributable', 'variety', 'Gilbertson', 'arising', 'weakness', 'rand', 'Impala', 'substantial', 'furnace', 'Implats', 'shutdown', 'Ingwe', 'Coal', 'rains', 'forfeited', 'flooding', 'gloom', 'blocking', 'merger', 'Plc', 'platinum', 'Looking', 'structured', 'financed', 'portfolio', 'businesses', 'disposal', 'holdings', 'Malbak', 'concentrate', 'clean', 'commodity', '41.5', 'coal', 'snapping', 'offshore', 'Advanced', 'Medical', 'IVAC', 'Eli', 'Lilly', 'intravenous', 'infusion', 'therapy', 'IMED', 'pumps', 'patient', 'proprietary', 'disposable', 'combined', 'plants', '120', 'Banking', 'River', 'expects', 'unspecified', 'one-time', 'delivery', 'pump', 'fully', '17.4', 'CEO', 'regulatory', 'approval', 'Morris', 'boosted', '92', 'bonds', 'NASDAQ', 'fractionally', 'lagged', 'declines', '30-year', 'Treasury', '6.96', 'HELENS', 'secured', 'Road', 'hat-trick', 'Sullivan', 'seven-year', 'end-of-season', 'MAKINEN', 'BID', 'Finn', 'doubling', 'decisive', 'gearbox', 'retirement', 'LEEDS', 'Sharpe', 'superb', 'repaid', 'slice', '4.5', 'fee', 'Rush', 'arc', 'JOINS', 'becomes', 'Imran', '434', '431', 'Botham', '383', 'Malcolm', 'Indies', '362', '355', 'Gibbs', '307', 'bowling', 'Middlesex', '144', '137', '118', 'Cottey', 'Weston', 'BY', 'WICKETS', '242', '1-7', 'Lord', 'RUNS', 'requiring', 'FRIENDLY', 'Rica', 'Ronaldo', 'Gonzalez', 'VICTORY', 'Seychelles', 'bowed', 'Trailing', 'Mauritius', 'qualifiers', 'crude', 'responded', 'favourites', 'Botswana', 'Cameroon', 'Gabon', 'Tanzania', 'overcome', 'legs', 'elimination', 'Mauritania', 'Benin', 'postponed', 'Kremin', 'Vorskla', 'Ternopil', 'Zaporizhya', 'Shakhtar', 'Kryvbas', 'Karpaty', 'Prykarpattya', 'Zirka-Nibas', 'Chornomorets', 'Metalurg', 'Dnipro', 'swimming', 'Popov', 'freestyle', 'titles', 'Maslova', 'medicine', 'Olympics', 'kidney', 'worry', 'attackers', 'Smirnov', 'swimmer', 'chosen', 'BRATISLAVA', 'Slovak', 'Slovan', 'Tatran', 'Presov', 'Artmedia', 'Petrzalka', 'JAS', 'Bardejov', 'DAC', 'Dunajska', 'Streda', 'Trnava', 'Dukla', 'Banska', 'Bystrica', 'Nitra', 'MSK', 'Zilina', 'Kosice', 'Petrimex', 'Prievidza', 'Rimavska', 'Sobota', 'Lokomotiva', 'Kerametal', 'Dubnica', 'Hungarian', 'Haladas', 'MTK', 'Bekescsaba', 'BVSC', 'Csepel', 'ZTE', 'Debrecen', 'Siofok', 'Ujpest', 'Vac', 'Vasas', 'Pecs', 'Videoton', 'CZECH', 'Petra', 'Drnovice', 'Liberec', 'SK', 'Slavia', 'Praha', 'Ceske', 'Budejovice', 'FK', 'Jablonec', 'Viktoria', 'Zizkov', 'Banik', 'Ostrava', 'Teplice', 'Boby', 'Brno', 'Sigma', 'Olomouc', 'Bohemians', 'Karvina', 'Hradec', 'Kralove', 'Kaucuk', 'Opava', 'Plzen', 'AC', 'Atlante', 'Atlas', 'Azul', 'Leon', 'Guadalajara', 'Monterrey', 'Veracruz', 'Pachuca', 'Toluca', 'Puebla', 'UNAM', 'Morelia', 'UAG', 'Neza', 'catch', 'Sao', 'Narciso', 'Rio', 'Janeiro', 'usual', 'package', 'Internacional', 'arrive', 'Botafogo', 'Tulio', 'struggling', 'ARGENTINE', 'Apertura', 'Newell', 'Lorenzo', '3rd', 'Fluminense', 'Formula', 'PRO-SOCCER', 'Moroccan', 'Widad', 'Casablanca', 'Due', 'hot', 'please', 'drink', 'plenty', 'fluids', 'concluding', '4.00', 'lasagna', 'sandwich', 'pronounced', 'Carol', 'Perry', 'wine', '4.75', '4.50', '8.00', 'rolls', 'FALL', 'Larry', 'Fine', 'youthful', 'Magdalena', 'Maleeva', 'Stadium', 'Montolio', 'worries', 'cement', 'Flushing', 'Meadows', 'bowing', 'semifinals', 'momentum', 'rhythm', 'tough', 'errors', 'Manhattan', 'Beach', 'Aleksandra', 'Olsza', 'celebrated', 'removing', 'ringing', 'endorsement', 'quarters', 'kilos', 'advance', 'scared', 'Brenda', 'Schultz-McCarthy', 'Nana', 'Helena', 'Sukova', 'prevailed', 'Barbara', 'Paulus', 'Yi', 'Jing-Qian', 'fiasco', 'glad', 'Haas', 'enjoy', 'tradition', 'strict', 'accordance', 'spots', 'ranking', 'approximately', 'mind', 'damaging', 'ought', '27-year-old', 'focused', 'lingers', 'controversy', 'original', 'bumped', '18th', 'deserves', 'everybody', 'MONDAY', 'Anne-Gaelle', 'Sidot', 'Vitoux', 'Delgado', 'Henrietta', 'Nagyova', 'Schett', 'Sabine', 'Cristina', 'Torrens-Valero', 'Spirlea', 'Gaidano', '9-7', 'heat', 'Dier', 'Anna', 'Kournikova', 'Debbie', 'Stephanie', 'Rittner', 'Kristina', 'Brandi', 'Ines', 'Gorrochategui', 'Jaime', 'Oncins', 'Linda', 'Wild', 'Pitkowski', '6-', 'Dally', 'Randriantefy', 'Madagascar', 'Elena', 'Courtois', 'Leander', 'Paes', 'Alexandra', 'Fusai', 'Dechy', 'Jane', 'Chi', 'Callens', 'Nicole', 'Baudone', 'EDGE', 'RUN', 'TOP', 'sweep', '3-2', 'Foster', 'fielded', 'Gagne', 'run-scoring', 'Chad', '1-1/2', 'shoulder', '.466', '.530', '.447', '.573', '.474', '26TH', '.628', '.523', '.423', '.545', '.519', 'BONDS', 'GAME', 'hamstring', 'second-longest', 'mild', 'strain', 'lineup', '32-year-old', 'outfielder', 'Sammy', 'Sosa', 'baseman', 'BRAZIL', 'Guus', 'Hiddink', 'Wim', 'Jonk', 'Gastel', 'Boer', 'Bergkamp', 'Kock', '04', 'Witschge', 'Real', 'Madrid', 'BARCELONA', '31st', '75th', 'Esnaider', 'Pantic', 'ZIMBABWE', '263-7', '138', 'Slater', 'Strang', 'Whittall', 'Streak', 'Bevan', 'Brandes', 'Hogg', 'b-1', 'nb-3', 'Reiffel', 'Flemming', '2w', '2nb', 'Flower', '1nb', 'Shah', 'Wishart', 'Evans', 'Dekker', 'lb-4', '4-35', '3w', 'day-night', 'TOSS', 'BAT', 'AGAINST', 'toss', 'Teams', 'Stuart', 'Fleming', 'Heath', 'story', 'Maputo', 'Lamonts', 'Apparel', 'files', 'reorganization', 'filed', 'Unsecured', 'bondholders', 'creditors', 'Between', 'unsecured', 'non-trade', 'existing', 'Bondholders', 'capitalization', 'reaches', 'Management', 'dilution', 'Passengers', 'ferry', 'Guernsey', 'boats', 'Jersey', 'voting', 'municipal', 'balloting', 'irregularities', 'assemblies', 'Tomorrow', 'Provisional', 'Election', 'consider', 'Kuperman', 'select', 'specify', 'organise', '600,000', 'PEC', 'citizens', 'slated', 'cantonal', 'Moslem-Croat', 'Representatives', 'three-man', 'Dnevi', 'Avaz', 'SDA', 'Frowick', 'Ambassador', 'allege', 'systematically', 'registering', 'cast', 'ballot', 'majorities', 'cleansing', 'Diplomats', 'voter', 'Soren', 'Special', 'High', 'run-up', 'card', 'abandon', 'appointed', 'compromise', 'settlement', 'insistence', 'arrange', 'Viktor', 'Chernomyrdin', 'undisclosed', 'departments', 'Speculation', 'hardly', 'reelection', 'criticising', 'acceptable', 'quit', 'Federation', 'Yastrzhembsky', 'Yastrezhembsky', 'recover', 'Zastava', 'factory', 'wages', 'revive', 'stubborn', 'strength', 'Stanojlovic', 'pre-war', 'Kragujevac', 'branch', '222', '9.1', 'trim', '10.0', 'Zagreb', 'settlements', '5.5', 'Overnight', 'controllers', 'Raichev', 'Valkov', 'carries', 'resorts', '230', 'separation', 'Naina', 'satisfactory', 'Tass', 'permanent', 'eye', 'Mostostal', 'Grabowski', 'premium', 'paying', 'benchmark', 'exchanged', '2.6', 'Unknown', 'JOSE', 'Humberto', 'Hueite', 'Zyrecha', 'Jetty', 'Kors', 'Misael', 'Valerio', 'kidnappers', 'fleeing', 'Wisinga', 'Santa', 'supposedly', 'tourist', 'guide', 'Fleuchaus', 'bizarre', 'twist', 'Julio', 'Cesar', 'photographs', 'Rican', 'Interacciones', 'ups', 'lowers', 'peso', 'brokerage', '4.3', 'projection', 'revisions', 'fueled', '6.1', 'Q4', 'year-end', 'commitments', 'Bancomext', 'appreciation', 'Moreno', 'importers', 'accumulated', 'shy', 'typical', 'month-end', 'helps', 'limit', 'Dealers', '142', 'Hashimoto', 'Ryutaro', 'Brasilia', '10-day', 'Latin', 'underwent', 'correct', 'Venezuelan', 'sank', 'Banco', 'inject', '3.412', 'pesos', 'secondary', 'credit', 'auctions', '1.206', '525', 'unidentified', 'ambulance', 'Transport', 'derailed', 'overturned', 'Bell', 'gunman', '1996-08-27', 'Fagan', 'cooperating', 'Northcote', 'sheds', '16-year-old', 'onlookers', '473-4746', 'fugitive', 'gun', 'unsuccessful', 'SIMEX', 'Brent', 'IPE', 'SINGAPORE', 'U.K.', 'Petroleum', 'contracts', 'S$', '6.05', 'takeover', 'operators', 'Spot', '42.5', 'ample', 'liquidity', '42.0', 'respectively', 'deposed', 'PDI', 'sued', 'lawyers', 'discussing', '0.45', '18.0', '34.0', '35.0', '107.0', '2,337', 'Specter', 'resign', 'Riyadh', 'Dhahran', 'Pennsylvania', 'Director', 'entirely', 'Hijacked', 'Airways', 'Airbus', 'refuelled', 'surrender', 'asylum', 'dozens', 'U.S.-brokered', 'cooperate', 'warring', 'Salahuddin', 'priest', 'protected', 'Amr', 'Moussa', 'consequences', 'Bedouin', 'expansion', 'luggage', 'shacks', 'miracle', 'pursuing', 'metals', 'premiums', 'COMEX', 'works', 'Aluminum', 'grade', '3.25-3.75', 'Lead', 'Copper', 'alloy', 'Midwest', 'Refined', 'No1', '6.0', 'Producer', 'aluminum', 'ingot', 'extrusion', 'billet', 'pure', '859', 'FORT', 'Fla.', 'nervous', 'younger', 'brothers', 'tree', 'CBOT', 'bounce', 'oversold', 'remains', 'cwt', 'Talbott', 'Ottawa', 'pattern', 'calendar', 'fairly', 'hog', '1.50', 'sparked', 'packers', 'Iowa', '60.00', 'Illinois', '57.50', 'hogs', 'Producers', 'ship', 'prepares', 'Gore', 'mild-mannered', 'Al', 'Newt', 'Gingrich', 'Convention', 'thrusting', 'grip', 're-election', 'stiff', 'energetic', 'foil', 'Housing', 'Kemp', 'coalition', 'justice', 'nominations', 'painted', 'horrors', 'Republicans', 'withering', 'Education', 'productive', 'builds', 'praised', 'comparison', 'milk', 'Act', 'criticized', 'stakes', 'Actor', 'Reeve', 'latter', 'politicians', 'Rep', 'Gephardt', 'Daschle', 'Here', 'Reagan', 'passage', 'campaigned', '1981', 'requires', 'background', 'checks', 'would-be', 'purchasers', 'Hinckley', 'brain', 'congressmen', 'hero', 'Superman', 'movies', 'accomplished', 'shattered', 'neck', 'vertebrae', 'performed', 'Mr', 'ambitions', 'congressional', 'insider', 'sufficiently', 'legislature', 'advocated', 'deficits', 'abortion', 'fiery', 'nomination', 'reformer', 'Dakota', 'moderate', 'Concern', 'gas', 'legislation', 'healthcare', 'adult', 'adoptive', 'McCullough', 'Oklahoma', 'shotgun', 'handgun', 'recomposed', 'KARACHI', 'Karachi', 'KSE', 'capitalisation', '9221-5685192', 'NWE', 'Repsol', 'refinery', 'functioning', 'Manuel', 'Gasoline', 'notionally', 'NYMEX', 'barges', 'fob', 'ARA', 'sentiment', 'Oil', '400,000', 'bids', 'scarce', 'Prairies', 'frost', 'WINNIPEG', 'anywhere', 'Alberta', 'Machnee', '5.0', 'moisture', '32.0', '41.0', 'Grande', 'Prairie', '12.0', 'Gras', '204', '947', '3548', 'Brush', 'beryllium', 'lawsuits', 'producer', 'affects', 'immune', 'remaining', 'suits', 'typically', 'covered', 'Salomon', 'Q3', 'margins', 'versus', '0.63', '0.85', '0.94', 'Energy', '0.27', 'Marion', 'NA', 'Y', 'None', 'MGR', 'CALL', 'NIC', 'AGENT', 'Fairmont', 'Ferris', 'Watts', 'Charleston', 'Coupon', '650,000', 'BALANCE', 'refunding', 'STATE', 'OHIO', 'RE', 'BUILDING', 'A1', 'AA-', 'FITCH', 'CONFIRMED', 'Delivery', '08/29/1996', 'Maturity', 'List', '10/01', '4.20', 'A.G.', 'Sons', 'Investment', 'shaking', 'excited', 'Hillary', 'Rodham', 'lady', 'interested', 'drifted', 'depressed', 'AEX', '4.54', 'Stocks', '1.90', 'IHC', '2.40', '210.00', 'Stork', 'follow-through', 'Tapie', 'Lelouche', 'Seguin', 'thus', 'ineligible', 'instructions', 'procedure', 'reconvene', 'courts', 'francs', 'securities', '13.4', 'bidders', 'collateral', 'satisfying', 'SEES', 'H2', 'NET', 'Rabobank', 'Herman', 'Wijffels', 'depend', 'easing', 'Garry', 'LE', 'permits', 'Atria', 'Oy', 'January-June', 'speeding', 'epidemic', 'Belga', 'checked', 'no-confidence', 'debate', 'Banharn', 'Silpa-archa', '13-month-old', 'six-party', 'seats', 'infighting', 'fix', 'Fontaine', '6mth', 'PREVIOUS', '231', 'coconut', 'unq', 'Aronkasei', 'Nomura', 'downgraded', 'direction', 'LA', 'primary', 'Ekeus', 'inspectors', 'destruction', 'prerequisite', 'invading', 'ticket', 'Omar', 'locations', 'occupied', 'Prices', 'interviewed', 'Alfred', 'Tamils', 'demonstrated', 'Tiger', 'extortion', 'LTTE', 'bourses', 'uncertainty', 'monetary', 'Tankan', 'FTSE', 'patchy', 'unsettled', 'Treasuries', 'Shortly', 'relinquished', 'strategist', 'rapid', 'swings', 'chemical', 'fundamentals', 'unease', 'franc', 'Bond', 'jitters', '0.5', 'CURRENCIES', '107.55', 'STOCK', 'Times-Stock', '2.43', '2,017.99', '30-share', 'DAX', 'PRECIOUS', 'METALS', '388.55', 'Silver', 'STANSTED', 'Iraqis', 'diverted', 'Stansted', 'British-based', 'Sadiki', 'contacted', 'explosives', 'batches', 'Saudis', 'Later', 'builders', 'warfare', 'hurts', 'eco-terrorism', 'Tarmac', 'Costain', 'ARC', 'conglomerate', 'targeted', 'Harding', 'mobile', 'terror', 'Newbury', 'bypass', 'underground', 'larger', 'activist', 'Earth', 'Land', 'M3', 'Twyford', 'Down', 'broader', 'stopping', 'contributed', 'primarily', 'environmental', 'forms', 'tales', 'suppliers', 'methods', 'involve', 'wide', 'Carnival', 'spirits', 'scenes', 'festival', '1976', 'slowly', 'recovering', 'Shopkeepers', 'windows', '248', 'ANNEX', 'STATEMENT', 'COUNCIL', 'REASONS', 'fake', '5.4', 'NORTHAMPTON', 'Seve', 'Ballesteros', 'Olazabal', 'pairs', 'Ryder', 'feasible', 'prohibited', 'THOMSON', 'RESIGNS', 'resigned', 'directors', 'pride', 'Griqualand', 'Wessels', 'Glen', 'Osborne', 'Ball', 'Postponed', 'Batting', 'Ealham', '10no', '9.75', '6.00', 'Caddick', 'Graeme', 'Hick', '47.4', '141', '195', 'Shadab', 'Kabir', 'Ata-ur-Rehman', 'Keith', 'argue', 'appreciate', 'Cozma', 'lei', '3000', 'Lupu', 'reformist', 'tunnel', 'skirmish', 'SQUASH', 'Jansher', 'Brett', '13-15', 'Cairns', 'Harris', '7-15', 'Frenz', '12-15', '15-4', '15-14', 'Kneipp', 'Mir', 'Zaman', 'Gul', '8-15', 'Slams', 'Opens', 'retire', 'Jimy', 'Szymanski', 'romp', 'Pavel', 'Wiesner', 'Iva', 'Majoli', 'sidelines', 'TUESDAY', 'Rita', 'Ellwood', 'Mariaan', 'Swardt', 'Florencia', 'Labat', 'Paola', 'Suarez', 'Grossman', 'Wagner', 'Kristie', 'Boogert', 'Campana', 'Radka', 'Kschwendt', 'Annabel', 'Arendt', 'Likhovtseva', '7-', 'Kimberly', 'Po', 'Tina', 'Langrova', 'Tami', 'Whitlinger', '7-9', 'Amy', 'Frazier', 'Lisa', 'Dopfer', 'Sawamatsu', 'Miriam', 'Oremans', '.526', '27TH', '.492', 'VanLandingham', 'concentrated', 'Swift', 'Benes', 'Clayton', 'one-half', 'YANKEES', 'wild', 'Eldred', 'batter', 'Thome', 'left-field', '29th', 'Joe', 'tiebreaker', 'Everyone', 'Hopefully', 'stomach', 'combination', 'faults', 'awarded', 'risen', 'spate', 'trail', 'proved', '85th', 'Jeffrey', 'Roest', 'Korneev', 'Hansma', 'HOCKEY', '23rd', 'BAN', 'Jean-Pierre', 'Cyprien', 'post-match', 'punches', 'Moura', 'intervene', 'succeeded', 'Gress', 'shocking', 'Gianni', 'Bugno', 'testing', 'testosterone', 'STAGE', 'NETHERLANDS', 'HAARLEM', 'kilometre', 'Haarlem', 'Federico', 'Colonna', 'Mapei', 'mins', 'Robbie', 'McEwen', 'Jans', 'Koerts', 'Palmans', 'Teutenberg', 'Postal', 'Aki', 'Capiot', 'Collstrop', 'den', 'Neths', 'Blijlevens', 'TVM', 'Wolf', 'Foreldorado', 'Corini', 'Motorola', 'Hincapie', 'Expectations', 'Cofinec', 'rebound', 'Sitanyi', 'packaging', 'forints', 'Erdei', 'Domestic', 'plunged', 'understands', 'consumption', 'Krpaco', 'ownership', 'consolidated', 'Volume', 'CZK', '336.47', '290.00', '700', 'HOLDING', '171.00', 'PRAHA', '960.00', '2470.00', '3024.95', '637.50', '156.00', '6000', '900.00', '785.00', '6700.00', '1915.00', 'after-hours', 'WorldCom', 'MFS', 'CBOE', 'valued', 'certainly', 'steadily', 'mid-August', 'Derivatives', '312', 'Faulding', 'patent', 'N.J.', 'Frederick', 'infringement', 'Purepac', 'Kadian', '36-year-old', 'first-team', 'omitted', 'Kelly', 'killer', 'murders', 'Eugene', 'colonel', 'nuns', 'Garang', 'Nairobi', 'SPLA', 'Nuour', 'Marial', 'Mapourdit', 'compound', 'Batchelor', 'Father', 'Barton', 'Riel', 'Maureen', 'attributed', 'pressed', 'register', 'inform', 'districts', 'hinted', 'arranged', 'Vyacheslav', 'Tikhomirov', 'Novye', 'Atagi', 'materialise', 'band', 'Guldimann', '20-month-old', 'indicated', 'agencies', 'representatives', 'weakening', 'Aides', 'insisting', 'apart', 'Aleksander', 'Kwasniewski', 'Kucan', 'Area', 'Economy', 'Iliescu', 'impeachment', 'PUNR', 'Nastase', 'unexpectedly', 'agriculture', 'Funar', 'oust', 'nationalists', 'oppose', 'Presidential', 'Estonian', 'TALLINN', 'Lennart', 'Meri', 'Ruutel', 'votes', '101-member', 'college', 'favoured', 'Reform', 'constitution', 'Support', 'constant', 'convene', '101', 'MPs', '273', 'Enn', 'Markvart', 'invalid', 'abstentions', 'abusing', 'acts', 'Xhelili', 'divorced', 'Laca', 'difficulty', 'filmed', 'Rudolf', 'Gajdos', 'Interpol', 'Eva', 'interrogated', 'pornographic', 'films', 'serial', 'raped', 'identify', 'Commandments', 'offices', 'Quarracino', 'cleric', 'Eletropaulo', 'SAO', 'PAULO', 'Eduardo', 'Bernini', '232', 'victims', 'Alvarado', 'Hurte', 'Sierd', 'Zylstra', 'Jetsi', 'Hendrika', 'Coers', 'teak', 'plantation', 'Schutte', 'note', 'Ebe', 'Huizinga', 'CVG', 'privatization', 'CARACAS', 'proceeding', 'Sidor', 'Radical', 'Cause', 'layoffs', 'Caracas', '582', '834405', 'drunks', 'drinkers', 'lovebites', 'Matagalpa', 'placing', 'surrounding', 'slept', 'gripping', 'Banespa', 'prior', 'O', 'Globo', 'liquidated', 'temporary', 'restructure', 'Bamerindus', 'Interest', 'loan', 'Havel', 'Henrique', 'Cardoso', 'cities', 'Chancellor', 'Alejandro', 'Lanusse', '1973', 'Domingo', 'Peron', 'steered', 'imprisoned', 'coup', 'gradual', 'autobiography', 'married', '1935', 'collision', 'liner', 'Dalian', 'Matahari', 'Komala', '+6221', '384-6364', 'Seoul', 'blind', 'teachers', 'remote', 'attract', 'nabs', '10-year-old', 'immigrant', 'apartment', 'immigrants', 'mainland', 'reverts', 'Hasan', 'Muratovic', 'Bosnians', 'Suleyman', 'Demirel', 'Tansu', 'Ciller', 'organising', 'humanitarian', 'Fulcheri', 'memorandum', 'understanding', 'partial', '4,200', 'contracted', 'praises', 'Democrat', 'tolerance', 'views', 'Hall', 'indeed', 'Casey', 'deliver', 'podium', 'ears', 'punishment', 'Bids', 'flooded', 'Montana', 'bushel', 'crop', 'Durum', 'protein', 'Chg', '5.06', '.02', 'unc', '---', 'dn', 'HRW', 'MT', '.01', '.10', 'Portland', 'OR', 'Pendleton', 'WA', '5.05', '312-408-8720', 'Aa3', 'VMIG-1', 'Proj', 'VMIG', '08/28/96', 'troop', 'dialogue', '08/26/96', 'Stallone', 'fiancee', 'Flavin', 'publicist', 'jumps', 'ABC', 'challenger', 'whistle-stop', 'Perot', 'bulk', 'millfeeds', 'millfeed', 'Flour', 'mills', 'ton', 'barley', '140', '312-408-8720--', 'Puerto', 'hairy', 'surgical', 'skin', 'DeJesus', 'Children', 'expanding', 'Norris', 'saline', 'Eau', 'Claire', 'Wisc', 'Baird', '1.0', '8.32', 'Amtrak', 'derails', 'MONTPELIER', 'Vt', 'Vermont', 'D.C.', 'Roxbury', 'Montpelier', 'Garrity', 'Pudvah', 'Northfield', 'Mountains', 'gloomy', 'scepticism', 'medals', 'stagnates', 'actively', '500,000', 'austerity', 'GAN', 'slid', '2.4', 'Essilor', 'DAILY', 'NEWS', 'guidelines', 'liquor', 'licences', 'Cultural', 'indefinitely', 'hospitalised', 'breathing', 'vomiting', 'abated', 'advise', 'treating', 'sister', 'recovery', 'prostitutes', 'goddess', 'Statesman', 'Das', 'Bengal', 'pray', 'Gopal', 'Rifkind', 'conferences', 'normally', 'interfere', 'protested', 'Salvation', 'FIS', 'Hamas', 'guest', 'Congressman', 'Masood', 'Rohrabacher', 'appoint', 'transitional', 'Amrollah', 'feels', 'Tehran', '1.38', 'rupees', 'insurgents', 'insurgency', 'multi-party', 'Khadga', 'guarantee', 'centrist', 'jointly', 'Communist', 'UML', 'three-party', '12,900-13,100', 'Soyoil', 'solvent', 'soyoil', 'refined', 'Soymeal', 'soymeal', 'Rapeseed', 'extraction', 'Yellow', '12,600-12,750', 'n.a', '12,700-12,800', '12,750-12,900', '9,800', '8,800', 'Choudhury', 'callers', 'chaired', 'M2', '8.2', 'y', '456.8', '439.9', 'SUPPLY', 'INTEREST', 'RATES', 'Helibor', 'fixing', '3.40', '3.34', '3.73', '3.70', 'Barrick', 'Arequipa', 'Resources', 'Pierina', 'allocation', 'Penn', 'Pa', 'Insurance', 'VNU', 'Op', 'Consumer', 'Commercial', 'info', 'AOL', 'online', 'Online', 'Bertelsmann', 'AdOn', 'CeBIT', 'managing', 'Benelux', 'hijack', 'A310', 'DTB-Bund-Future', 'tranches', 'DBRS', 'confirms', 'ratings', 'Pfd-1', 'roadblock', 'provinces', 'Arabic', 'suggesting', 'expense', 'Illness', 'Because', 'Transkaryotic', 'Therapies', 'Name', 'Nasdaq', 'Shrs', 'Morgan', 'gene', 'praise', 'wheelchair', 'Mrs.', 'firearm', 'felons', 'tonight', 'actress', 'Latest', 'CDU', 'CSU', 'SPD', 'FDP', 'PDS', 'Emnid', 'Elect', 'Res', '11.0', 'Allensbach', '32.8', '13.0', '39.0', '40.0', '37.4', '7.3', '12.3', 'Forsa', '43.0', '6.3', '4.30', '0330', 'Mentmore', 'pence', 'valuing', 'stg', 'Flight', 'Heathrow', 'Gatwick', 'Ruth', 'prefer', 'contingency', 'refuel', 'scam', 'parrots', 'dye', 'birds', 'Peiris', '14,000', 'Drew', \"'d\", 'photos', 'dyed', 'bird', 'motorist', 'Tonga', 'unexpected', 'smoke', 'SBPUs', 'missions', 'Macedonian', 'facilities', 'crushed', 'urgent', 'balanced', 'commentary', 'discussed', 'inspections', 'declares', 'poisoning', 'receding', 'Sakai', 'hardest', 'O-157', 'colon', 'bacillus', 'Kan', 'regional', 'Osaka', 'deadly', 'bacteria', 'indicating', 'peak', 'relieved', 'infected', 'infection', 'standards', 'overhaul', 'aluminium', 'shipments', '8.9', 'mill', 'housing', 'Figures', 'reflecting', 'above-average', 'temperatures', 'inventories', '0.2', 'upward', 'pegged', 'dipped', 'Commodities', '3432', '6179', 'publicly', 'Bongo', 'expressing', 'Cooperative', 'TAIPEI', '0.05', 'Sheu', 'sluggish', 'demolition', 'demolished', 'metre', 'walls', 'SEC', 'rules', '1996-08-28', 'specialists', 'quotes', 'electronic', 'readily', 'orderly', 'compete', 'practices', 'existed', 'quote', 'robbing', 'continuous', 'ROME', 'reprieve', 'Silvio', 'locomotive', 'trapped', 'wreckage', 'treat', 'Saskatchewan', 'Pool', 'eyes', 'pork', 'SWP', 'integrated', 'units', 'monopoly', 'ROVERETO', '2.20', 'Oksana', 'BRITISH', 'MASTERS', 'Masters', 'Gavin', 'Levenson', 'Coceres', 'Gilford', 'Emanuele', 'Canonica', 'Howell', 'Hedblom', 'Sellberg', 'Joakim', 'Haeggman', 'Klas', 'Gates', 'McAllister', 'retained', '1:04.541', 'VAN', 'HEESWIJK', 'ALMERE', 'Almere', 'Heeswijk', 'Zabel', 'Telekom', 'Zanoli', 'MX', 'Onda', 'Citterio', 'Kaspars', 'Ozers', '8:22:00', 'Boardman', '4:13.353', 'Moreau', 'Heiko', 'Szonn', 'Collinelli', 'Sandstod', 'Alexei', 'Mariano', 'Friedick', 'time-trial', 'Lausberg', 'Thuet', 'Dimitrios', 'Georgalis', 'Neiwand', 'Hubner', 'Gane', 'Curuchet', 'Jean-Michel', 'BOARDMAN', 'Ayres', 'prediction', '4,000', '13.353', '4:19.699', '4:17.696', 'perfected', 'Obree', 'viral', 'L.', 'Chester-le-Street', 'Fowler', 'FIFTH', 'Redgrave', '1977', 'Will', 'Carling', 'quartet', '244', 'qualities', 'selectors', 'Nomo', 'Santiago', 'Denny', 'Neagle', 'Smoltz', 'Devon', 'Hutton', 'Blair', 'comeback', 'Mehrtens', 'COACH', 'Bonnet', 'Featherstone', 'GETS', 'Province', 'Herschelle', 'Woolmer', 'Kallis', 'Nicky', 'Boje', 'Crookes', 'Allan', '71-57', 'Olympiakos', 'basketball', 'Alba', 'Rodney', 'Eyles', 'Jahan', 'Nicol', 'Ryan', 'Jonathon', '15-13', 'Shabana', 'Zubair', 'R', 'Maccabi', 'Haifa', 'Petah', 'Tikva', 'Beit', \"She'an\", 'HAS', 'routing', 'lounge', 'preparation', 'destined', '6-8', '.522', '28TH', 'fourth-seeded', 'crushing', 'loser', 'roof', '56th', 'Jongsma', 'weathered', 'Albert', 'Milinko', 'Hristo', 'Stoichkov', 'SPANISH', 'SIGN', 'Gabrich', 'Parma', 'Roma', 'Empoli', 'Pescara', 'Cesena', 'Udinese', 'Cremonese', 'replay', 'Cosenza', 'Fidelis', 'Andria', 'Piacenza', 'Lecce', 'Genoa', 'Sampdoria', 'Sergio', '25th', 'Zickler', 'Rizzitelli', 'Feldhoff', '27,000', 'Pires', 'Marc-Vivien', 'Foe', 'Patrice', 'Loko', 'PSG', 'Guivarch', 'raid', 'Ferhaoui', 'Vairelles', 'Lefevre', 'convincing', 'shocked', 'Vierklau', '71st', 'CHRISTIE', 'OWENS', 'Dream', 'relay', 'tribute', 'Jesse', 'Owens', 'promoter', 'Rudi', 'Thiel', 'hopeful', 'holder', 'Namibian', 'widow', 'squads', 'Sanath', 'Jayasuriya', 'modest', '226-5', 'Romesh', 'Kaluwitharana', 'Aravinda', 'Silva', 'Jadeja', 'Ganguly', 'Dharmasena', 'Kambli', 'Dravid', 'Srinath', '226', 'Kumble', 'Mongia', 'Kapoor', 'Pushpakumara', 'Asanka', 'Gurusinha', 'Hashan', 'Tillekeratne', 'Roshan', 'Mahanama', 'Kumara', 'Chaminda', 'Vaas', 'Muthiah', 'Ravindra', 'Lyman', 'subpoena', 'persons', 'subpoenaed', 'airliner', 'Arch', '1,100', 'Morinville', 'Trax', 'et', 'al', 'logged', 'Leduc', 'Reef', 'Apache', 'depth', 'acreage', 'earning', 'Including', 'barrel', 'Biogen', 'Berlex', 'Food', 'Drug', 'Avonex', 'Betaseron', 'interferon', 'marketplace', 'Chiron', 'FDA', 'diseases', 'Judge', 'Newark', 'balances', 'Fed', 'acct', 'Tax', 'Salvador', 'lots', '212-859-1646', 'CBSA', 'Average', 'centers', 'Quarterly', 'Prior', 'Pay', 'Record', 'ENAP', 'Oriente', 'Escravos', 'Oct', 'seller', 'III', 'Monte', 'romantic', 'settlers', 'composer', 'organist', 'scale', 'rebellion', 'surrendered', 'Hollywood', 'measuring', 'ft', 'Majesty', '1965', '1952', 'author', 'character', 'ours', 'Fourth', 'Great', 'noise', 'decibels', 'Nevertheless', 'applied', '7717', 'exclusive', 'Sky', 'Christchurch', 'heels', 'CAF', 'Sierra', 'Leone', 'dissidents', 'Lambert', 'Ivorian', 'journalist', 'ABIDJAN', 'Populaire', 'confidential', 'Voie', 'Henri', 'Konan', 'Bedie', 'Abidjan', 'excessive', 'pardoned', 'Foindu', 'Brigade', 'Sewa', 'overran', 'Ivory', 'Chiluba', 'vacancy', 'Mushota', 'Shimaponda', 'fictitious', 'rid', 'payroll', 'Kaba', 'Guinean', 'bribes', 'hydroelectric', 'Monrovia', '150,000', 'compliance', 'Constitutional', 'CRP', 'ongoing', 'ASUU', 'detention', 'colonies', 'pleas', 'clemency', 'versions', 'Topolcany', 'elaborating', 'visits', 'queen', 'knifed', 'Agnieszka', 'Kotlarska', 'Wyborcza', 'TWA', 'System', '4.38', 'Mokhoff', 'UES', 'chips', 'anybody', 'ADRs', 'Gazprom', '0.300', 'investing', 'tightened', 'Shehu', 'deported', 'restitution', 'vacation', 'staying', 'confusing', 'Nagyatad', 'Republika', 'Srbska', 'cancellation', 'translator', 'studying', 'slips', 'Rosati', 'circle', 'unity', 'matters', 'expenditures', 'pension', 'energy', 'Arce', 'advised', 'Samper', 'Salamanca', 'lords', 'prisons', 'contributions', 'earthquake', 'Richter', 'quake', '11.16', 'welcoming', 'CVRD', 'Dutra', 'Yates', '1996-08-29', '3.98', 'dividend', 'Nov', 'RAMALLAH', 'necessarily', 'amounted', 'concerning', 'comprehensive', 'endorse', 'massing', 'centres', 'reflects', 'aggression', 'noble', 'INA', 'contrary', 'ignoring', 'anti-drug', 'Meanwhile', 'flashpoint', 'likened', 'missiles', 'marijuana', 'remarks', 'cigarettes', 'aides', 'headache', 'Bush', 'WATER', 'CO', 'SER', '90M', 'tbf', 'Jerry', 'planting', 'Frost', 'Plains', 'economist', '1930s', 'Survey', '20.19', 'Mosier', 'ideal', 'topsoil', 'adequate', 'Agricultural', 'Statistics', 'Amoco', 'Yemen', 'Shabwa', 'Block', 'potentially', 'Ludwig', 'defends', 'Evelyn', 'Leopold', 'lengthy', 'Terence', 'Buyoya', 'coups', 'legitimate', 'Chilean', 'cautious', 'unarmed', 'INDEX', 'cheques', 'ventilation', 'Eksportfinans', 'Suedwest', 'LB', 'economists', 'flat', '97.82', 'marched', 'removal', 'Benazir', 'Bhutto', 'Zardari', 'Nawaz', 'Sharif', 'Muslim', 'Witnesses', 'innocent', 'MQM', 'speaks', 'ACC', 'Cement', 'Palkhivala', '1994/95', 'achieved', 'WSRL', 'Welspun', 'welded', 'pipes', 'annum', 'longitudinal', 'yarn', 'fishermen', 'Arulanandam', 'Rameswaram', 'Nadu', 'influx', 'Bose', 'naval', 'coerced', 'unfair', 'nevertheless', 'boundary', 'bales', 'VW', 'carmaker', 'Adelt', 'Gilardi', 'Conservative', 'ND', 'Miltiadis', 'Evert', 'Alexandroupolis', 'depart', 'merchants', 'pensions', '600', 'drachmas', 'evasion', 'floor', 'chip', '2,563.16', '4.32', 'firmer', '108.40', 'tankan', 'BOJ', 'predictions', 'backbone', 'AEI', 'ISO', '9002', 'strongest', 'expand', 'labourers', 'bombings', 'promises', 'pressing', 'Hebron', 'Omer', 'Akbel', 'Prodi', 'muni', 'Colo', 'Aa2', 'Lamm', 'CNN', 'Career', 'Horizons', '0.69', 'Names', 'reorganisation', 'Chiate', 'liabilities', 'Equitas', '1100', 'litigation', 'Head', 'Appeals', 'Circuit', 'Norton', 'rejecting', 'gestures', 'detail', 'duty', 'prosecutors', 'BERLIN', 'pistol', 'photographed', 'file', 'pictures', 'sadistic', 'alerted', 'Sep', 'Archaeological', 'Society', 'Reppas', 'Industrial', 'components', '1.09', 'refer', 'cavorting', 'Ducruet', 'naked', 'Tremila', 'Gente', 'explicit', 'Houteman', 'singer', 'Rainier', 'IP', 'Stockholm', 'tomato', 'Bunol', 'tomatoes', '1945', 'upcoming', 'FINANCIAL', 'vows', 'drachma', 'Georgiopoulos', 'PROFIT', '28.9', 'Stagecoach', 'Swebus', 'principle', 'see-saw', 'Guinness', 'Peat', 'GPG', 'profitability', 'Weiss', 'Newcrest', 'Telfer', 'bush', 'dense', 'bushland', 'Glenwood', 'sq', 'littered', 'Ek', 'Chor', 'Shanghai-Ek', 'Motorcycle', 'gasoline', 'engines', 'Khmer', 'Rouge', 'Ieng', 'Sary', 'Pol', 'Pot', 'hardliners', 'dictatorial', 'copy', 'Cambodia', 'Phnom', 'Penh', 'Mouly', 'Kubo', 'supplementary', 'smoothly', 'mid-September', 'wartime', 'atrocities', 'apologised', 'Sakigake', 'Takemura', 'LDP', 'Hatoyama', 'allies', 'resolve', 'stalled', 'lawmakers', 'dissolve', 'Hing', 'hurled', 'Stromme', '430', 'molotov', 'cocktail', 'novelist', 'Dai', 'Ren', 'Hwa', 'Kay', 'all-time', '47.5', '3,684', '7,011', 'year-ago', 'anxieties', 'judiciary', 'Dahman', 'Qidra', 'Headlines', 'EL', 'PAIS', 'Country', 'MUNDO', 'Catalan', 'DIARIO', 'CINCO', 'DIAS', 'conquest', 'EXPANSION', 'GACETA', 'NEGOCIOS', 'Banisadr', 'fearing', 'chiefs', 'Allied', 'cleaning', 'Aaxis', 'provisions', '146', 'DHA', 'Aircraft', 'emissions', 'Consultancy', 'Call', 'NIS', 'Tacis', 'EEC', 'cull', 'Obviously', 'Kiely', 'bovine', 'spongiform', 'encephalopathy', 'slaughtered', 'predicted', 'Naish', 'Creutzfeldt-Jakob', 'Disease', 'CJD', 'importing', 'discovery', \"O'Malley\", 'Walton', 'Jimenez', 'Antoine', 'Lebouc', 'DOETINCHEM', '19.6', 'Sorensen', 'Ekimov', 'Breukink', 'Voskamp', 'Lietti', 'MG-Technogym', 'Maarten', 'Bakker', 'Olaf', 'overs-a-side', '225-5', '46.4', 'Magali', 'Faure', 'Felicia', 'Ballanger', 'Tanya', 'Dubnicoff', 'Annett', 'Neumann', '225', '10-1-36-2', 'long-on', 'w-7', 'Saqlain', '10-0-52-0', 'Lombardi', 'Hans', '1996-08-30', 'Grobbelaar', 'ZIFA', 'accepting', '69-60', '9-15', '29TH', 'Wengert', 'Baldwin', 'Hentgen', 'Hershiser', 'inspired', 'GENOA', 'NICE', 'Emon', 'much-delayed', 'SEP', 'linked', 'APT', '94.26', '96.83', '3,894.00', 'Mobutu', 'object', 'Ikimi', 'fact-finding', 'Beatrix', 'guns', 'Deby', 'Colonel', 'Mahala', 'Zvornik', 'Marriner', 'angry', 'lightning', 'Kornblum', 'Milosevic', 'bolster', '2,901.48', 'roubles', 'FFK', 'Kosovo', 'institutions', 'Viral', 'meningitis', 'infectious', 'virus', 'Filipovic', 'staging', 'Matos', 'seminar', 'coffee', 'non-traditional', 'OCEI', 'Chemical', 'racket', 'Piotti', 'dishonest', 'same-day', 'Cetes', 'nervousness', 'masked', 'shortfall', 'pour', 'Aguirre', 'Pessina', 'landless', 'peasants', 'countryside', 'passport', 'ICAC', 'thinks', 'warnings', 'Yassin', 'fundamentalist', 'Skhirat', 'vital', 'triumphal', '200-an-hour', 'Feinstein', 'judgment', 're-elected', 'Piper', 'Jaffray', 'A-rated', \"Gen'l\", 'Obligation', '+0.05', '4.90', 'muscular', 'dystrophy', 'Gene', 'Therapy', 'muscle', 'dystrophin', 'altered', 'mice', 'Grain', 'WHEAT', 'SALES', 'Assn', 'No.2', 'Cargill', 'Dreyfus', 'DNS', 'WW', '212.25', '204.74', 'FOB', 'BARLEY', 'soybeans', 'buyer', '15-30', 'MARKET', 'TALK', '1,700', 'panel', 'offal', 'help-wanted', 'uneven', 'Goldstein', 'unemployment', 'ATLANTIC', 'jewelry', 'Andrews', 'videotape', 'Schein', 'suitcases', 'O.J.', 'Simpson', 'journalism', 'surgeon', 'amputated', 'freezer', 'shrub', 'guys', 'Pines', 'Feugill', 'tin', '2.7975', 'gluten', 'meal', 'Gluten', '117.00', 'pellets', '234,324', 'Ecus', 'shipyard', 'Cherbourg', '1,800', 'unearthed', 'Gas', 'Sui', 'on-line', 'elephant', 'trampled', 'asleep', 'overrun', 'Vavuniya', 'undercover', 'Vicorp', 'Restaurants', 'Sabourin', 'SoCal', 'Edison', 'KV', 'Conroy', 'MW', 'Strategic', '0.056', 'Semiconductor', 'modem', 'modem-chip', 'networking', 'PMC-Sierra', 'Randall', 'focusing', 'Housecall', '10,650,407', 'Pro', 'forma', '14,775,000', 'Oasis', 'Gallagher', 'rock', 'Noel', 'Slough', 'Estates', '2p', 'Warburg', 'seasonally', '715', 'shaken', 'four-hour', '0900', 'rings', 'kerosene', 'sort', 'Jet', 'cargoes', 'sulphur', 'manuscript', 'thieves', 'predecessor', 'shops', '55,000-B', 'Life', 'Southland', 'NBA', 'telecommunications', 're-nomination', 'debris', 'shore', 'conducting', 'shoes', 'Archives', 'Conservation', 'volunteers', 'preserved', 'microfilm', 'rarely', 'discharge', 'shall', 'sic', 'insight', 'OM', 'Gruppen', 'PULPEX', 'pulp', 'clearing', 'Amsterdam-Rotterdam-Antwerp', '425', 'Naphtha', '50-75', 'anti-nuclear', 'Mafia', 'Puglisi', 'Botta', 'Thieves', 'canteen', 'AIDS', 'Bodies', 'Spitzbergen', 'trees', 'cm', 'RMT', 'pesetas', 'Finns', 'luxury', 'Laasonen', 'Audi', 'Demel', 'Kekkila', 'trend', 'fluctuations', 'T&N', 'Hope', '9.5', 'Zealands', 'T$', 'Siam', 'INT', 'Daewoo', 'Dacom', 'Utomo', 'Facilities', '11.38', 'contesting', 'Selection', 'provisional', 'Refining', 'SRC', 'Loxley', '332.66', 'MTH', 'PVS', 'YR-AGO', '+0.1', 'Yr', '+3.6', '+0,2', 'M4', 'trln', 'Deficit', 'EPA', 'obstructing', 'Lenzing', 'viscose', 'Widness', 'Perelstein', 'UNDER-21', 'MARINO', 'Marino', 'Samokhalova', 'Quigley', 'Goulnara', 'Fatkoullina', 'Ingrid', 'Haringa', 'Lancien', 'Kombouare']\n",
            "11983\n",
            "[ 5.53785741e-01  1.28151208e-01  2.29955409e-02 -1.16766788e-01\n",
            "  2.02304915e-01 -1.38421580e-01 -3.81368816e-01 -4.70498025e-01\n",
            "  5.46263099e-01  5.56608617e-01 -5.35573184e-01  1.86760351e-01\n",
            "  4.58544672e-01 -7.12110937e-01  8.94886076e-01 -6.20765626e-01\n",
            "  3.35331887e-01  3.20265144e-01  4.07946594e-02  4.77757931e-01\n",
            " -1.08508609e-01  2.98473179e-01 -9.88058150e-01 -2.07628742e-01\n",
            " -6.75156236e-01  6.05920732e-01 -2.16424823e-01  7.50604153e-01\n",
            " -2.54040901e-02 -3.14042985e-01 -1.15069933e-01  9.23015237e-01\n",
            "  3.22835654e-01 -2.85683423e-01 -1.02153444e+00 -1.94113240e-01\n",
            " -5.24880886e-01  1.42225936e-01 -3.33735868e-02  1.57983154e-01\n",
            "  1.96395833e-02 -4.44260299e-01  3.29163194e-01 -2.30912287e-02\n",
            " -6.25274539e-01  1.08872280e-01  2.89305657e-01 -7.32403100e-01\n",
            " -4.20051903e-01 -1.93699583e-01 -2.60769695e-01  4.44958478e-01\n",
            "  1.76411331e-01  2.11974941e-02 -3.57262552e-01  3.44929159e-01\n",
            " -3.75901431e-01  9.65583473e-02 -6.93242610e-01 -3.10843363e-02\n",
            " -8.00368749e-03 -2.65264004e-01 -2.06534341e-01  5.71636021e-01\n",
            "  3.31759423e-01  3.64562243e-01 -4.71919388e-01 -6.52648091e-01\n",
            " -6.54998124e-01 -6.55951738e-01 -5.04872382e-01 -5.38240552e-01\n",
            " -4.47098538e-02  2.53935158e-01  1.31624797e-03  9.28239882e-01\n",
            "  9.09327194e-02  1.64621949e-01 -4.12676543e-01 -7.88396120e-01\n",
            "  1.54585695e+00 -4.46575321e-03 -3.22596431e-01  1.14787912e+00\n",
            " -3.14878523e-01  3.74654442e-01 -2.39665791e-01 -3.58209163e-01\n",
            "  4.44205970e-01  7.10877001e-01 -3.34010243e-01 -7.79231369e-01\n",
            " -2.99675673e-01  1.66480809e-01  5.10427475e-01  2.90159762e-01\n",
            "  3.90317380e-01 -5.23084044e-01 -9.09831285e-01  2.71407455e-01]\n"
          ]
        }
      ]
    },
    {
      "cell_type": "code",
      "source": [
        "# Embedding matrix with gensim api \n",
        "import gensim.downloader as api\n",
        "model_gensim = api.load(\"glove-wiki-gigaword-100\")"
      ],
      "metadata": {
        "colab": {
          "base_uri": "https://localhost:8080/"
        },
        "id": "dJBUtKZUQMz8",
        "outputId": "1bb37a2d-6ed8-4bec-d84e-f2e59c129ae0"
      },
      "execution_count": null,
      "outputs": [
        {
          "output_type": "stream",
          "name": "stdout",
          "text": [
            "[==================================================] 100.0% 128.1/128.1MB downloaded\n"
          ]
        }
      ]
    },
    {
      "cell_type": "code",
      "source": [
        "embedding_matrix_gensim = np.zeros((len(word2ind), word_vec_size))\n",
        "for word, i in word2ind.items():\n",
        "  if i < len(word2ind):\n",
        "    if word in model_gensim:\n",
        "      embedding_matrix_gensim[i] = model_gensim[word]\n",
        "print(embedding_matrix_gensim[4])"
      ],
      "metadata": {
        "colab": {
          "base_uri": "https://localhost:8080/"
        },
        "id": "mwZgXaqBQV3n",
        "outputId": "38217195-c0e3-4ff9-8807-ae930f9c2099"
      },
      "execution_count": null,
      "outputs": [
        {
          "output_type": "stream",
          "name": "stdout",
          "text": [
            "[-0.1529     -0.24279     0.89837003  0.16996001  0.53516001  0.48784\n",
            " -0.58825999 -0.17982    -1.35810006  0.42541     0.15377     0.24214999\n",
            "  0.13474     0.41192999  0.67043    -0.56418002  0.42985001 -0.012183\n",
            " -0.11677     0.31781     0.054177   -0.054273    0.35516    -0.30241001\n",
            "  0.31434    -0.33846     0.71714997 -0.26855001 -0.15837    -0.47466999\n",
            "  0.051581   -0.33252001  0.15003    -0.12989999 -0.54617    -0.37843001\n",
            "  0.64261001  0.82187003 -0.080006    0.078479   -0.96976    -0.57740998\n",
            "  0.56490999 -0.39873001 -0.057099    0.19743     0.065706   -0.48091999\n",
            " -0.20125    -0.40834001  0.39456001 -0.02642    -0.11838     1.01199996\n",
            " -0.53171003 -2.74740005 -0.042981   -0.74848998  1.75740004  0.59085\n",
            "  0.04885     0.78267002  0.38497001  0.42096999  0.67882001  0.10337\n",
            "  0.63279998 -0.026595    0.58647001 -0.44332001  0.33057001 -0.12022\n",
            " -0.55645001  0.073611    0.20915     0.43395001 -0.012761    0.089874\n",
            " -1.79910004  0.084808    0.77112001  0.63104999 -0.90684998  0.60325998\n",
            " -1.75150001  0.18595999 -0.50686997 -0.70203     0.66578001 -0.81304002\n",
            "  0.18712001 -0.018488   -0.26756999  0.727      -0.59363002 -0.34839001\n",
            " -0.56094003 -0.59100002  1.00390005  0.20664001]\n"
          ]
        }
      ]
    },
    {
      "cell_type": "code",
      "source": [
        "# Create Embedding Matrices and Layers\n",
        "# architecture from https://medium.com/analytics-vidhya/named-entity-recognition-using-deep-learning-elmo-embedding-bi-lstm-48295bc66cab\n",
        "input_shape = Input(shape = (len(train_seq_pad[0]),))\n",
        "\n",
        "max_len = max([len(x) for x in train_seq])\n",
        "tag_len = len(tag2ind)\n",
        "#embedding layer\n",
        "embedding_layer = Embedding(\n",
        "    len(word2ind),\n",
        "    word_vec_size,\n",
        "    weights=[embedding_matrix],\n",
        "    input_length=max_len,\n",
        "    trainable=False\n",
        "  ) (input_shape)\n",
        "x = Bidirectional(LSTM(units=128, return_sequences=True,\n",
        "                       recurrent_dropout=0.2, dropout=0.2))(embedding_layer)\n",
        "#x_rnn = Bidirectional(LSTM(units=128, return_sequences=True, recurrent_dropout=0.2, dropout=0.2))(x_rnn)\n",
        "#x = add([x, x_rnn])  # residual connection to the first biLSTM\n",
        "x = Dense(64,activation = \"sigmoid\")(x)\n",
        "\n",
        "out = TimeDistributed(Dense(tag_len, activation=\"softmax\"))(x)\n",
        "\n"
      ],
      "metadata": {
        "id": "h1rZ6jb18cpl"
      },
      "execution_count": null,
      "outputs": []
    },
    {
      "cell_type": "code",
      "source": [
        "embedding_matrix.shape"
      ],
      "metadata": {
        "colab": {
          "base_uri": "https://localhost:8080/"
        },
        "id": "70lJuZH0qG-v",
        "outputId": "287573f6-a463-4f4f-9004-675f55f8aebb"
      },
      "execution_count": null,
      "outputs": [
        {
          "output_type": "execute_result",
          "data": {
            "text/plain": [
              "(21010, 100)"
            ]
          },
          "metadata": {},
          "execution_count": 21
        }
      ]
    },
    {
      "cell_type": "code",
      "source": [
        "embedding_matrix_w2v.shape"
      ],
      "metadata": {
        "colab": {
          "base_uri": "https://localhost:8080/"
        },
        "id": "xA92-j1NsUrC",
        "outputId": "21186aa4-84c6-4d58-f710-dbc0eec05021"
      },
      "execution_count": null,
      "outputs": [
        {
          "output_type": "execute_result",
          "data": {
            "text/plain": [
              "(21010, 100)"
            ]
          },
          "metadata": {},
          "execution_count": 25
        }
      ]
    },
    {
      "cell_type": "code",
      "source": [
        "embedding_matrix_gensim.shape"
      ],
      "metadata": {
        "colab": {
          "base_uri": "https://localhost:8080/"
        },
        "id": "dCKV3la2sXNx",
        "outputId": "7f7fc35e-f5e2-4652-c072-3fbaaded7746"
      },
      "execution_count": null,
      "outputs": [
        {
          "output_type": "execute_result",
          "data": {
            "text/plain": [
              "(21010, 100)"
            ]
          },
          "metadata": {},
          "execution_count": 23
        }
      ]
    },
    {
      "cell_type": "code",
      "source": [
        "# ****** Hyperparameter Tuning ******\n",
        "import itertools\n",
        "matrices=[embedding_matrix, embedding_matrix_w2v, embedding_matrix_gensim]\n",
        "matrix_inds=[0,1,2]\n",
        "dense_ns = [64, 128]\n",
        "lstm_ns = [128, 64]\n",
        "\n",
        "a=[matrix_inds,dense_ns, lstm_ns]\n",
        "\n",
        "accs = []\n",
        "combinations = []\n",
        "models = []\n",
        "max_model = 0\n",
        "max_acc = 0\n",
        "count = 0\n",
        "\n",
        "input_shape = Input(shape = (len(train_seq_pad[0]),))\n",
        "\n",
        "max_len = max([len(x) for x in train_seq])\n",
        "tag_len = len(tag2ind)\n",
        "\n",
        "for comb in list(itertools.product(*a)):\n",
        "\n",
        "  embedding_layer = Embedding(\n",
        "      len(word2ind),\n",
        "      word_vec_size,\n",
        "      weights=[ matrices[comb[0]] ],\n",
        "      input_length=max_len,\n",
        "      trainable=False\n",
        "    ) (input_shape)\n",
        "  x = Bidirectional(LSTM(units=comb[2], return_sequences=True,\n",
        "                        recurrent_dropout=0.2, dropout=0.2))(embedding_layer)\n",
        "  #x_rnn = Bidirectional(LSTM(units=128, return_sequences=True, recurrent_dropout=0.2, dropout=0.2))(x_rnn)\n",
        "  #x = add([x, x_rnn])  # residual connection to the first biLSTM\n",
        "  x = Dense(comb[1],activation = \"sigmoid\")(x)\n",
        "\n",
        "  out = TimeDistributed(Dense(tag_len, activation=\"softmax\"))(x)\n",
        "  model = Model(input_shape, out)\n",
        "  model.compile(optimizer=\"adam\", loss=\"sparse_categorical_crossentropy\", metrics=[\"accuracy\"])\n",
        "  #print(model.summary())\n",
        "\n",
        "  model_res = model.fit(train_seq_pad, train_seq_pad_l, validation_data = (val_seq_pad,val_seq_pad_l) , batch_size = 500, epochs = 4, verbose = 1)\n",
        "  val_acc = model_res.history[\"val_accuracy\"][-1]\n",
        "  print(\"Validation accuracy for \",comb, \" is: \", val_acc)\n",
        "  accs.append(val_acc)\n",
        "  models.append(model)\n",
        "  combinations.append(comb)\n",
        "  if val_acc > max_acc:\n",
        "    max_model = count\n",
        "  count+=1\n",
        "\n"
      ],
      "metadata": {
        "id": "o7ki3HM0zndn",
        "colab": {
          "base_uri": "https://localhost:8080/"
        },
        "outputId": "184f57f4-a110-421c-b41d-ffa5791aaf72"
      },
      "execution_count": null,
      "outputs": [
        {
          "output_type": "stream",
          "name": "stdout",
          "text": [
            "WARNING:tensorflow:Layer lstm_6 will not use cuDNN kernels since it doesn't meet the criteria. It will use a generic GPU kernel as fallback when running on GPU.\n",
            "WARNING:tensorflow:Layer lstm_6 will not use cuDNN kernels since it doesn't meet the criteria. It will use a generic GPU kernel as fallback when running on GPU.\n",
            "WARNING:tensorflow:Layer lstm_6 will not use cuDNN kernels since it doesn't meet the criteria. It will use a generic GPU kernel as fallback when running on GPU.\n",
            "Epoch 1/4\n",
            "30/30 [==============================] - 31s 908ms/step - loss: 1.5252 - accuracy: 0.5382 - val_loss: 0.5130 - val_accuracy: 0.8335\n",
            "Epoch 2/4\n",
            "30/30 [==============================] - 24s 786ms/step - loss: 0.3425 - accuracy: 0.9142 - val_loss: 0.2653 - val_accuracy: 0.9430\n",
            "Epoch 3/4\n",
            "30/30 [==============================] - 24s 800ms/step - loss: 0.2207 - accuracy: 0.9550 - val_loss: 0.2176 - val_accuracy: 0.9538\n",
            "Epoch 4/4\n",
            "30/30 [==============================] - 24s 810ms/step - loss: 0.1757 - accuracy: 0.9659 - val_loss: 0.1939 - val_accuracy: 0.9595\n",
            "Validation accuracy for  (0, 64, 128)  is:  0.9595152735710144\n",
            "WARNING:tensorflow:Layer lstm_7 will not use cuDNN kernels since it doesn't meet the criteria. It will use a generic GPU kernel as fallback when running on GPU.\n",
            "WARNING:tensorflow:Layer lstm_7 will not use cuDNN kernels since it doesn't meet the criteria. It will use a generic GPU kernel as fallback when running on GPU.\n",
            "WARNING:tensorflow:Layer lstm_7 will not use cuDNN kernels since it doesn't meet the criteria. It will use a generic GPU kernel as fallback when running on GPU.\n",
            "Epoch 1/4\n",
            "30/30 [==============================] - 29s 780ms/step - loss: 1.0013 - accuracy: 0.6017 - val_loss: 0.3135 - val_accuracy: 0.9074\n",
            "Epoch 2/4\n",
            "30/30 [==============================] - 23s 763ms/step - loss: 0.2150 - accuracy: 0.9520 - val_loss: 0.1920 - val_accuracy: 0.9576\n",
            "Epoch 3/4\n",
            "30/30 [==============================] - 23s 758ms/step - loss: 0.1541 - accuracy: 0.9684 - val_loss: 0.1796 - val_accuracy: 0.9600\n",
            "Epoch 4/4\n",
            "30/30 [==============================] - 24s 810ms/step - loss: 0.1372 - accuracy: 0.9711 - val_loss: 0.1720 - val_accuracy: 0.9613\n",
            "Validation accuracy for  (0, 64, 64)  is:  0.9613358378410339\n",
            "WARNING:tensorflow:Layer lstm_8 will not use cuDNN kernels since it doesn't meet the criteria. It will use a generic GPU kernel as fallback when running on GPU.\n",
            "WARNING:tensorflow:Layer lstm_8 will not use cuDNN kernels since it doesn't meet the criteria. It will use a generic GPU kernel as fallback when running on GPU.\n",
            "WARNING:tensorflow:Layer lstm_8 will not use cuDNN kernels since it doesn't meet the criteria. It will use a generic GPU kernel as fallback when running on GPU.\n",
            "Epoch 1/4\n",
            "30/30 [==============================] - 28s 802ms/step - loss: 1.2334 - accuracy: 0.5928 - val_loss: 0.3633 - val_accuracy: 0.8929\n",
            "Epoch 2/4\n",
            "30/30 [==============================] - 23s 778ms/step - loss: 0.2321 - accuracy: 0.9376 - val_loss: 0.1868 - val_accuracy: 0.9548\n",
            "Epoch 3/4\n",
            "30/30 [==============================] - 23s 773ms/step - loss: 0.1464 - accuracy: 0.9659 - val_loss: 0.1703 - val_accuracy: 0.9594\n",
            "Epoch 4/4\n",
            "30/30 [==============================] - 24s 795ms/step - loss: 0.1318 - accuracy: 0.9697 - val_loss: 0.1675 - val_accuracy: 0.9610\n",
            "Validation accuracy for  (0, 128, 128)  is:  0.9609578847885132\n",
            "WARNING:tensorflow:Layer lstm_9 will not use cuDNN kernels since it doesn't meet the criteria. It will use a generic GPU kernel as fallback when running on GPU.\n",
            "WARNING:tensorflow:Layer lstm_9 will not use cuDNN kernels since it doesn't meet the criteria. It will use a generic GPU kernel as fallback when running on GPU.\n",
            "WARNING:tensorflow:Layer lstm_9 will not use cuDNN kernels since it doesn't meet the criteria. It will use a generic GPU kernel as fallback when running on GPU.\n",
            "Epoch 1/4\n",
            "30/30 [==============================] - 27s 776ms/step - loss: 0.7172 - accuracy: 0.8272 - val_loss: 0.2328 - val_accuracy: 0.9303\n",
            "Epoch 2/4\n",
            "30/30 [==============================] - 23s 768ms/step - loss: 0.1585 - accuracy: 0.9606 - val_loss: 0.1717 - val_accuracy: 0.9604\n",
            "Epoch 3/4\n",
            "30/30 [==============================] - 23s 762ms/step - loss: 0.1276 - accuracy: 0.9705 - val_loss: 0.1652 - val_accuracy: 0.9619\n",
            "Epoch 4/4\n",
            "30/30 [==============================] - 24s 819ms/step - loss: 0.1190 - accuracy: 0.9720 - val_loss: 0.1655 - val_accuracy: 0.9626\n",
            "Validation accuracy for  (0, 128, 64)  is:  0.9625735878944397\n",
            "WARNING:tensorflow:Layer lstm_10 will not use cuDNN kernels since it doesn't meet the criteria. It will use a generic GPU kernel as fallback when running on GPU.\n",
            "WARNING:tensorflow:Layer lstm_10 will not use cuDNN kernels since it doesn't meet the criteria. It will use a generic GPU kernel as fallback when running on GPU.\n",
            "WARNING:tensorflow:Layer lstm_10 will not use cuDNN kernels since it doesn't meet the criteria. It will use a generic GPU kernel as fallback when running on GPU.\n",
            "Epoch 1/4\n",
            "30/30 [==============================] - 28s 797ms/step - loss: 0.6614 - accuracy: 0.9224 - val_loss: 0.1697 - val_accuracy: 0.9637\n",
            "Epoch 2/4\n",
            "30/30 [==============================] - 24s 786ms/step - loss: 0.1271 - accuracy: 0.9737 - val_loss: 0.1566 - val_accuracy: 0.9639\n",
            "Epoch 3/4\n",
            "30/30 [==============================] - 24s 796ms/step - loss: 0.1106 - accuracy: 0.9747 - val_loss: 0.1538 - val_accuracy: 0.9641\n",
            "Epoch 4/4\n",
            "30/30 [==============================] - 24s 809ms/step - loss: 0.1019 - accuracy: 0.9750 - val_loss: 0.1540 - val_accuracy: 0.9641\n",
            "Validation accuracy for  (1, 64, 128)  is:  0.9640681147575378\n",
            "WARNING:tensorflow:Layer lstm_11 will not use cuDNN kernels since it doesn't meet the criteria. It will use a generic GPU kernel as fallback when running on GPU.\n",
            "WARNING:tensorflow:Layer lstm_11 will not use cuDNN kernels since it doesn't meet the criteria. It will use a generic GPU kernel as fallback when running on GPU.\n",
            "WARNING:tensorflow:Layer lstm_11 will not use cuDNN kernels since it doesn't meet the criteria. It will use a generic GPU kernel as fallback when running on GPU.\n",
            "Epoch 1/4\n",
            "30/30 [==============================] - 27s 784ms/step - loss: 1.3298 - accuracy: 0.4850 - val_loss: 0.2810 - val_accuracy: 0.9396\n",
            "Epoch 2/4\n",
            "30/30 [==============================] - 23s 772ms/step - loss: 0.1739 - accuracy: 0.9673 - val_loss: 0.1785 - val_accuracy: 0.9636\n",
            "Epoch 3/4\n",
            "30/30 [==============================] - 23s 759ms/step - loss: 0.1343 - accuracy: 0.9736 - val_loss: 0.1668 - val_accuracy: 0.9638\n",
            "Epoch 4/4\n",
            "30/30 [==============================] - 23s 765ms/step - loss: 0.1221 - accuracy: 0.9745 - val_loss: 0.1629 - val_accuracy: 0.9639\n",
            "Validation accuracy for  (1, 64, 64)  is:  0.9639440178871155\n",
            "WARNING:tensorflow:Layer lstm_12 will not use cuDNN kernels since it doesn't meet the criteria. It will use a generic GPU kernel as fallback when running on GPU.\n",
            "WARNING:tensorflow:Layer lstm_12 will not use cuDNN kernels since it doesn't meet the criteria. It will use a generic GPU kernel as fallback when running on GPU.\n",
            "WARNING:tensorflow:Layer lstm_12 will not use cuDNN kernels since it doesn't meet the criteria. It will use a generic GPU kernel as fallback when running on GPU.\n",
            "Epoch 1/4\n",
            "30/30 [==============================] - 29s 822ms/step - loss: 0.6392 - accuracy: 0.8072 - val_loss: 0.1779 - val_accuracy: 0.9633\n",
            "Epoch 2/4\n",
            "30/30 [==============================] - 24s 808ms/step - loss: 0.1158 - accuracy: 0.9737 - val_loss: 0.1504 - val_accuracy: 0.9639\n",
            "Epoch 3/4\n",
            "30/30 [==============================] - 24s 789ms/step - loss: 0.1004 - accuracy: 0.9746 - val_loss: 0.1511 - val_accuracy: 0.9640\n",
            "Epoch 4/4\n",
            "30/30 [==============================] - 25s 830ms/step - loss: 0.0926 - accuracy: 0.9751 - val_loss: 0.1514 - val_accuracy: 0.9641\n",
            "Validation accuracy for  (1, 128, 128)  is:  0.9641200304031372\n",
            "WARNING:tensorflow:Layer lstm_13 will not use cuDNN kernels since it doesn't meet the criteria. It will use a generic GPU kernel as fallback when running on GPU.\n",
            "WARNING:tensorflow:Layer lstm_13 will not use cuDNN kernels since it doesn't meet the criteria. It will use a generic GPU kernel as fallback when running on GPU.\n",
            "WARNING:tensorflow:Layer lstm_13 will not use cuDNN kernels since it doesn't meet the criteria. It will use a generic GPU kernel as fallback when running on GPU.\n",
            "Epoch 1/4\n",
            "30/30 [==============================] - 27s 775ms/step - loss: 0.7575 - accuracy: 0.8797 - val_loss: 0.1907 - val_accuracy: 0.9597\n",
            "Epoch 2/4\n",
            "30/30 [==============================] - 23s 770ms/step - loss: 0.1244 - accuracy: 0.9732 - val_loss: 0.1516 - val_accuracy: 0.9638\n",
            "Epoch 3/4\n",
            "30/30 [==============================] - 23s 774ms/step - loss: 0.1046 - accuracy: 0.9745 - val_loss: 0.1513 - val_accuracy: 0.9640\n",
            "Epoch 4/4\n",
            "30/30 [==============================] - 23s 763ms/step - loss: 0.0963 - accuracy: 0.9750 - val_loss: 0.1523 - val_accuracy: 0.9641\n",
            "Validation accuracy for  (1, 128, 64)  is:  0.9640998244285583\n",
            "WARNING:tensorflow:Layer lstm_14 will not use cuDNN kernels since it doesn't meet the criteria. It will use a generic GPU kernel as fallback when running on GPU.\n",
            "WARNING:tensorflow:Layer lstm_14 will not use cuDNN kernels since it doesn't meet the criteria. It will use a generic GPU kernel as fallback when running on GPU.\n",
            "WARNING:tensorflow:Layer lstm_14 will not use cuDNN kernels since it doesn't meet the criteria. It will use a generic GPU kernel as fallback when running on GPU.\n",
            "Epoch 1/4\n",
            "30/30 [==============================] - 28s 818ms/step - loss: 0.7236 - accuracy: 0.9184 - val_loss: 0.2068 - val_accuracy: 0.9530\n",
            "Epoch 2/4\n",
            "30/30 [==============================] - 25s 833ms/step - loss: 0.1412 - accuracy: 0.9703 - val_loss: 0.1592 - val_accuracy: 0.9640\n",
            "Epoch 3/4\n",
            "30/30 [==============================] - 24s 782ms/step - loss: 0.1200 - accuracy: 0.9742 - val_loss: 0.1574 - val_accuracy: 0.9642\n",
            "Epoch 4/4\n",
            "30/30 [==============================] - 23s 775ms/step - loss: 0.1089 - accuracy: 0.9746 - val_loss: 0.1513 - val_accuracy: 0.9643\n",
            "Validation accuracy for  (2, 64, 128)  is:  0.9643133282661438\n",
            "WARNING:tensorflow:Layer lstm_15 will not use cuDNN kernels since it doesn't meet the criteria. It will use a generic GPU kernel as fallback when running on GPU.\n",
            "WARNING:tensorflow:Layer lstm_15 will not use cuDNN kernels since it doesn't meet the criteria. It will use a generic GPU kernel as fallback when running on GPU.\n",
            "WARNING:tensorflow:Layer lstm_15 will not use cuDNN kernels since it doesn't meet the criteria. It will use a generic GPU kernel as fallback when running on GPU.\n",
            "Epoch 1/4\n",
            "30/30 [==============================] - 27s 779ms/step - loss: 1.3270 - accuracy: 0.5904 - val_loss: 0.2964 - val_accuracy: 0.9333\n",
            "Epoch 2/4\n",
            "30/30 [==============================] - 23s 754ms/step - loss: 0.1796 - accuracy: 0.9652 - val_loss: 0.1774 - val_accuracy: 0.9636\n",
            "Epoch 3/4\n",
            "30/30 [==============================] - 23s 768ms/step - loss: 0.1328 - accuracy: 0.9739 - val_loss: 0.1657 - val_accuracy: 0.9642\n",
            "Epoch 4/4\n",
            "30/30 [==============================] - 23s 762ms/step - loss: 0.1211 - accuracy: 0.9746 - val_loss: 0.1596 - val_accuracy: 0.9643\n",
            "Validation accuracy for  (2, 64, 64)  is:  0.9643393158912659\n",
            "WARNING:tensorflow:Layer lstm_16 will not use cuDNN kernels since it doesn't meet the criteria. It will use a generic GPU kernel as fallback when running on GPU.\n",
            "WARNING:tensorflow:Layer lstm_16 will not use cuDNN kernels since it doesn't meet the criteria. It will use a generic GPU kernel as fallback when running on GPU.\n",
            "WARNING:tensorflow:Layer lstm_16 will not use cuDNN kernels since it doesn't meet the criteria. It will use a generic GPU kernel as fallback when running on GPU.\n",
            "Epoch 1/4\n",
            "30/30 [==============================] - 28s 795ms/step - loss: 0.6725 - accuracy: 0.8675 - val_loss: 0.1713 - val_accuracy: 0.9637\n",
            "Epoch 2/4\n",
            "30/30 [==============================] - 23s 770ms/step - loss: 0.1195 - accuracy: 0.9740 - val_loss: 0.1522 - val_accuracy: 0.9643\n",
            "Epoch 3/4\n",
            "30/30 [==============================] - 25s 824ms/step - loss: 0.1037 - accuracy: 0.9747 - val_loss: 0.1467 - val_accuracy: 0.9643\n",
            "Epoch 4/4\n",
            "30/30 [==============================] - 23s 782ms/step - loss: 0.0914 - accuracy: 0.9752 - val_loss: 0.1461 - val_accuracy: 0.9647\n",
            "Validation accuracy for  (2, 128, 128)  is:  0.9646624326705933\n",
            "WARNING:tensorflow:Layer lstm_17 will not use cuDNN kernels since it doesn't meet the criteria. It will use a generic GPU kernel as fallback when running on GPU.\n",
            "WARNING:tensorflow:Layer lstm_17 will not use cuDNN kernels since it doesn't meet the criteria. It will use a generic GPU kernel as fallback when running on GPU.\n",
            "WARNING:tensorflow:Layer lstm_17 will not use cuDNN kernels since it doesn't meet the criteria. It will use a generic GPU kernel as fallback when running on GPU.\n",
            "Epoch 1/4\n",
            "30/30 [==============================] - 27s 776ms/step - loss: 1.2033 - accuracy: 0.7050 - val_loss: 0.2253 - val_accuracy: 0.9431\n",
            "Epoch 2/4\n",
            "30/30 [==============================] - 23s 775ms/step - loss: 0.1495 - accuracy: 0.9703 - val_loss: 0.1610 - val_accuracy: 0.9638\n",
            "Epoch 3/4\n",
            "30/30 [==============================] - 23s 765ms/step - loss: 0.1160 - accuracy: 0.9743 - val_loss: 0.1513 - val_accuracy: 0.9643\n",
            "Epoch 4/4\n",
            "30/30 [==============================] - 23s 761ms/step - loss: 0.1063 - accuracy: 0.9748 - val_loss: 0.1485 - val_accuracy: 0.9644\n",
            "Validation accuracy for  (2, 128, 64)  is:  0.9644172191619873\n"
          ]
        }
      ]
    },
    {
      "cell_type": "code",
      "source": [
        "print(\"Properties of the model with highest accuracy:\\n\")\n",
        "m = [\"Scratch\",\"word2vec\",\"gensim\"]\n",
        "print(\"Embedding matrix:\",m[combinations[max_model][0]])\n",
        "print(\"Dense Layer Size:\",combinations[max_model][1])\n",
        "print(\"LSTM size:\",combinations[max_model][2])\n",
        "print(\"Validaiton accuracy\", accs[max_model])"
      ],
      "metadata": {
        "id": "fSaeCzC0bASL",
        "colab": {
          "base_uri": "https://localhost:8080/"
        },
        "outputId": "f82c595a-75d9-4d73-c988-6d7bf5a08dfb"
      },
      "execution_count": null,
      "outputs": [
        {
          "output_type": "stream",
          "name": "stdout",
          "text": [
            "Properties of the model with highest accuracy:\n",
            "\n",
            "Embedding matrix: gensim\n",
            "Dense Layer Size: 128\n",
            "LSTM size: 64\n",
            "Validaiton accuracy 0.9644172191619873\n"
          ]
        }
      ]
    },
    {
      "cell_type": "code",
      "source": [
        "# Prepare test data\n",
        "tokenizer = Tokenizer()\n",
        "\n",
        "test_words = [[j[0] for j in w] for w in test_data ]\n",
        "print(test_words[:4])\n",
        "tokenizer.fit_on_texts(test_words)\n",
        "test_seq  = tokenizer.texts_to_sequences(test_words) \n",
        "\n",
        "#padding to prepare sequences of same length\n",
        "test_seq_pad  = pad_sequences(test_seq, maxlen=100,padding=\"post\")\n",
        "\n",
        "word_vec_size = 100\n",
        "\n",
        "word2ind = tokenizer.word_index\n",
        "n_unique = len(word2ind)\n",
        "#print(train_seq_pad[:4])\n",
        "\n",
        "#padding the labels \n",
        "tokenizer = Tokenizer()\n",
        "\n",
        "test_labels = [[j[3] for j in w] for w in test_data ]\n",
        "#print(train_labels[:4])\n",
        "tokenizer.fit_on_texts(test_labels)\n",
        "test_seq_l  = tokenizer.texts_to_sequences(test_labels) \n",
        "\n",
        "tag2ind = tokenizer.word_index\n",
        "tag2ind[\"Other\"] = len(tag2ind)\n",
        "print(tag2ind)\n",
        "print(test_seq_l[:4])\n",
        "#padding to prepare sequences of same length\n",
        "test_seq_pad_l = pad_sequences(test_seq_l, maxlen=100, value = tag2ind[\"Other\"],padding=\"post\")\n",
        "\n",
        "print(test_seq_pad_l[:4])"
      ],
      "metadata": {
        "colab": {
          "base_uri": "https://localhost:8080/"
        },
        "id": "t0fQYv7TbNRz",
        "outputId": "0d7f0cc6-fe5c-4f32-95fe-70c2b76003c6"
      },
      "execution_count": null,
      "outputs": [
        {
          "output_type": "stream",
          "name": "stdout",
          "text": [
            "[['-DOCSTART-'], ['SOCCER', '-', 'JAPAN', 'GET', 'LUCKY', 'WIN', ',', 'CHINA', 'IN', 'SURPRISE', 'DEFEAT', '.'], ['Nadim', 'Ladki'], ['AL-AIN', ',', 'United', 'Arab', 'Emirates', '1996-12-06']]\n",
            "{'o': 1, 'b-loc': 2, 'b-org': 3, 'b-per': 4, 'i-per': 5, 'i-org': 6, 'b-misc': 7, 'i-loc': 8, 'i-misc': 9, 'Other': 9}\n",
            "[[1], [1, 1, 2, 1, 1, 1, 1, 4, 1, 1, 1, 1], [4, 5], [2, 1, 2, 8, 8, 1]]\n",
            "[[1 9 9 9 9 9 9 9 9 9 9 9 9 9 9 9 9 9 9 9 9 9 9 9 9 9 9 9 9 9 9 9 9 9 9 9\n",
            "  9 9 9 9 9 9 9 9 9 9 9 9 9 9 9 9 9 9 9 9 9 9 9 9 9 9 9 9 9 9 9 9 9 9 9 9\n",
            "  9 9 9 9 9 9 9 9 9 9 9 9 9 9 9 9 9 9 9 9 9 9 9 9 9 9 9 9]\n",
            " [1 1 2 1 1 1 1 4 1 1 1 1 9 9 9 9 9 9 9 9 9 9 9 9 9 9 9 9 9 9 9 9 9 9 9 9\n",
            "  9 9 9 9 9 9 9 9 9 9 9 9 9 9 9 9 9 9 9 9 9 9 9 9 9 9 9 9 9 9 9 9 9 9 9 9\n",
            "  9 9 9 9 9 9 9 9 9 9 9 9 9 9 9 9 9 9 9 9 9 9 9 9 9 9 9 9]\n",
            " [4 5 9 9 9 9 9 9 9 9 9 9 9 9 9 9 9 9 9 9 9 9 9 9 9 9 9 9 9 9 9 9 9 9 9 9\n",
            "  9 9 9 9 9 9 9 9 9 9 9 9 9 9 9 9 9 9 9 9 9 9 9 9 9 9 9 9 9 9 9 9 9 9 9 9\n",
            "  9 9 9 9 9 9 9 9 9 9 9 9 9 9 9 9 9 9 9 9 9 9 9 9 9 9 9 9]\n",
            " [2 1 2 8 8 1 9 9 9 9 9 9 9 9 9 9 9 9 9 9 9 9 9 9 9 9 9 9 9 9 9 9 9 9 9 9\n",
            "  9 9 9 9 9 9 9 9 9 9 9 9 9 9 9 9 9 9 9 9 9 9 9 9 9 9 9 9 9 9 9 9 9 9 9 9\n",
            "  9 9 9 9 9 9 9 9 9 9 9 9 9 9 9 9 9 9 9 9 9 9 9 9 9 9 9 9]]\n"
          ]
        }
      ]
    },
    {
      "cell_type": "code",
      "source": [
        "# Prediction\n",
        "\n",
        "preds = models[max_model].predict(test_seq_pad)\n",
        "preds"
      ],
      "metadata": {
        "id": "6DbhQz268cs8"
      },
      "execution_count": null,
      "outputs": []
    },
    {
      "cell_type": "code",
      "source": [
        "preds[1,0]"
      ],
      "metadata": {
        "colab": {
          "base_uri": "https://localhost:8080/"
        },
        "id": "JcnADn8C4QMT",
        "outputId": "ad881e88-724a-4e5c-b1a9-ff43c7783065"
      },
      "execution_count": null,
      "outputs": [
        {
          "output_type": "execute_result",
          "data": {
            "text/plain": [
              "array([0.00380317, 0.84374505, 0.03193357, 0.02765813, 0.02440799,\n",
              "       0.01627332, 0.01718599, 0.01341335, 0.00822308, 0.01335635],\n",
              "      dtype=float32)"
            ]
          },
          "metadata": {},
          "execution_count": 84
        }
      ]
    },
    {
      "cell_type": "code",
      "source": [
        "#preds[0][0]-> word ner prob\n",
        "preds_maxed = np.zeros(preds.shape[0:2])\n",
        "for iy, ix,iz in np.ndindex(preds.shape):\n",
        "  preds_maxed[iy,ix] = preds[iy,ix].argmax()\n",
        "print(preds_maxed[0,1])"
      ],
      "metadata": {
        "colab": {
          "base_uri": "https://localhost:8080/"
        },
        "id": "vIxlLibw3O8z",
        "outputId": "cddaa394-29bb-4575-ee70-1a683b10424e"
      },
      "execution_count": null,
      "outputs": [
        {
          "output_type": "stream",
          "name": "stdout",
          "text": [
            "9.0\n"
          ]
        }
      ]
    },
    {
      "cell_type": "code",
      "source": [
        "# define a function to remove paddings and align labels and tokens\n",
        "def align_predictions(predictions:np.array):\n",
        "  pr = list(predictions)\n",
        "\n",
        "  for j in range(len(pr)):\n",
        "    for k in range(len(pr[x])):\n",
        "      pr[j][k] = np.delete(predictions[j], np.where(predictions[j] == 9))\n",
        "  for iy, ix in np.ndindex(predictions.shape):\n",
        "    predictions[iy] = np.delete(predictions[iy], np.where(predictions[iy] == 9))\n",
        "  return predictions\n",
        "\n",
        "preds_aligned = align_predictions(preds_maxed)\n"
      ],
      "metadata": {
        "id": "Kv-rwcFKU0G3",
        "colab": {
          "base_uri": "https://localhost:8080/",
          "height": 317
        },
        "outputId": "d41f77f0-7762-4aee-96b9-d76301b93320"
      },
      "execution_count": null,
      "outputs": [
        {
          "output_type": "error",
          "ename": "ValueError",
          "evalue": "ignored",
          "traceback": [
            "\u001b[0;31m---------------------------------------------------------------------------\u001b[0m",
            "\u001b[0;31mValueError\u001b[0m                                Traceback (most recent call last)",
            "\u001b[0;32m<ipython-input-86-3493162144ca>\u001b[0m in \u001b[0;36m<module>\u001b[0;34m()\u001b[0m\n\u001b[1;32m      5\u001b[0m   \u001b[0;32mreturn\u001b[0m \u001b[0mpredictions\u001b[0m\u001b[0;34m\u001b[0m\u001b[0;34m\u001b[0m\u001b[0m\n\u001b[1;32m      6\u001b[0m \u001b[0;34m\u001b[0m\u001b[0m\n\u001b[0;32m----> 7\u001b[0;31m \u001b[0mpreds_aligned\u001b[0m \u001b[0;34m=\u001b[0m \u001b[0malign_predictions\u001b[0m\u001b[0;34m(\u001b[0m\u001b[0mpreds_maxed\u001b[0m\u001b[0;34m)\u001b[0m\u001b[0;34m\u001b[0m\u001b[0;34m\u001b[0m\u001b[0m\n\u001b[0m",
            "\u001b[0;32m<ipython-input-86-3493162144ca>\u001b[0m in \u001b[0;36malign_predictions\u001b[0;34m(predictions)\u001b[0m\n\u001b[1;32m      2\u001b[0m \u001b[0;32mdef\u001b[0m \u001b[0malign_predictions\u001b[0m\u001b[0;34m(\u001b[0m\u001b[0mpredictions\u001b[0m\u001b[0;34m:\u001b[0m\u001b[0mnp\u001b[0m\u001b[0;34m.\u001b[0m\u001b[0marray\u001b[0m\u001b[0;34m)\u001b[0m\u001b[0;34m:\u001b[0m\u001b[0;34m\u001b[0m\u001b[0;34m\u001b[0m\u001b[0m\n\u001b[1;32m      3\u001b[0m   \u001b[0;32mfor\u001b[0m \u001b[0miy\u001b[0m\u001b[0;34m,\u001b[0m \u001b[0mix\u001b[0m \u001b[0;32min\u001b[0m \u001b[0mnp\u001b[0m\u001b[0;34m.\u001b[0m\u001b[0mndindex\u001b[0m\u001b[0;34m(\u001b[0m\u001b[0mpredictions\u001b[0m\u001b[0;34m.\u001b[0m\u001b[0mshape\u001b[0m\u001b[0;34m)\u001b[0m\u001b[0;34m:\u001b[0m\u001b[0;34m\u001b[0m\u001b[0;34m\u001b[0m\u001b[0m\n\u001b[0;32m----> 4\u001b[0;31m     \u001b[0mpredictions\u001b[0m\u001b[0;34m[\u001b[0m\u001b[0miy\u001b[0m\u001b[0;34m]\u001b[0m \u001b[0;34m=\u001b[0m \u001b[0mnp\u001b[0m\u001b[0;34m.\u001b[0m\u001b[0mdelete\u001b[0m\u001b[0;34m(\u001b[0m\u001b[0mpredictions\u001b[0m\u001b[0;34m[\u001b[0m\u001b[0miy\u001b[0m\u001b[0;34m]\u001b[0m\u001b[0;34m,\u001b[0m \u001b[0mnp\u001b[0m\u001b[0;34m.\u001b[0m\u001b[0mwhere\u001b[0m\u001b[0;34m(\u001b[0m\u001b[0mpredictions\u001b[0m\u001b[0;34m[\u001b[0m\u001b[0miy\u001b[0m\u001b[0;34m]\u001b[0m \u001b[0;34m==\u001b[0m \u001b[0;36m9\u001b[0m\u001b[0;34m)\u001b[0m\u001b[0;34m)\u001b[0m\u001b[0;34m\u001b[0m\u001b[0;34m\u001b[0m\u001b[0m\n\u001b[0m\u001b[1;32m      5\u001b[0m   \u001b[0;32mreturn\u001b[0m \u001b[0mpredictions\u001b[0m\u001b[0;34m\u001b[0m\u001b[0;34m\u001b[0m\u001b[0m\n\u001b[1;32m      6\u001b[0m \u001b[0;34m\u001b[0m\u001b[0m\n",
            "\u001b[0;31mValueError\u001b[0m: could not broadcast input array from shape (12,) into shape (100,)"
          ]
        }
      ]
    },
    {
      "cell_type": "code",
      "source": [
        "# Evaluate your models with functions of seqeval library\n",
        "\n",
        "\n",
        "\n",
        "\n",
        "\n",
        "\n",
        "\n"
      ],
      "metadata": {
        "id": "zzEkCwJ58cvh"
      },
      "execution_count": null,
      "outputs": []
    },
    {
      "cell_type": "code",
      "source": [
        "# ...."
      ],
      "metadata": {
        "id": "iyU-zQLx8cx9"
      },
      "execution_count": null,
      "outputs": []
    },
    {
      "cell_type": "markdown",
      "source": [
        "## My Report\n",
        "\n",
        "\n",
        "In this project we had to perform named entity recognition based on two approaches, namely Conditional Random Fields and Recurrent Neural Networks. The data that we have utilized for this task is from Reuters and consists of various articles in English, that specifically contain various names of persons, organizations, locations, and miscellaneous entities.\n",
        "\n",
        "All the data were presented as words with their tags in the format (word, postag, chunktag, ner tag). The training data consisted of 14987 words that were tagged in the same format, the validation had 3466 samples and the test set had 3684. \n",
        "\n",
        "Also to complement the tagging process, as part of the CRF stages, we have utilized a wide source of Wikipedia articles and fetched links that contained named entities. There were more than 25000 wikipedia articles and for each of them, using regular expression, the titles of pages that contained information regarding named entities were fetched and a gazetteer of size 244670 was created, to be used as a feature for the CRF tagging.\n",
        "\n",
        "The CRF taggin part utilized the features that were identified by iterating over the sets and identifying values for all features. Some example features were: \n",
        "- Stem\n",
        "- POS tag\n",
        "- Chunk tag\n",
        "- Start of the Sentence\n",
        "- End of the Sentence\n",
        "- Starts with an uppercase letter\n",
        "- 𝑤𝑖’s shape\n",
        "- 𝑤𝑖’s short word shape\n",
        "- 𝑤𝑖 contains a number\n",
        "\n",
        "Besides such examples, we have also repeated some features for the words that were to the left and right of the word that was being inspected.\n",
        "To test the CRF model, we have one by one included the features, building up the list to its fullest. The top 3 scoring models were the last three additions, namely:\n",
        "\n",
        "| Feature Name | F1 | Precision       | Recall |\n",
        "|------------|-------------|--------------|----------|\n",
        "| Stem     | 0.979061 | 0.979007    | 0.979255    | \n",
        "| Left-posttag     | 0.979535    | 0.979473 | 0.979720   | \n",
        "| Uppercase      | 0.979754 | 0.979678   | 0.979972   | \n",
        "\n",
        "\n",
        "For the recurrent neural models, we have utilized 3 different embedding matrices to fill our word embedding layer, to ease the identificaiton of relation between words. First one was randomly initialized with values between -1 and 1. The second one utilized a word corpus that was made from scratch using our own training data with the help of Word2Vec function. The last one was using pretrained models from the Gensim library to match and extract embedding vectors with our tokens in our corpus. These weights were then connected to an RNN before outputting.  \n",
        "The architecture was a Bidirectional LSTM layer that operates on an embedding layer as previously mentioned, followed by a dense layer (fully connected) and then another dense layer that performed the label outputting but was wrapped in a Time Distributed layer, so that it updated itself at every processed word, which is a prominent feature of a recurrent neural network in essence.\n",
        "\n",
        "The labels were preprocessed and we switched ner tags with index values, also creating a 9th label to put in place of the padded empty places. \n",
        "\n",
        "The hyperparameter tuning was performed using all of the embedding matrix types. Different hyperparameters tried were as follows: \n",
        "\n",
        "LSTM size = [128, 64],\n",
        "\n",
        "dense layer node size = [64,128].\n",
        "\n",
        "<br>\n",
        "\n",
        "> **Properties of the model with highest accuracy:**\n",
        "- Embedding matrix: gensim\n",
        "- Dense Layer Size: 128\n",
        "- LSTM size: 64\n",
        "- Validaiton accuracy 0.9644172191619873\n",
        "\n",
        "\n",
        "The best model was used to predict the labels and then accuracy metrics were performed, eliminating the previously created extra label. \n",
        " "
      ],
      "metadata": {
        "id": "FDnYCXXEUG_g"
      }
    }
  ]
}